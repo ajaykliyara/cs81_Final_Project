{
 "cells": [
  {
   "cell_type": "code",
   "execution_count": 286,
   "metadata": {
    "collapsed": false
   },
   "outputs": [],
   "source": [
    "import requests\n",
    "import os\n",
    "import pandas as pd\n",
    "import numpy as np\n",
    "import json\n",
    "from dateutil import relativedelta as rdelta\n",
    "from datetime import date\n",
    "from datetime import datetime\n",
    "from afinn import Afinn\n",
    "\n",
    "\n",
    "#sklearn\n",
    "from sklearn.linear_model import LogisticRegression\n",
    "from sklearn.metrics import confusion_matrix,roc_curve, auc\n",
    "from sklearn.preprocessing import StandardScaler\n",
    "\n",
    "#visualization\n",
    "import seaborn as sns\n",
    "import matplotlib.pyplot as plt"
   ]
  },
  {
   "cell_type": "code",
   "execution_count": 22,
   "metadata": {
    "collapsed": false
   },
   "outputs": [],
   "source": [
    "key_df = pd.read_csv(\"/Users/ajaykliyara/Documents/lc_key.txt\",header=None)\n",
    "key = key_df.iloc[:,:].values[0][0]"
   ]
  },
  {
   "cell_type": "code",
   "execution_count": 23,
   "metadata": {
    "collapsed": true
   },
   "outputs": [],
   "source": [
    "s = requests.Session()\n",
    "s.headers.update({'Authorization': key})\n",
    "r = s.get('https://api.lendingclub.com/api/investor/v1/loans/listing')\n"
   ]
  },
  {
   "cell_type": "code",
   "execution_count": 30,
   "metadata": {
    "collapsed": false
   },
   "outputs": [],
   "source": [
    "data = json.loads(r.text)"
   ]
  },
  {
   "cell_type": "code",
   "execution_count": 46,
   "metadata": {
    "collapsed": false
   },
   "outputs": [
    {
     "data": {
      "text/plain": [
       "{'accNowDelinq': 0,\n",
       " 'accOpenPast24Mths': 1,\n",
       " 'acceptD': '2016-11-16T16:13:06.000-08:00',\n",
       " 'addrState': 'NY',\n",
       " 'addrZip': '112xx',\n",
       " 'allUtil': 81.8,\n",
       " 'annualInc': 60000.0,\n",
       " 'annualIncJoint': None,\n",
       " 'applicationType': 'INDIVIDUAL',\n",
       " 'avgCurBal': 2700,\n",
       " 'bcOpenToBuy': 4398,\n",
       " 'bcUtil': 84.7,\n",
       " 'chargeoffWithin12Mths': 0,\n",
       " 'collections12MthsExMed': 0,\n",
       " 'creditPullD': '2016-11-14T09:57:22.000-08:00',\n",
       " 'delinq2Yrs': 0,\n",
       " 'delinqAmnt': 0.0,\n",
       " 'desc': None,\n",
       " 'dti': 12.7,\n",
       " 'dtiJoint': None,\n",
       " 'earliestCrLine': '2002-04-13T17:00:00.000-07:00',\n",
       " 'empLength': 24,\n",
       " 'empTitle': 'security and command center',\n",
       " 'expD': '2016-12-31T16:13:07.000-08:00',\n",
       " 'expDefaultRate': 13.07,\n",
       " 'ficoRangeHigh': 669,\n",
       " 'ficoRangeLow': 665,\n",
       " 'fundedAmount': 9525.0,\n",
       " 'grade': 'D',\n",
       " 'homeOwnership': 'RENT',\n",
       " 'iLUtil': None,\n",
       " 'id': 93693879,\n",
       " 'ilsExpD': '2016-12-10T18:00:00.000-08:00',\n",
       " 'initialListStatus': 'F',\n",
       " 'inqFi': 0,\n",
       " 'inqLast12m': 1,\n",
       " 'inqLast6Mths': 1,\n",
       " 'installment': 1066.71,\n",
       " 'intRate': 21.49,\n",
       " 'investorCount': None,\n",
       " 'isIncV': 'VERIFIED',\n",
       " 'isIncVJoint': None,\n",
       " 'listD': '2016-12-10T18:00:00.000-08:00',\n",
       " 'loanAmount': 28125.0,\n",
       " 'maxBalBc': 6319.0,\n",
       " 'memberId': 100573266,\n",
       " 'moSinOldIlAcct': None,\n",
       " 'moSinOldRevTlOp': 175,\n",
       " 'moSinRcntRevTlOp': 1,\n",
       " 'moSinRcntTl': 1,\n",
       " 'mortAcc': 0,\n",
       " 'mthsSinceLastDelinq': None,\n",
       " 'mthsSinceLastMajorDerog': None,\n",
       " 'mthsSinceLastRecord': None,\n",
       " 'mthsSinceRcntIl': None,\n",
       " 'mthsSinceRecentBc': 1,\n",
       " 'mthsSinceRecentBcDlq': None,\n",
       " 'mthsSinceRecentInq': 1,\n",
       " 'mthsSinceRecentRevolDelinq': None,\n",
       " 'numAcctsEver120Ppd': 0,\n",
       " 'numActvBcTl': 7,\n",
       " 'numActvRevTl': 7,\n",
       " 'numBcSats': 8,\n",
       " 'numBcTl': 14,\n",
       " 'numIlTl': 0,\n",
       " 'numOpRevTl': 9,\n",
       " 'numRevAccts': 15,\n",
       " 'numRevTlBalGt0': 7,\n",
       " 'numSats': 9,\n",
       " 'numTl120dpd2m': 0,\n",
       " 'numTl30dpd': 0,\n",
       " 'numTl90gDpd24m': 0,\n",
       " 'numTlOpPast12m': 1,\n",
       " 'openAcc': 9,\n",
       " 'openAcc6m': 1,\n",
       " 'openIl12m': 0,\n",
       " 'openIl24m': 0,\n",
       " 'openIl6m': 0,\n",
       " 'openRv12m': 1,\n",
       " 'openRv24m': 1,\n",
       " 'pctTlNvrDlq': 100,\n",
       " 'percentBcGt75': 87.5,\n",
       " 'pubRec': 0,\n",
       " 'pubRecBankruptcies': 0,\n",
       " 'purpose': 'debt_consolidation',\n",
       " 'reviewStatus': 'APPROVED',\n",
       " 'reviewStatusD': '2016-12-10T16:24:31.000-08:00',\n",
       " 'revolBal': 24302.0,\n",
       " 'revolUtil': 81.8,\n",
       " 'serviceFeeRate': 1.1,\n",
       " 'subGrade': 'D5',\n",
       " 'taxLiens': 0,\n",
       " 'term': 36,\n",
       " 'totCollAmt': 0,\n",
       " 'totCurBal': 24302,\n",
       " 'totHiCredLim': 29700,\n",
       " 'totalAcc': 15,\n",
       " 'totalBalExMort': 24302,\n",
       " 'totalBalIl': 0.0,\n",
       " 'totalBcLimit': 28700,\n",
       " 'totalCuTl': 0,\n",
       " 'totalIlHighCreditLimit': 0,\n",
       " 'totalRevHiLim': 29700}"
      ]
     },
     "execution_count": 46,
     "metadata": {},
     "output_type": "execute_result"
    }
   ],
   "source": [
    "loan_data = data['loans'][0]\n",
    "loan_data"
   ]
  },
  {
   "cell_type": "code",
   "execution_count": 63,
   "metadata": {
    "collapsed": false
   },
   "outputs": [
    {
     "data": {
      "text/html": [
       "<div>\n",
       "<table border=\"1\" class=\"dataframe\">\n",
       "  <thead>\n",
       "    <tr style=\"text-align: right;\">\n",
       "      <th></th>\n",
       "      <th>accNowDelinq</th>\n",
       "      <th>accOpenPast24Mths</th>\n",
       "      <th>acceptD</th>\n",
       "      <th>addrState</th>\n",
       "      <th>addrZip</th>\n",
       "      <th>allUtil</th>\n",
       "      <th>annualInc</th>\n",
       "      <th>annualIncJoint</th>\n",
       "      <th>applicationType</th>\n",
       "      <th>avgCurBal</th>\n",
       "      <th>...</th>\n",
       "      <th>totCollAmt</th>\n",
       "      <th>totCurBal</th>\n",
       "      <th>totHiCredLim</th>\n",
       "      <th>totalAcc</th>\n",
       "      <th>totalBalExMort</th>\n",
       "      <th>totalBalIl</th>\n",
       "      <th>totalBcLimit</th>\n",
       "      <th>totalCuTl</th>\n",
       "      <th>totalIlHighCreditLimit</th>\n",
       "      <th>totalRevHiLim</th>\n",
       "    </tr>\n",
       "  </thead>\n",
       "  <tbody>\n",
       "    <tr>\n",
       "      <th>0</th>\n",
       "      <td>0</td>\n",
       "      <td>1</td>\n",
       "      <td>2016-11-16T16:13:06.000-08:00</td>\n",
       "      <td>NY</td>\n",
       "      <td>112xx</td>\n",
       "      <td>81.8</td>\n",
       "      <td>60000.0</td>\n",
       "      <td>None</td>\n",
       "      <td>INDIVIDUAL</td>\n",
       "      <td>2700</td>\n",
       "      <td>...</td>\n",
       "      <td>0</td>\n",
       "      <td>24302</td>\n",
       "      <td>29700</td>\n",
       "      <td>15</td>\n",
       "      <td>24302</td>\n",
       "      <td>0.0</td>\n",
       "      <td>28700</td>\n",
       "      <td>0</td>\n",
       "      <td>0</td>\n",
       "      <td>29700</td>\n",
       "    </tr>\n",
       "  </tbody>\n",
       "</table>\n",
       "<p>1 rows × 103 columns</p>\n",
       "</div>"
      ],
      "text/plain": [
       "   accNowDelinq  accOpenPast24Mths                        acceptD addrState  \\\n",
       "0             0                  1  2016-11-16T16:13:06.000-08:00        NY   \n",
       "\n",
       "  addrZip  allUtil  annualInc annualIncJoint applicationType  avgCurBal  \\\n",
       "0   112xx     81.8    60000.0           None      INDIVIDUAL       2700   \n",
       "\n",
       "       ...       totCollAmt  totCurBal  totHiCredLim  totalAcc totalBalExMort  \\\n",
       "0      ...                0      24302         29700        15          24302   \n",
       "\n",
       "   totalBalIl  totalBcLimit totalCuTl  totalIlHighCreditLimit totalRevHiLim  \n",
       "0         0.0         28700         0                       0         29700  \n",
       "\n",
       "[1 rows x 103 columns]"
      ]
     },
     "execution_count": 63,
     "metadata": {},
     "output_type": "execute_result"
    }
   ],
   "source": [
    "loan_df_ini = pd.DataFrame([loan_data])\n",
    "loan_df_ini"
   ]
  },
  {
   "cell_type": "code",
   "execution_count": 303,
   "metadata": {
    "collapsed": true
   },
   "outputs": [],
   "source": [
    "#col list from train data\n",
    "col_list = ['home_ownership', 'verification_status_Not Verified',\n",
    "       'verification_status_Source Verified', 'verification_status_Verified',\n",
    "       'has_delinquent_hist', 'has_record_hist', 'loan_amnt', 'per_act_open',\n",
    "       'inq_last_6mths', 'avg_fico', 'revol_util', 'revol_bal', 'dti',\n",
    "       'years_since_first_credit', 'int_rate', 'emp_length',\n",
    "       'desc_senti_score', 'zip_median_income', 'zip_pop', 'delinq_2yrs',\n",
    "       'grade_A', 'grade_B', 'grade_C', 'grade_D', 'grade_E', 'grade_F',\n",
    "       'grade_G', 'term_ 36 months', 'term_ 60 months', 'purpose_car',\n",
    "       'purpose_credit_card', 'purpose_debt_consolidation',\n",
    "       'purpose_educational', 'purpose_home_improvement', 'purpose_house',\n",
    "       'purpose_major_purchase', 'purpose_medical', 'purpose_moving',\n",
    "       'purpose_other', 'purpose_renewable_energy', 'purpose_small_business',\n",
    "       'purpose_vacation', 'purpose_wedding', 'bankruptcies']"
   ]
  },
  {
   "cell_type": "code",
   "execution_count": 304,
   "metadata": {
    "collapsed": true
   },
   "outputs": [],
   "source": [
    "#loan_df = pd.DataFrame(columns=col_list)\n",
    "loan_df = pd.DataFrame()"
   ]
  },
  {
   "cell_type": "code",
   "execution_count": 305,
   "metadata": {
    "collapsed": false
   },
   "outputs": [
    {
     "data": {
      "text/html": [
       "<div>\n",
       "<table border=\"1\" class=\"dataframe\">\n",
       "  <thead>\n",
       "    <tr style=\"text-align: right;\">\n",
       "      <th></th>\n",
       "    </tr>\n",
       "  </thead>\n",
       "  <tbody>\n",
       "  </tbody>\n",
       "</table>\n",
       "</div>"
      ],
      "text/plain": [
       "Empty DataFrame\n",
       "Columns: []\n",
       "Index: []"
      ]
     },
     "execution_count": 305,
     "metadata": {},
     "output_type": "execute_result"
    }
   ],
   "source": [
    "loan_df"
   ]
  },
  {
   "cell_type": "code",
   "execution_count": 306,
   "metadata": {
    "collapsed": false
   },
   "outputs": [
    {
     "data": {
      "text/plain": [
       "0    0\n",
       "Name: home_ownership, dtype: int64"
      ]
     },
     "execution_count": 306,
     "metadata": {},
     "output_type": "execute_result"
    }
   ],
   "source": [
    "#home ownership\n",
    "ownership_lookup = {'MORTGAGE': 2, 'NONE': 4, 'OTHER': 3, 'OWN': 1, 'RENT': 0}\n",
    "loan_df['homeOwnership'] = loan_df_ini['homeOwnership']\n",
    "loan_df['homeOwnership'].replace(ownership_lookup, inplace=True)\n",
    "loan_df=loan_df.rename(columns = {'homeOwnership':'home_ownership'})\n",
    "loan_df['home_ownership']"
   ]
  },
  {
   "cell_type": "code",
   "execution_count": 307,
   "metadata": {
    "collapsed": false
   },
   "outputs": [
    {
     "data": {
      "text/plain": [
       "['Verified', 'Not Verified', 'Source Verified']"
      ]
     },
     "execution_count": 307,
     "metadata": {},
     "output_type": "execute_result"
    }
   ],
   "source": [
    "['Verified', 'Not Verified', 'Source Verified']"
   ]
  },
  {
   "cell_type": "code",
   "execution_count": 308,
   "metadata": {
    "collapsed": false
   },
   "outputs": [
    {
     "data": {
      "text/html": [
       "<div>\n",
       "<table border=\"1\" class=\"dataframe\">\n",
       "  <thead>\n",
       "    <tr style=\"text-align: right;\">\n",
       "      <th></th>\n",
       "      <th>home_ownership</th>\n",
       "      <th>verification_status_Not Verified</th>\n",
       "      <th>verification_status_Verified</th>\n",
       "      <th>verification_status_Source Verified</th>\n",
       "    </tr>\n",
       "  </thead>\n",
       "  <tbody>\n",
       "    <tr>\n",
       "      <th>0</th>\n",
       "      <td>0</td>\n",
       "      <td>0</td>\n",
       "      <td>1</td>\n",
       "      <td>0</td>\n",
       "    </tr>\n",
       "  </tbody>\n",
       "</table>\n",
       "</div>"
      ],
      "text/plain": [
       "   home_ownership  verification_status_Not Verified  \\\n",
       "0               0                                 0   \n",
       "\n",
       "   verification_status_Verified  verification_status_Source Verified  \n",
       "0                             1                                    0  "
      ]
     },
     "execution_count": 308,
     "metadata": {},
     "output_type": "execute_result"
    }
   ],
   "source": [
    "#verification status\n",
    "if(str.upper(loan_df_ini['isIncV'].values[0]) == 'NOT VERIFIED'):\n",
    "    loan_df['verification_status_Not Verified'] = 1\n",
    "else:\n",
    "    loan_df['verification_status_Not Verified'] = 0\n",
    "\n",
    "if(str.upper(loan_df_ini['isIncV'].values[0]) == 'VERIFIED'):\n",
    "    loan_df['verification_status_Verified'] = 1\n",
    "else:\n",
    "    loan_df['verification_status_Verified'] = 0\n",
    "\n",
    "if(str.upper(loan_df_ini['isIncV'].values[0]) == 'SOURCE VERIFIED'):\n",
    "    loan_df['verification_status_Source Verified'] = 1\n",
    "else:\n",
    "    loan_df['verification_status_Source Verified'] = 0\n",
    "\n",
    "loan_df"
   ]
  },
  {
   "cell_type": "code",
   "execution_count": 309,
   "metadata": {
    "collapsed": false
   },
   "outputs": [
    {
     "data": {
      "text/html": [
       "<div>\n",
       "<table border=\"1\" class=\"dataframe\">\n",
       "  <thead>\n",
       "    <tr style=\"text-align: right;\">\n",
       "      <th></th>\n",
       "      <th>home_ownership</th>\n",
       "      <th>verification_status_Not Verified</th>\n",
       "      <th>verification_status_Verified</th>\n",
       "      <th>verification_status_Source Verified</th>\n",
       "      <th>has_delinquent_hist</th>\n",
       "    </tr>\n",
       "  </thead>\n",
       "  <tbody>\n",
       "    <tr>\n",
       "      <th>0</th>\n",
       "      <td>0</td>\n",
       "      <td>0</td>\n",
       "      <td>1</td>\n",
       "      <td>0</td>\n",
       "      <td>0</td>\n",
       "    </tr>\n",
       "  </tbody>\n",
       "</table>\n",
       "</div>"
      ],
      "text/plain": [
       "   home_ownership  verification_status_Not Verified  \\\n",
       "0               0                                 0   \n",
       "\n",
       "   verification_status_Verified  verification_status_Source Verified  \\\n",
       "0                             1                                    0   \n",
       "\n",
       "   has_delinquent_hist  \n",
       "0                    0  "
      ]
     },
     "execution_count": 309,
     "metadata": {},
     "output_type": "execute_result"
    }
   ],
   "source": [
    "#has delinq hist\n",
    "#loan_df_ini['mthsSinceLastDelinq'].apply(lambda s : int(~(s==None) or ~np.isnan(s)))\n",
    "loan_df['has_delinquent_hist'] = loan_df_ini['mthsSinceLastDelinq'].apply(lambda s : int(s!=None))\n",
    "loan_df"
   ]
  },
  {
   "cell_type": "code",
   "execution_count": 310,
   "metadata": {
    "collapsed": false
   },
   "outputs": [
    {
     "data": {
      "text/html": [
       "<div>\n",
       "<table border=\"1\" class=\"dataframe\">\n",
       "  <thead>\n",
       "    <tr style=\"text-align: right;\">\n",
       "      <th></th>\n",
       "      <th>home_ownership</th>\n",
       "      <th>verification_status_Not Verified</th>\n",
       "      <th>verification_status_Verified</th>\n",
       "      <th>verification_status_Source Verified</th>\n",
       "      <th>has_delinquent_hist</th>\n",
       "      <th>has_record_hist</th>\n",
       "    </tr>\n",
       "  </thead>\n",
       "  <tbody>\n",
       "    <tr>\n",
       "      <th>0</th>\n",
       "      <td>0</td>\n",
       "      <td>0</td>\n",
       "      <td>1</td>\n",
       "      <td>0</td>\n",
       "      <td>0</td>\n",
       "      <td>0</td>\n",
       "    </tr>\n",
       "  </tbody>\n",
       "</table>\n",
       "</div>"
      ],
      "text/plain": [
       "   home_ownership  verification_status_Not Verified  \\\n",
       "0               0                                 0   \n",
       "\n",
       "   verification_status_Verified  verification_status_Source Verified  \\\n",
       "0                             1                                    0   \n",
       "\n",
       "   has_delinquent_hist  has_record_hist  \n",
       "0                    0                0  "
      ]
     },
     "execution_count": 310,
     "metadata": {},
     "output_type": "execute_result"
    }
   ],
   "source": [
    "#mths_since_last_record\n",
    "loan_df['has_record_hist'] = loan_df_ini['mthsSinceLastRecord'].apply(lambda s : int(s!=None))\n",
    "loan_df\n"
   ]
  },
  {
   "cell_type": "code",
   "execution_count": 311,
   "metadata": {
    "collapsed": false
   },
   "outputs": [
    {
     "data": {
      "text/html": [
       "<div>\n",
       "<table border=\"1\" class=\"dataframe\">\n",
       "  <thead>\n",
       "    <tr style=\"text-align: right;\">\n",
       "      <th></th>\n",
       "      <th>home_ownership</th>\n",
       "      <th>verification_status_Not Verified</th>\n",
       "      <th>verification_status_Verified</th>\n",
       "      <th>verification_status_Source Verified</th>\n",
       "      <th>has_delinquent_hist</th>\n",
       "      <th>has_record_hist</th>\n",
       "      <th>loan_amnt</th>\n",
       "    </tr>\n",
       "  </thead>\n",
       "  <tbody>\n",
       "    <tr>\n",
       "      <th>0</th>\n",
       "      <td>0</td>\n",
       "      <td>0</td>\n",
       "      <td>1</td>\n",
       "      <td>0</td>\n",
       "      <td>0</td>\n",
       "      <td>0</td>\n",
       "      <td>28125.0</td>\n",
       "    </tr>\n",
       "  </tbody>\n",
       "</table>\n",
       "</div>"
      ],
      "text/plain": [
       "   home_ownership  verification_status_Not Verified  \\\n",
       "0               0                                 0   \n",
       "\n",
       "   verification_status_Verified  verification_status_Source Verified  \\\n",
       "0                             1                                    0   \n",
       "\n",
       "   has_delinquent_hist  has_record_hist  loan_amnt  \n",
       "0                    0                0    28125.0  "
      ]
     },
     "execution_count": 311,
     "metadata": {},
     "output_type": "execute_result"
    }
   ],
   "source": [
    "loan_df['loan_amnt'] = loan_df_ini['loanAmount']\n",
    "loan_df"
   ]
  },
  {
   "cell_type": "code",
   "execution_count": 312,
   "metadata": {
    "collapsed": false
   },
   "outputs": [
    {
     "data": {
      "text/html": [
       "<div>\n",
       "<table border=\"1\" class=\"dataframe\">\n",
       "  <thead>\n",
       "    <tr style=\"text-align: right;\">\n",
       "      <th></th>\n",
       "      <th>home_ownership</th>\n",
       "      <th>verification_status_Not Verified</th>\n",
       "      <th>verification_status_Verified</th>\n",
       "      <th>verification_status_Source Verified</th>\n",
       "      <th>has_delinquent_hist</th>\n",
       "      <th>has_record_hist</th>\n",
       "      <th>loan_amnt</th>\n",
       "      <th>per_act_open</th>\n",
       "    </tr>\n",
       "  </thead>\n",
       "  <tbody>\n",
       "    <tr>\n",
       "      <th>0</th>\n",
       "      <td>0</td>\n",
       "      <td>0</td>\n",
       "      <td>1</td>\n",
       "      <td>0</td>\n",
       "      <td>0</td>\n",
       "      <td>0</td>\n",
       "      <td>28125.0</td>\n",
       "      <td>0.6</td>\n",
       "    </tr>\n",
       "  </tbody>\n",
       "</table>\n",
       "</div>"
      ],
      "text/plain": [
       "   home_ownership  verification_status_Not Verified  \\\n",
       "0               0                                 0   \n",
       "\n",
       "   verification_status_Verified  verification_status_Source Verified  \\\n",
       "0                             1                                    0   \n",
       "\n",
       "   has_delinquent_hist  has_record_hist  loan_amnt  per_act_open  \n",
       "0                    0                0    28125.0           0.6  "
      ]
     },
     "execution_count": 312,
     "metadata": {},
     "output_type": "execute_result"
    }
   ],
   "source": [
    "#per_act_open\n",
    "loan_df['per_act_open'] = loan_df_ini.openAcc/loan_df_ini.totalAcc\n",
    "loan_df"
   ]
  },
  {
   "cell_type": "code",
   "execution_count": 313,
   "metadata": {
    "collapsed": false
   },
   "outputs": [
    {
     "data": {
      "text/html": [
       "<div>\n",
       "<table border=\"1\" class=\"dataframe\">\n",
       "  <thead>\n",
       "    <tr style=\"text-align: right;\">\n",
       "      <th></th>\n",
       "      <th>home_ownership</th>\n",
       "      <th>verification_status_Not Verified</th>\n",
       "      <th>verification_status_Verified</th>\n",
       "      <th>verification_status_Source Verified</th>\n",
       "      <th>has_delinquent_hist</th>\n",
       "      <th>has_record_hist</th>\n",
       "      <th>loan_amnt</th>\n",
       "      <th>per_act_open</th>\n",
       "      <th>inq_last_6mths</th>\n",
       "    </tr>\n",
       "  </thead>\n",
       "  <tbody>\n",
       "    <tr>\n",
       "      <th>0</th>\n",
       "      <td>0</td>\n",
       "      <td>0</td>\n",
       "      <td>1</td>\n",
       "      <td>0</td>\n",
       "      <td>0</td>\n",
       "      <td>0</td>\n",
       "      <td>28125.0</td>\n",
       "      <td>0.6</td>\n",
       "      <td>1</td>\n",
       "    </tr>\n",
       "  </tbody>\n",
       "</table>\n",
       "</div>"
      ],
      "text/plain": [
       "   home_ownership  verification_status_Not Verified  \\\n",
       "0               0                                 0   \n",
       "\n",
       "   verification_status_Verified  verification_status_Source Verified  \\\n",
       "0                             1                                    0   \n",
       "\n",
       "   has_delinquent_hist  has_record_hist  loan_amnt  per_act_open  \\\n",
       "0                    0                0    28125.0           0.6   \n",
       "\n",
       "   inq_last_6mths  \n",
       "0               1  "
      ]
     },
     "execution_count": 313,
     "metadata": {},
     "output_type": "execute_result"
    }
   ],
   "source": [
    "#inqLast6Mths \n",
    "loan_df['inq_last_6mths'] = loan_df_ini['inqLast6Mths']\n",
    "loan_df\n"
   ]
  },
  {
   "cell_type": "code",
   "execution_count": 314,
   "metadata": {
    "collapsed": false
   },
   "outputs": [
    {
     "data": {
      "text/html": [
       "<div>\n",
       "<table border=\"1\" class=\"dataframe\">\n",
       "  <thead>\n",
       "    <tr style=\"text-align: right;\">\n",
       "      <th></th>\n",
       "      <th>home_ownership</th>\n",
       "      <th>verification_status_Not Verified</th>\n",
       "      <th>verification_status_Verified</th>\n",
       "      <th>verification_status_Source Verified</th>\n",
       "      <th>has_delinquent_hist</th>\n",
       "      <th>has_record_hist</th>\n",
       "      <th>loan_amnt</th>\n",
       "      <th>per_act_open</th>\n",
       "      <th>inq_last_6mths</th>\n",
       "      <th>avg_fico</th>\n",
       "    </tr>\n",
       "  </thead>\n",
       "  <tbody>\n",
       "    <tr>\n",
       "      <th>0</th>\n",
       "      <td>0</td>\n",
       "      <td>0</td>\n",
       "      <td>1</td>\n",
       "      <td>0</td>\n",
       "      <td>0</td>\n",
       "      <td>0</td>\n",
       "      <td>28125.0</td>\n",
       "      <td>0.6</td>\n",
       "      <td>1</td>\n",
       "      <td>667.0</td>\n",
       "    </tr>\n",
       "  </tbody>\n",
       "</table>\n",
       "</div>"
      ],
      "text/plain": [
       "   home_ownership  verification_status_Not Verified  \\\n",
       "0               0                                 0   \n",
       "\n",
       "   verification_status_Verified  verification_status_Source Verified  \\\n",
       "0                             1                                    0   \n",
       "\n",
       "   has_delinquent_hist  has_record_hist  loan_amnt  per_act_open  \\\n",
       "0                    0                0    28125.0           0.6   \n",
       "\n",
       "   inq_last_6mths  avg_fico  \n",
       "0               1     667.0  "
      ]
     },
     "execution_count": 314,
     "metadata": {},
     "output_type": "execute_result"
    }
   ],
   "source": [
    "#avg_fico\n",
    "loan_df['avg_fico'] = (loan_df_ini['ficoRangeHigh'] +  loan_df_ini['ficoRangeLow'])/2\n",
    "loan_df\n"
   ]
  },
  {
   "cell_type": "code",
   "execution_count": 315,
   "metadata": {
    "collapsed": false
   },
   "outputs": [
    {
     "data": {
      "text/html": [
       "<div>\n",
       "<table border=\"1\" class=\"dataframe\">\n",
       "  <thead>\n",
       "    <tr style=\"text-align: right;\">\n",
       "      <th></th>\n",
       "      <th>home_ownership</th>\n",
       "      <th>verification_status_Not Verified</th>\n",
       "      <th>verification_status_Verified</th>\n",
       "      <th>verification_status_Source Verified</th>\n",
       "      <th>has_delinquent_hist</th>\n",
       "      <th>has_record_hist</th>\n",
       "      <th>loan_amnt</th>\n",
       "      <th>per_act_open</th>\n",
       "      <th>inq_last_6mths</th>\n",
       "      <th>avg_fico</th>\n",
       "      <th>revol_util</th>\n",
       "    </tr>\n",
       "  </thead>\n",
       "  <tbody>\n",
       "    <tr>\n",
       "      <th>0</th>\n",
       "      <td>0</td>\n",
       "      <td>0</td>\n",
       "      <td>1</td>\n",
       "      <td>0</td>\n",
       "      <td>0</td>\n",
       "      <td>0</td>\n",
       "      <td>28125.0</td>\n",
       "      <td>0.6</td>\n",
       "      <td>1</td>\n",
       "      <td>667.0</td>\n",
       "      <td>81.8</td>\n",
       "    </tr>\n",
       "  </tbody>\n",
       "</table>\n",
       "</div>"
      ],
      "text/plain": [
       "   home_ownership  verification_status_Not Verified  \\\n",
       "0               0                                 0   \n",
       "\n",
       "   verification_status_Verified  verification_status_Source Verified  \\\n",
       "0                             1                                    0   \n",
       "\n",
       "   has_delinquent_hist  has_record_hist  loan_amnt  per_act_open  \\\n",
       "0                    0                0    28125.0           0.6   \n",
       "\n",
       "   inq_last_6mths  avg_fico  revol_util  \n",
       "0               1     667.0        81.8  "
      ]
     },
     "execution_count": 315,
     "metadata": {},
     "output_type": "execute_result"
    }
   ],
   "source": [
    "#revol_util\n",
    "loan_df['revol_util'] = loan_df_ini['revolUtil'] \n",
    "loan_df"
   ]
  },
  {
   "cell_type": "code",
   "execution_count": 316,
   "metadata": {
    "collapsed": false
   },
   "outputs": [
    {
     "data": {
      "text/html": [
       "<div>\n",
       "<table border=\"1\" class=\"dataframe\">\n",
       "  <thead>\n",
       "    <tr style=\"text-align: right;\">\n",
       "      <th></th>\n",
       "      <th>home_ownership</th>\n",
       "      <th>verification_status_Not Verified</th>\n",
       "      <th>verification_status_Verified</th>\n",
       "      <th>verification_status_Source Verified</th>\n",
       "      <th>has_delinquent_hist</th>\n",
       "      <th>has_record_hist</th>\n",
       "      <th>loan_amnt</th>\n",
       "      <th>per_act_open</th>\n",
       "      <th>inq_last_6mths</th>\n",
       "      <th>avg_fico</th>\n",
       "      <th>revol_util</th>\n",
       "      <th>revol_bal</th>\n",
       "    </tr>\n",
       "  </thead>\n",
       "  <tbody>\n",
       "    <tr>\n",
       "      <th>0</th>\n",
       "      <td>0</td>\n",
       "      <td>0</td>\n",
       "      <td>1</td>\n",
       "      <td>0</td>\n",
       "      <td>0</td>\n",
       "      <td>0</td>\n",
       "      <td>28125.0</td>\n",
       "      <td>0.6</td>\n",
       "      <td>1</td>\n",
       "      <td>667.0</td>\n",
       "      <td>81.8</td>\n",
       "      <td>24302.0</td>\n",
       "    </tr>\n",
       "  </tbody>\n",
       "</table>\n",
       "</div>"
      ],
      "text/plain": [
       "   home_ownership  verification_status_Not Verified  \\\n",
       "0               0                                 0   \n",
       "\n",
       "   verification_status_Verified  verification_status_Source Verified  \\\n",
       "0                             1                                    0   \n",
       "\n",
       "   has_delinquent_hist  has_record_hist  loan_amnt  per_act_open  \\\n",
       "0                    0                0    28125.0           0.6   \n",
       "\n",
       "   inq_last_6mths  avg_fico  revol_util  revol_bal  \n",
       "0               1     667.0        81.8    24302.0  "
      ]
     },
     "execution_count": 316,
     "metadata": {},
     "output_type": "execute_result"
    }
   ],
   "source": [
    "#revol_bal revolBal\n",
    "loan_df['revol_bal'] = loan_df_ini['revolBal'] \n",
    "loan_df"
   ]
  },
  {
   "cell_type": "code",
   "execution_count": 317,
   "metadata": {
    "collapsed": false
   },
   "outputs": [
    {
     "data": {
      "text/html": [
       "<div>\n",
       "<table border=\"1\" class=\"dataframe\">\n",
       "  <thead>\n",
       "    <tr style=\"text-align: right;\">\n",
       "      <th></th>\n",
       "      <th>home_ownership</th>\n",
       "      <th>verification_status_Not Verified</th>\n",
       "      <th>verification_status_Verified</th>\n",
       "      <th>verification_status_Source Verified</th>\n",
       "      <th>has_delinquent_hist</th>\n",
       "      <th>has_record_hist</th>\n",
       "      <th>loan_amnt</th>\n",
       "      <th>per_act_open</th>\n",
       "      <th>inq_last_6mths</th>\n",
       "      <th>avg_fico</th>\n",
       "      <th>revol_util</th>\n",
       "      <th>revol_bal</th>\n",
       "      <th>dti</th>\n",
       "    </tr>\n",
       "  </thead>\n",
       "  <tbody>\n",
       "    <tr>\n",
       "      <th>0</th>\n",
       "      <td>0</td>\n",
       "      <td>0</td>\n",
       "      <td>1</td>\n",
       "      <td>0</td>\n",
       "      <td>0</td>\n",
       "      <td>0</td>\n",
       "      <td>28125.0</td>\n",
       "      <td>0.6</td>\n",
       "      <td>1</td>\n",
       "      <td>667.0</td>\n",
       "      <td>81.8</td>\n",
       "      <td>24302.0</td>\n",
       "      <td>12.7</td>\n",
       "    </tr>\n",
       "  </tbody>\n",
       "</table>\n",
       "</div>"
      ],
      "text/plain": [
       "   home_ownership  verification_status_Not Verified  \\\n",
       "0               0                                 0   \n",
       "\n",
       "   verification_status_Verified  verification_status_Source Verified  \\\n",
       "0                             1                                    0   \n",
       "\n",
       "   has_delinquent_hist  has_record_hist  loan_amnt  per_act_open  \\\n",
       "0                    0                0    28125.0           0.6   \n",
       "\n",
       "   inq_last_6mths  avg_fico  revol_util  revol_bal   dti  \n",
       "0               1     667.0        81.8    24302.0  12.7  "
      ]
     },
     "execution_count": 317,
     "metadata": {},
     "output_type": "execute_result"
    }
   ],
   "source": [
    "#dti\n",
    "loan_df['dti'] = loan_df_ini['dti'] \n",
    "loan_df"
   ]
  },
  {
   "cell_type": "code",
   "execution_count": 318,
   "metadata": {
    "collapsed": false
   },
   "outputs": [
    {
     "data": {
      "text/plain": [
       "0   2002-04-01\n",
       "Name: earliestCrLine, dtype: datetime64[ns]"
      ]
     },
     "execution_count": 318,
     "metadata": {},
     "output_type": "execute_result"
    }
   ],
   "source": [
    "#years_since_first_credit\n",
    "loan_df_ini['earliestCrLine'].unique()\n",
    "ear_cl_df = loan_df_ini['earliestCrLine'].apply(lambda s : datetime.strptime(s[:7],'%Y-%m'))\n",
    "ear_cl_df.head()"
   ]
  },
  {
   "cell_type": "code",
   "execution_count": 319,
   "metadata": {
    "collapsed": false
   },
   "outputs": [
    {
     "data": {
      "text/plain": [
       "[13]"
      ]
     },
     "execution_count": 319,
     "metadata": {},
     "output_type": "execute_result"
    }
   ],
   "source": [
    "yr_diff = [ rdelta.relativedelta(date(2016,1,1),pd.Timestamp(i).to_pydatetime()).years for i in ear_cl_df.values] \n",
    "yr_diff"
   ]
  },
  {
   "cell_type": "code",
   "execution_count": 320,
   "metadata": {
    "collapsed": false
   },
   "outputs": [],
   "source": [
    "ear_cl_df = pd.DataFrame(yr_diff)\n",
    "ear_cl_df.columns = ['years_since_first_credit']"
   ]
  },
  {
   "cell_type": "code",
   "execution_count": 321,
   "metadata": {
    "collapsed": false
   },
   "outputs": [
    {
     "data": {
      "text/html": [
       "<div>\n",
       "<table border=\"1\" class=\"dataframe\">\n",
       "  <thead>\n",
       "    <tr style=\"text-align: right;\">\n",
       "      <th></th>\n",
       "      <th>home_ownership</th>\n",
       "      <th>verification_status_Not Verified</th>\n",
       "      <th>verification_status_Verified</th>\n",
       "      <th>verification_status_Source Verified</th>\n",
       "      <th>has_delinquent_hist</th>\n",
       "      <th>has_record_hist</th>\n",
       "      <th>loan_amnt</th>\n",
       "      <th>per_act_open</th>\n",
       "      <th>inq_last_6mths</th>\n",
       "      <th>avg_fico</th>\n",
       "      <th>revol_util</th>\n",
       "      <th>revol_bal</th>\n",
       "      <th>dti</th>\n",
       "      <th>years_since_first_credit</th>\n",
       "    </tr>\n",
       "  </thead>\n",
       "  <tbody>\n",
       "    <tr>\n",
       "      <th>0</th>\n",
       "      <td>0</td>\n",
       "      <td>0</td>\n",
       "      <td>1</td>\n",
       "      <td>0</td>\n",
       "      <td>0</td>\n",
       "      <td>0</td>\n",
       "      <td>28125.0</td>\n",
       "      <td>0.6</td>\n",
       "      <td>1</td>\n",
       "      <td>667.0</td>\n",
       "      <td>81.8</td>\n",
       "      <td>24302.0</td>\n",
       "      <td>12.7</td>\n",
       "      <td>13</td>\n",
       "    </tr>\n",
       "  </tbody>\n",
       "</table>\n",
       "</div>"
      ],
      "text/plain": [
       "   home_ownership  verification_status_Not Verified  \\\n",
       "0               0                                 0   \n",
       "\n",
       "   verification_status_Verified  verification_status_Source Verified  \\\n",
       "0                             1                                    0   \n",
       "\n",
       "   has_delinquent_hist  has_record_hist  loan_amnt  per_act_open  \\\n",
       "0                    0                0    28125.0           0.6   \n",
       "\n",
       "   inq_last_6mths  avg_fico  revol_util  revol_bal   dti  \\\n",
       "0               1     667.0        81.8    24302.0  12.7   \n",
       "\n",
       "   years_since_first_credit  \n",
       "0                        13  "
      ]
     },
     "execution_count": 321,
     "metadata": {},
     "output_type": "execute_result"
    }
   ],
   "source": [
    "loan_df['years_since_first_credit'] = ear_cl_df['years_since_first_credit']\n",
    "loan_df"
   ]
  },
  {
   "cell_type": "code",
   "execution_count": 322,
   "metadata": {
    "collapsed": false
   },
   "outputs": [
    {
     "data": {
      "text/html": [
       "<div>\n",
       "<table border=\"1\" class=\"dataframe\">\n",
       "  <thead>\n",
       "    <tr style=\"text-align: right;\">\n",
       "      <th></th>\n",
       "      <th>home_ownership</th>\n",
       "      <th>verification_status_Not Verified</th>\n",
       "      <th>verification_status_Verified</th>\n",
       "      <th>verification_status_Source Verified</th>\n",
       "      <th>has_delinquent_hist</th>\n",
       "      <th>has_record_hist</th>\n",
       "      <th>loan_amnt</th>\n",
       "      <th>per_act_open</th>\n",
       "      <th>inq_last_6mths</th>\n",
       "      <th>avg_fico</th>\n",
       "      <th>revol_util</th>\n",
       "      <th>revol_bal</th>\n",
       "      <th>dti</th>\n",
       "      <th>years_since_first_credit</th>\n",
       "      <th>int_rate</th>\n",
       "    </tr>\n",
       "  </thead>\n",
       "  <tbody>\n",
       "    <tr>\n",
       "      <th>0</th>\n",
       "      <td>0</td>\n",
       "      <td>0</td>\n",
       "      <td>1</td>\n",
       "      <td>0</td>\n",
       "      <td>0</td>\n",
       "      <td>0</td>\n",
       "      <td>28125.0</td>\n",
       "      <td>0.6</td>\n",
       "      <td>1</td>\n",
       "      <td>667.0</td>\n",
       "      <td>81.8</td>\n",
       "      <td>24302.0</td>\n",
       "      <td>12.7</td>\n",
       "      <td>13</td>\n",
       "      <td>21.49</td>\n",
       "    </tr>\n",
       "  </tbody>\n",
       "</table>\n",
       "</div>"
      ],
      "text/plain": [
       "   home_ownership  verification_status_Not Verified  \\\n",
       "0               0                                 0   \n",
       "\n",
       "   verification_status_Verified  verification_status_Source Verified  \\\n",
       "0                             1                                    0   \n",
       "\n",
       "   has_delinquent_hist  has_record_hist  loan_amnt  per_act_open  \\\n",
       "0                    0                0    28125.0           0.6   \n",
       "\n",
       "   inq_last_6mths  avg_fico  revol_util  revol_bal   dti  \\\n",
       "0               1     667.0        81.8    24302.0  12.7   \n",
       "\n",
       "   years_since_first_credit  int_rate  \n",
       "0                        13     21.49  "
      ]
     },
     "execution_count": 322,
     "metadata": {},
     "output_type": "execute_result"
    }
   ],
   "source": [
    "#int_rate\n",
    "loan_df['int_rate'] = loan_df_ini['intRate']\n",
    "loan_df"
   ]
  },
  {
   "cell_type": "code",
   "execution_count": 323,
   "metadata": {
    "collapsed": false
   },
   "outputs": [
    {
     "data": {
      "text/html": [
       "<div>\n",
       "<table border=\"1\" class=\"dataframe\">\n",
       "  <thead>\n",
       "    <tr style=\"text-align: right;\">\n",
       "      <th></th>\n",
       "      <th>home_ownership</th>\n",
       "      <th>verification_status_Not Verified</th>\n",
       "      <th>verification_status_Verified</th>\n",
       "      <th>verification_status_Source Verified</th>\n",
       "      <th>has_delinquent_hist</th>\n",
       "      <th>has_record_hist</th>\n",
       "      <th>loan_amnt</th>\n",
       "      <th>per_act_open</th>\n",
       "      <th>inq_last_6mths</th>\n",
       "      <th>avg_fico</th>\n",
       "      <th>revol_util</th>\n",
       "      <th>revol_bal</th>\n",
       "      <th>dti</th>\n",
       "      <th>years_since_first_credit</th>\n",
       "      <th>int_rate</th>\n",
       "      <th>emp_length</th>\n",
       "    </tr>\n",
       "  </thead>\n",
       "  <tbody>\n",
       "    <tr>\n",
       "      <th>0</th>\n",
       "      <td>0</td>\n",
       "      <td>0</td>\n",
       "      <td>1</td>\n",
       "      <td>0</td>\n",
       "      <td>0</td>\n",
       "      <td>0</td>\n",
       "      <td>28125.0</td>\n",
       "      <td>0.6</td>\n",
       "      <td>1</td>\n",
       "      <td>667.0</td>\n",
       "      <td>81.8</td>\n",
       "      <td>24302.0</td>\n",
       "      <td>12.7</td>\n",
       "      <td>13</td>\n",
       "      <td>21.49</td>\n",
       "      <td>24</td>\n",
       "    </tr>\n",
       "  </tbody>\n",
       "</table>\n",
       "</div>"
      ],
      "text/plain": [
       "   home_ownership  verification_status_Not Verified  \\\n",
       "0               0                                 0   \n",
       "\n",
       "   verification_status_Verified  verification_status_Source Verified  \\\n",
       "0                             1                                    0   \n",
       "\n",
       "   has_delinquent_hist  has_record_hist  loan_amnt  per_act_open  \\\n",
       "0                    0                0    28125.0           0.6   \n",
       "\n",
       "   inq_last_6mths  avg_fico  revol_util  revol_bal   dti  \\\n",
       "0               1     667.0        81.8    24302.0  12.7   \n",
       "\n",
       "   years_since_first_credit  int_rate  emp_length  \n",
       "0                        13     21.49          24  "
      ]
     },
     "execution_count": 323,
     "metadata": {},
     "output_type": "execute_result"
    }
   ],
   "source": [
    "#emp_length\n",
    "loan_df['emp_length'] = loan_df_ini['empLength']\n",
    "loan_df"
   ]
  },
  {
   "cell_type": "code",
   "execution_count": 324,
   "metadata": {
    "collapsed": true
   },
   "outputs": [],
   "source": [
    "#desc_senti_score\n",
    "afinn = Afinn()"
   ]
  },
  {
   "cell_type": "code",
   "execution_count": 325,
   "metadata": {
    "collapsed": false
   },
   "outputs": [
    {
     "data": {
      "text/plain": [
       "[0]"
      ]
     },
     "execution_count": 325,
     "metadata": {},
     "output_type": "execute_result"
    }
   ],
   "source": [
    "def sent_score(s):\n",
    "    if s == None:\n",
    "        return 0\n",
    "    else:\n",
    "        afinn.score(s)\n",
    "\n",
    "s_score = [sent_score(st) for st in loan_df_ini['desc'] ]\n",
    "s_score"
   ]
  },
  {
   "cell_type": "code",
   "execution_count": 326,
   "metadata": {
    "collapsed": false
   },
   "outputs": [
    {
     "data": {
      "text/html": [
       "<div>\n",
       "<table border=\"1\" class=\"dataframe\">\n",
       "  <thead>\n",
       "    <tr style=\"text-align: right;\">\n",
       "      <th></th>\n",
       "      <th>home_ownership</th>\n",
       "      <th>verification_status_Not Verified</th>\n",
       "      <th>verification_status_Verified</th>\n",
       "      <th>verification_status_Source Verified</th>\n",
       "      <th>has_delinquent_hist</th>\n",
       "      <th>has_record_hist</th>\n",
       "      <th>loan_amnt</th>\n",
       "      <th>per_act_open</th>\n",
       "      <th>inq_last_6mths</th>\n",
       "      <th>avg_fico</th>\n",
       "      <th>revol_util</th>\n",
       "      <th>revol_bal</th>\n",
       "      <th>dti</th>\n",
       "      <th>years_since_first_credit</th>\n",
       "      <th>int_rate</th>\n",
       "      <th>emp_length</th>\n",
       "      <th>desc_senti_score</th>\n",
       "    </tr>\n",
       "  </thead>\n",
       "  <tbody>\n",
       "    <tr>\n",
       "      <th>0</th>\n",
       "      <td>0</td>\n",
       "      <td>0</td>\n",
       "      <td>1</td>\n",
       "      <td>0</td>\n",
       "      <td>0</td>\n",
       "      <td>0</td>\n",
       "      <td>28125.0</td>\n",
       "      <td>0.6</td>\n",
       "      <td>1</td>\n",
       "      <td>667.0</td>\n",
       "      <td>81.8</td>\n",
       "      <td>24302.0</td>\n",
       "      <td>12.7</td>\n",
       "      <td>13</td>\n",
       "      <td>21.49</td>\n",
       "      <td>24</td>\n",
       "      <td>0</td>\n",
       "    </tr>\n",
       "  </tbody>\n",
       "</table>\n",
       "</div>"
      ],
      "text/plain": [
       "   home_ownership  verification_status_Not Verified  \\\n",
       "0               0                                 0   \n",
       "\n",
       "   verification_status_Verified  verification_status_Source Verified  \\\n",
       "0                             1                                    0   \n",
       "\n",
       "   has_delinquent_hist  has_record_hist  loan_amnt  per_act_open  \\\n",
       "0                    0                0    28125.0           0.6   \n",
       "\n",
       "   inq_last_6mths  avg_fico  revol_util  revol_bal   dti  \\\n",
       "0               1     667.0        81.8    24302.0  12.7   \n",
       "\n",
       "   years_since_first_credit  int_rate  emp_length  desc_senti_score  \n",
       "0                        13     21.49          24                 0  "
      ]
     },
     "execution_count": 326,
     "metadata": {},
     "output_type": "execute_result"
    }
   ],
   "source": [
    "loan_df['desc_senti_score'] = s_score\n",
    "loan_df"
   ]
  },
  {
   "cell_type": "code",
   "execution_count": 327,
   "metadata": {
    "collapsed": true
   },
   "outputs": [],
   "source": [
    "#reading zipcode data\n",
    "zip_code_agg = pd.read_csv('data/zip3_agg.csv')"
   ]
  },
  {
   "cell_type": "code",
   "execution_count": 328,
   "metadata": {
    "collapsed": true
   },
   "outputs": [],
   "source": [
    "#join with final df\n",
    "loan_df_ini['zip_3'] = [int(zip[:3]) for zip in loan_df_ini.addrZip.values]"
   ]
  },
  {
   "cell_type": "code",
   "execution_count": 329,
   "metadata": {
    "collapsed": false
   },
   "outputs": [
    {
     "data": {
      "text/html": [
       "<div>\n",
       "<table border=\"1\" class=\"dataframe\">\n",
       "  <thead>\n",
       "    <tr style=\"text-align: right;\">\n",
       "      <th></th>\n",
       "      <th>accNowDelinq</th>\n",
       "      <th>accOpenPast24Mths</th>\n",
       "      <th>acceptD</th>\n",
       "      <th>addrState</th>\n",
       "      <th>addrZip</th>\n",
       "      <th>allUtil</th>\n",
       "      <th>annualInc</th>\n",
       "      <th>annualIncJoint</th>\n",
       "      <th>applicationType</th>\n",
       "      <th>avgCurBal</th>\n",
       "      <th>...</th>\n",
       "      <th>totalAcc</th>\n",
       "      <th>totalBalExMort</th>\n",
       "      <th>totalBalIl</th>\n",
       "      <th>totalBcLimit</th>\n",
       "      <th>totalCuTl</th>\n",
       "      <th>totalIlHighCreditLimit</th>\n",
       "      <th>totalRevHiLim</th>\n",
       "      <th>zip_3</th>\n",
       "      <th>Median</th>\n",
       "      <th>Pop</th>\n",
       "    </tr>\n",
       "  </thead>\n",
       "  <tbody>\n",
       "    <tr>\n",
       "      <th>0</th>\n",
       "      <td>0</td>\n",
       "      <td>1</td>\n",
       "      <td>2016-11-16T16:13:06.000-08:00</td>\n",
       "      <td>NY</td>\n",
       "      <td>112xx</td>\n",
       "      <td>81.8</td>\n",
       "      <td>60000.0</td>\n",
       "      <td>None</td>\n",
       "      <td>INDIVIDUAL</td>\n",
       "      <td>2700</td>\n",
       "      <td>...</td>\n",
       "      <td>15</td>\n",
       "      <td>24302</td>\n",
       "      <td>0.0</td>\n",
       "      <td>28700</td>\n",
       "      <td>0</td>\n",
       "      <td>0</td>\n",
       "      <td>29700</td>\n",
       "      <td>112</td>\n",
       "      <td>46258.984068</td>\n",
       "      <td>65833.432432</td>\n",
       "    </tr>\n",
       "  </tbody>\n",
       "</table>\n",
       "<p>1 rows × 106 columns</p>\n",
       "</div>"
      ],
      "text/plain": [
       "   accNowDelinq  accOpenPast24Mths                        acceptD addrState  \\\n",
       "0             0                  1  2016-11-16T16:13:06.000-08:00        NY   \n",
       "\n",
       "  addrZip  allUtil  annualInc annualIncJoint applicationType  avgCurBal  \\\n",
       "0   112xx     81.8    60000.0           None      INDIVIDUAL       2700   \n",
       "\n",
       "       ...       totalAcc  totalBalExMort  totalBalIl  totalBcLimit totalCuTl  \\\n",
       "0      ...             15           24302         0.0         28700         0   \n",
       "\n",
       "   totalIlHighCreditLimit  totalRevHiLim zip_3        Median           Pop  \n",
       "0                       0          29700   112  46258.984068  65833.432432  \n",
       "\n",
       "[1 rows x 106 columns]"
      ]
     },
     "execution_count": 329,
     "metadata": {},
     "output_type": "execute_result"
    }
   ],
   "source": [
    "join_df = pd.merge(loan_df_ini,zip_code_agg,how='inner',on='zip_3')\n",
    "join_df"
   ]
  },
  {
   "cell_type": "code",
   "execution_count": 330,
   "metadata": {
    "collapsed": false
   },
   "outputs": [
    {
     "data": {
      "text/html": [
       "<div>\n",
       "<table border=\"1\" class=\"dataframe\">\n",
       "  <thead>\n",
       "    <tr style=\"text-align: right;\">\n",
       "      <th></th>\n",
       "      <th>accNowDelinq</th>\n",
       "      <th>accOpenPast24Mths</th>\n",
       "      <th>acceptD</th>\n",
       "      <th>addrState</th>\n",
       "      <th>addrZip</th>\n",
       "      <th>allUtil</th>\n",
       "      <th>annualInc</th>\n",
       "      <th>annualIncJoint</th>\n",
       "      <th>applicationType</th>\n",
       "      <th>avgCurBal</th>\n",
       "      <th>...</th>\n",
       "      <th>totalAcc</th>\n",
       "      <th>totalBalExMort</th>\n",
       "      <th>totalBalIl</th>\n",
       "      <th>totalBcLimit</th>\n",
       "      <th>totalCuTl</th>\n",
       "      <th>totalIlHighCreditLimit</th>\n",
       "      <th>totalRevHiLim</th>\n",
       "      <th>zip_3</th>\n",
       "      <th>zip_median_income</th>\n",
       "      <th>zip_pop</th>\n",
       "    </tr>\n",
       "  </thead>\n",
       "  <tbody>\n",
       "    <tr>\n",
       "      <th>0</th>\n",
       "      <td>0</td>\n",
       "      <td>1</td>\n",
       "      <td>2016-11-16T16:13:06.000-08:00</td>\n",
       "      <td>NY</td>\n",
       "      <td>112xx</td>\n",
       "      <td>81.8</td>\n",
       "      <td>60000.0</td>\n",
       "      <td>None</td>\n",
       "      <td>INDIVIDUAL</td>\n",
       "      <td>2700</td>\n",
       "      <td>...</td>\n",
       "      <td>15</td>\n",
       "      <td>24302</td>\n",
       "      <td>0.0</td>\n",
       "      <td>28700</td>\n",
       "      <td>0</td>\n",
       "      <td>0</td>\n",
       "      <td>29700</td>\n",
       "      <td>112</td>\n",
       "      <td>46258.984068</td>\n",
       "      <td>65833.432432</td>\n",
       "    </tr>\n",
       "  </tbody>\n",
       "</table>\n",
       "<p>1 rows × 106 columns</p>\n",
       "</div>"
      ],
      "text/plain": [
       "   accNowDelinq  accOpenPast24Mths                        acceptD addrState  \\\n",
       "0             0                  1  2016-11-16T16:13:06.000-08:00        NY   \n",
       "\n",
       "  addrZip  allUtil  annualInc annualIncJoint applicationType  avgCurBal  \\\n",
       "0   112xx     81.8    60000.0           None      INDIVIDUAL       2700   \n",
       "\n",
       "       ...       totalAcc  totalBalExMort  totalBalIl  totalBcLimit totalCuTl  \\\n",
       "0      ...             15           24302         0.0         28700         0   \n",
       "\n",
       "   totalIlHighCreditLimit  totalRevHiLim zip_3  zip_median_income  \\\n",
       "0                       0          29700   112       46258.984068   \n",
       "\n",
       "        zip_pop  \n",
       "0  65833.432432  \n",
       "\n",
       "[1 rows x 106 columns]"
      ]
     },
     "execution_count": 330,
     "metadata": {},
     "output_type": "execute_result"
    }
   ],
   "source": [
    "join_df = join_df.rename(columns={'Median':'zip_median_income','Pop':'zip_pop'})\n",
    "join_df"
   ]
  },
  {
   "cell_type": "code",
   "execution_count": 331,
   "metadata": {
    "collapsed": false
   },
   "outputs": [
    {
     "data": {
      "text/html": [
       "<div>\n",
       "<table border=\"1\" class=\"dataframe\">\n",
       "  <thead>\n",
       "    <tr style=\"text-align: right;\">\n",
       "      <th></th>\n",
       "      <th>home_ownership</th>\n",
       "      <th>verification_status_Not Verified</th>\n",
       "      <th>verification_status_Verified</th>\n",
       "      <th>verification_status_Source Verified</th>\n",
       "      <th>has_delinquent_hist</th>\n",
       "      <th>has_record_hist</th>\n",
       "      <th>loan_amnt</th>\n",
       "      <th>per_act_open</th>\n",
       "      <th>inq_last_6mths</th>\n",
       "      <th>avg_fico</th>\n",
       "      <th>revol_util</th>\n",
       "      <th>revol_bal</th>\n",
       "      <th>dti</th>\n",
       "      <th>years_since_first_credit</th>\n",
       "      <th>int_rate</th>\n",
       "      <th>emp_length</th>\n",
       "      <th>desc_senti_score</th>\n",
       "      <th>zip_median_income</th>\n",
       "      <th>zip_pop</th>\n",
       "    </tr>\n",
       "  </thead>\n",
       "  <tbody>\n",
       "    <tr>\n",
       "      <th>0</th>\n",
       "      <td>0</td>\n",
       "      <td>0</td>\n",
       "      <td>1</td>\n",
       "      <td>0</td>\n",
       "      <td>0</td>\n",
       "      <td>0</td>\n",
       "      <td>28125.0</td>\n",
       "      <td>0.6</td>\n",
       "      <td>1</td>\n",
       "      <td>667.0</td>\n",
       "      <td>81.8</td>\n",
       "      <td>24302.0</td>\n",
       "      <td>12.7</td>\n",
       "      <td>13</td>\n",
       "      <td>21.49</td>\n",
       "      <td>24</td>\n",
       "      <td>0</td>\n",
       "      <td>46258.984068</td>\n",
       "      <td>65833.432432</td>\n",
       "    </tr>\n",
       "  </tbody>\n",
       "</table>\n",
       "</div>"
      ],
      "text/plain": [
       "   home_ownership  verification_status_Not Verified  \\\n",
       "0               0                                 0   \n",
       "\n",
       "   verification_status_Verified  verification_status_Source Verified  \\\n",
       "0                             1                                    0   \n",
       "\n",
       "   has_delinquent_hist  has_record_hist  loan_amnt  per_act_open  \\\n",
       "0                    0                0    28125.0           0.6   \n",
       "\n",
       "   inq_last_6mths  avg_fico  revol_util  revol_bal   dti  \\\n",
       "0               1     667.0        81.8    24302.0  12.7   \n",
       "\n",
       "   years_since_first_credit  int_rate  emp_length  desc_senti_score  \\\n",
       "0                        13     21.49          24                 0   \n",
       "\n",
       "   zip_median_income       zip_pop  \n",
       "0       46258.984068  65833.432432  "
      ]
     },
     "execution_count": 331,
     "metadata": {},
     "output_type": "execute_result"
    }
   ],
   "source": [
    "loan_df['zip_median_income'] = join_df['zip_median_income']\n",
    "loan_df['zip_pop'] = join_df['zip_pop']\n",
    "loan_df"
   ]
  },
  {
   "cell_type": "code",
   "execution_count": 332,
   "metadata": {
    "collapsed": false
   },
   "outputs": [
    {
     "data": {
      "text/html": [
       "<div>\n",
       "<table border=\"1\" class=\"dataframe\">\n",
       "  <thead>\n",
       "    <tr style=\"text-align: right;\">\n",
       "      <th></th>\n",
       "      <th>home_ownership</th>\n",
       "      <th>verification_status_Not Verified</th>\n",
       "      <th>verification_status_Verified</th>\n",
       "      <th>verification_status_Source Verified</th>\n",
       "      <th>has_delinquent_hist</th>\n",
       "      <th>has_record_hist</th>\n",
       "      <th>loan_amnt</th>\n",
       "      <th>per_act_open</th>\n",
       "      <th>inq_last_6mths</th>\n",
       "      <th>avg_fico</th>\n",
       "      <th>revol_util</th>\n",
       "      <th>revol_bal</th>\n",
       "      <th>dti</th>\n",
       "      <th>years_since_first_credit</th>\n",
       "      <th>int_rate</th>\n",
       "      <th>emp_length</th>\n",
       "      <th>desc_senti_score</th>\n",
       "      <th>zip_median_income</th>\n",
       "      <th>zip_pop</th>\n",
       "      <th>delinq_2yrs</th>\n",
       "    </tr>\n",
       "  </thead>\n",
       "  <tbody>\n",
       "    <tr>\n",
       "      <th>0</th>\n",
       "      <td>0</td>\n",
       "      <td>0</td>\n",
       "      <td>1</td>\n",
       "      <td>0</td>\n",
       "      <td>0</td>\n",
       "      <td>0</td>\n",
       "      <td>28125.0</td>\n",
       "      <td>0.6</td>\n",
       "      <td>1</td>\n",
       "      <td>667.0</td>\n",
       "      <td>81.8</td>\n",
       "      <td>24302.0</td>\n",
       "      <td>12.7</td>\n",
       "      <td>13</td>\n",
       "      <td>21.49</td>\n",
       "      <td>24</td>\n",
       "      <td>0</td>\n",
       "      <td>46258.984068</td>\n",
       "      <td>65833.432432</td>\n",
       "      <td>0</td>\n",
       "    </tr>\n",
       "  </tbody>\n",
       "</table>\n",
       "</div>"
      ],
      "text/plain": [
       "   home_ownership  verification_status_Not Verified  \\\n",
       "0               0                                 0   \n",
       "\n",
       "   verification_status_Verified  verification_status_Source Verified  \\\n",
       "0                             1                                    0   \n",
       "\n",
       "   has_delinquent_hist  has_record_hist  loan_amnt  per_act_open  \\\n",
       "0                    0                0    28125.0           0.6   \n",
       "\n",
       "   inq_last_6mths  avg_fico  revol_util  revol_bal   dti  \\\n",
       "0               1     667.0        81.8    24302.0  12.7   \n",
       "\n",
       "   years_since_first_credit  int_rate  emp_length  desc_senti_score  \\\n",
       "0                        13     21.49          24                 0   \n",
       "\n",
       "   zip_median_income       zip_pop  delinq_2yrs  \n",
       "0       46258.984068  65833.432432            0  "
      ]
     },
     "execution_count": 332,
     "metadata": {},
     "output_type": "execute_result"
    }
   ],
   "source": [
    "#delinq2Yrs delinq_2yrs\n",
    "loan_df['delinq_2yrs'] = loan_df_ini['delinq2Yrs']\n",
    "loan_df"
   ]
  },
  {
   "cell_type": "code",
   "execution_count": 333,
   "metadata": {
    "collapsed": false
   },
   "outputs": [
    {
     "data": {
      "text/html": [
       "<div>\n",
       "<table border=\"1\" class=\"dataframe\">\n",
       "  <thead>\n",
       "    <tr style=\"text-align: right;\">\n",
       "      <th></th>\n",
       "      <th>home_ownership</th>\n",
       "      <th>verification_status_Not Verified</th>\n",
       "      <th>verification_status_Verified</th>\n",
       "      <th>verification_status_Source Verified</th>\n",
       "      <th>has_delinquent_hist</th>\n",
       "      <th>has_record_hist</th>\n",
       "      <th>loan_amnt</th>\n",
       "      <th>per_act_open</th>\n",
       "      <th>inq_last_6mths</th>\n",
       "      <th>avg_fico</th>\n",
       "      <th>...</th>\n",
       "      <th>zip_median_income</th>\n",
       "      <th>zip_pop</th>\n",
       "      <th>delinq_2yrs</th>\n",
       "      <th>grade_A</th>\n",
       "      <th>grade_B</th>\n",
       "      <th>grade_C</th>\n",
       "      <th>grade_D</th>\n",
       "      <th>grade_E</th>\n",
       "      <th>grade_F</th>\n",
       "      <th>grade_G</th>\n",
       "    </tr>\n",
       "  </thead>\n",
       "  <tbody>\n",
       "    <tr>\n",
       "      <th>0</th>\n",
       "      <td>0</td>\n",
       "      <td>0</td>\n",
       "      <td>1</td>\n",
       "      <td>0</td>\n",
       "      <td>0</td>\n",
       "      <td>0</td>\n",
       "      <td>28125.0</td>\n",
       "      <td>0.6</td>\n",
       "      <td>1</td>\n",
       "      <td>667.0</td>\n",
       "      <td>...</td>\n",
       "      <td>46258.984068</td>\n",
       "      <td>65833.432432</td>\n",
       "      <td>0</td>\n",
       "      <td>0</td>\n",
       "      <td>0</td>\n",
       "      <td>0</td>\n",
       "      <td>1</td>\n",
       "      <td>0</td>\n",
       "      <td>0</td>\n",
       "      <td>0</td>\n",
       "    </tr>\n",
       "  </tbody>\n",
       "</table>\n",
       "<p>1 rows × 27 columns</p>\n",
       "</div>"
      ],
      "text/plain": [
       "   home_ownership  verification_status_Not Verified  \\\n",
       "0               0                                 0   \n",
       "\n",
       "   verification_status_Verified  verification_status_Source Verified  \\\n",
       "0                             1                                    0   \n",
       "\n",
       "   has_delinquent_hist  has_record_hist  loan_amnt  per_act_open  \\\n",
       "0                    0                0    28125.0           0.6   \n",
       "\n",
       "   inq_last_6mths  avg_fico   ...     zip_median_income       zip_pop  \\\n",
       "0               1     667.0   ...          46258.984068  65833.432432   \n",
       "\n",
       "   delinq_2yrs  grade_A  grade_B  grade_C  grade_D  grade_E  grade_F  grade_G  \n",
       "0            0        0        0        0        1        0        0        0  \n",
       "\n",
       "[1 rows x 27 columns]"
      ]
     },
     "execution_count": 333,
     "metadata": {},
     "output_type": "execute_result"
    }
   ],
   "source": [
    "#grade\n",
    "#verification status\n",
    "if(str.upper(loan_df_ini['grade'].values[0]) == 'A'):\n",
    "    loan_df['grade_A'] = 1\n",
    "else:\n",
    "    loan_df['grade_A'] = 0\n",
    "    \n",
    "if(str.upper(loan_df_ini['grade'].values[0]) == 'B'):\n",
    "    loan_df['grade_B'] = 1\n",
    "else:\n",
    "    loan_df['grade_B'] = 0\n",
    "    \n",
    "    \n",
    "if(str.upper(loan_df_ini['grade'].values[0]) == 'C'):\n",
    "    loan_df['grade_C'] = 1\n",
    "else:\n",
    "    loan_df['grade_C'] = 0\n",
    "    \n",
    "\n",
    "if(str.upper(loan_df_ini['grade'].values[0]) == 'D'):\n",
    "    loan_df['grade_D'] = 1\n",
    "else:\n",
    "    loan_df['grade_D'] = 0\n",
    "    \n",
    "if(str.upper(loan_df_ini['grade'].values[0]) == 'E'):\n",
    "    loan_df['grade_E'] = 1\n",
    "else:\n",
    "    loan_df['grade_E'] = 0\n",
    "    \n",
    "if(str.upper(loan_df_ini['grade'].values[0]) == 'E'):\n",
    "    loan_df['grade_E'] = 1\n",
    "else:\n",
    "    loan_df['grade_E'] = 0\n",
    "    \n",
    "if(str.upper(loan_df_ini['grade'].values[0]) == 'F'):\n",
    "    loan_df['grade_F'] = 1\n",
    "else:\n",
    "    loan_df['grade_F'] = 0\n",
    "    \n",
    "if(str.upper(loan_df_ini['grade'].values[0]) == 'G'):\n",
    "    loan_df['grade_G'] = 1\n",
    "else:\n",
    "    loan_df['grade_G'] = 0\n",
    "    \n",
    "loan_df"
   ]
  },
  {
   "cell_type": "code",
   "execution_count": 334,
   "metadata": {
    "collapsed": false
   },
   "outputs": [
    {
     "data": {
      "text/html": [
       "<div>\n",
       "<table border=\"1\" class=\"dataframe\">\n",
       "  <thead>\n",
       "    <tr style=\"text-align: right;\">\n",
       "      <th></th>\n",
       "      <th>home_ownership</th>\n",
       "      <th>verification_status_Not Verified</th>\n",
       "      <th>verification_status_Verified</th>\n",
       "      <th>verification_status_Source Verified</th>\n",
       "      <th>has_delinquent_hist</th>\n",
       "      <th>has_record_hist</th>\n",
       "      <th>loan_amnt</th>\n",
       "      <th>per_act_open</th>\n",
       "      <th>inq_last_6mths</th>\n",
       "      <th>avg_fico</th>\n",
       "      <th>...</th>\n",
       "      <th>delinq_2yrs</th>\n",
       "      <th>grade_A</th>\n",
       "      <th>grade_B</th>\n",
       "      <th>grade_C</th>\n",
       "      <th>grade_D</th>\n",
       "      <th>grade_E</th>\n",
       "      <th>grade_F</th>\n",
       "      <th>grade_G</th>\n",
       "      <th>term_ 36 months</th>\n",
       "      <th>term_ 60 months</th>\n",
       "    </tr>\n",
       "  </thead>\n",
       "  <tbody>\n",
       "    <tr>\n",
       "      <th>0</th>\n",
       "      <td>0</td>\n",
       "      <td>0</td>\n",
       "      <td>1</td>\n",
       "      <td>0</td>\n",
       "      <td>0</td>\n",
       "      <td>0</td>\n",
       "      <td>28125.0</td>\n",
       "      <td>0.6</td>\n",
       "      <td>1</td>\n",
       "      <td>667.0</td>\n",
       "      <td>...</td>\n",
       "      <td>0</td>\n",
       "      <td>0</td>\n",
       "      <td>0</td>\n",
       "      <td>0</td>\n",
       "      <td>1</td>\n",
       "      <td>0</td>\n",
       "      <td>0</td>\n",
       "      <td>0</td>\n",
       "      <td>1</td>\n",
       "      <td>0</td>\n",
       "    </tr>\n",
       "  </tbody>\n",
       "</table>\n",
       "<p>1 rows × 29 columns</p>\n",
       "</div>"
      ],
      "text/plain": [
       "   home_ownership  verification_status_Not Verified  \\\n",
       "0               0                                 0   \n",
       "\n",
       "   verification_status_Verified  verification_status_Source Verified  \\\n",
       "0                             1                                    0   \n",
       "\n",
       "   has_delinquent_hist  has_record_hist  loan_amnt  per_act_open  \\\n",
       "0                    0                0    28125.0           0.6   \n",
       "\n",
       "   inq_last_6mths  avg_fico       ...         delinq_2yrs  grade_A  grade_B  \\\n",
       "0               1     667.0       ...                   0        0        0   \n",
       "\n",
       "   grade_C  grade_D  grade_E  grade_F  grade_G  term_ 36 months  \\\n",
       "0        0        1        0        0        0                1   \n",
       "\n",
       "   term_ 60 months  \n",
       "0                0  \n",
       "\n",
       "[1 rows x 29 columns]"
      ]
     },
     "execution_count": 334,
     "metadata": {},
     "output_type": "execute_result"
    }
   ],
   "source": [
    "#term term_ 36 months term_ 60 months\n",
    "if(loan_df_ini['term'].values[0] == 36):\n",
    "    loan_df['term_ 36 months'] = 1\n",
    "else:\n",
    "    loan_df['term_ 36 months'] = 0\n",
    "    \n",
    "if(loan_df_ini['term'].values[0] == 60):\n",
    "    loan_df['term_ 60 months'] = 1\n",
    "else:\n",
    "    loan_df['term_ 60 months'] = 0\n",
    "\n",
    "loan_df"
   ]
  },
  {
   "cell_type": "code",
   "execution_count": 335,
   "metadata": {
    "collapsed": false
   },
   "outputs": [
    {
     "data": {
      "text/plain": [
       "['credit_card',\n",
       " 'debt_consolidation',\n",
       " 'moving',\n",
       " 'other',\n",
       " 'home_improvement',\n",
       " 'major_purchase',\n",
       " 'car',\n",
       " 'medical',\n",
       " 'small_business',\n",
       " 'educational',\n",
       " 'vacation',\n",
       " 'wedding',\n",
       " 'house',\n",
       " 'renewable_energy']"
      ]
     },
     "execution_count": 335,
     "metadata": {},
     "output_type": "execute_result"
    }
   ],
   "source": [
    "#purpose\n",
    "['credit_card', 'debt_consolidation', 'moving', 'other', 'home_improvement', 'major_purchase', 'car', 'medical', 'small_business', 'educational', 'vacation', 'wedding', 'house', 'renewable_energy']"
   ]
  },
  {
   "cell_type": "code",
   "execution_count": 336,
   "metadata": {
    "collapsed": false
   },
   "outputs": [
    {
     "data": {
      "text/html": [
       "<div>\n",
       "<table border=\"1\" class=\"dataframe\">\n",
       "  <thead>\n",
       "    <tr style=\"text-align: right;\">\n",
       "      <th></th>\n",
       "      <th>home_ownership</th>\n",
       "      <th>verification_status_Not Verified</th>\n",
       "      <th>verification_status_Verified</th>\n",
       "      <th>verification_status_Source Verified</th>\n",
       "      <th>has_delinquent_hist</th>\n",
       "      <th>has_record_hist</th>\n",
       "      <th>loan_amnt</th>\n",
       "      <th>per_act_open</th>\n",
       "      <th>inq_last_6mths</th>\n",
       "      <th>avg_fico</th>\n",
       "      <th>...</th>\n",
       "      <th>purpose_home_improvement</th>\n",
       "      <th>purpose_major_purchase</th>\n",
       "      <th>purpose_car</th>\n",
       "      <th>purpose_medical</th>\n",
       "      <th>purpose_small_business</th>\n",
       "      <th>purpose_educational</th>\n",
       "      <th>purpose_vacation</th>\n",
       "      <th>purpose_wedding</th>\n",
       "      <th>purpose_house</th>\n",
       "      <th>purpose_renewable_energy</th>\n",
       "    </tr>\n",
       "  </thead>\n",
       "  <tbody>\n",
       "    <tr>\n",
       "      <th>0</th>\n",
       "      <td>0</td>\n",
       "      <td>0</td>\n",
       "      <td>1</td>\n",
       "      <td>0</td>\n",
       "      <td>0</td>\n",
       "      <td>0</td>\n",
       "      <td>28125.0</td>\n",
       "      <td>0.6</td>\n",
       "      <td>1</td>\n",
       "      <td>667.0</td>\n",
       "      <td>...</td>\n",
       "      <td>0</td>\n",
       "      <td>0</td>\n",
       "      <td>0</td>\n",
       "      <td>0</td>\n",
       "      <td>0</td>\n",
       "      <td>0</td>\n",
       "      <td>0</td>\n",
       "      <td>0</td>\n",
       "      <td>0</td>\n",
       "      <td>0</td>\n",
       "    </tr>\n",
       "  </tbody>\n",
       "</table>\n",
       "<p>1 rows × 43 columns</p>\n",
       "</div>"
      ],
      "text/plain": [
       "   home_ownership  verification_status_Not Verified  \\\n",
       "0               0                                 0   \n",
       "\n",
       "   verification_status_Verified  verification_status_Source Verified  \\\n",
       "0                             1                                    0   \n",
       "\n",
       "   has_delinquent_hist  has_record_hist  loan_amnt  per_act_open  \\\n",
       "0                    0                0    28125.0           0.6   \n",
       "\n",
       "   inq_last_6mths  avg_fico            ...             \\\n",
       "0               1     667.0            ...              \n",
       "\n",
       "   purpose_home_improvement  purpose_major_purchase  purpose_car  \\\n",
       "0                         0                       0            0   \n",
       "\n",
       "   purpose_medical  purpose_small_business  purpose_educational  \\\n",
       "0                0                       0                    0   \n",
       "\n",
       "   purpose_vacation  purpose_wedding  purpose_house  purpose_renewable_energy  \n",
       "0                 0                0              0                         0  \n",
       "\n",
       "[1 rows x 43 columns]"
      ]
     },
     "execution_count": 336,
     "metadata": {},
     "output_type": "execute_result"
    }
   ],
   "source": [
    "if(loan_df_ini['purpose'].values[0] == 'credit_card'):\n",
    "    loan_df['purpose_credit_card'] = 1\n",
    "else:\n",
    "    loan_df['purpose_credit_card'] = 0\n",
    "    \n",
    "if(loan_df_ini['purpose'].values[0] == 'debt_consolidation'):\n",
    "    loan_df['purpose_debt_consolidation'] = 1\n",
    "else:\n",
    "    loan_df['purpose_debt_consolidation'] = 0\n",
    "    \n",
    "if(loan_df_ini['purpose'].values[0] == 'moving'):\n",
    "    loan_df['purpose_moving'] = 1\n",
    "else:\n",
    "    loan_df['purpose_moving'] = 0\n",
    "    \n",
    "if(loan_df_ini['purpose'].values[0] == 'other'):\n",
    "    loan_df['purpose_other'] = 1\n",
    "else:\n",
    "    loan_df['purpose_other'] = 0\n",
    "    \n",
    "if(loan_df_ini['purpose'].values[0] == 'home_improvement'):\n",
    "    loan_df['purpose_home_improvement'] = 1\n",
    "else:\n",
    "    loan_df['purpose_home_improvement'] = 0\n",
    "    \n",
    "if(loan_df_ini['purpose'].values[0] == 'major_purchase'):\n",
    "    loan_df['purpose_major_purchase'] = 1\n",
    "else:\n",
    "    loan_df['purpose_major_purchase'] = 0\n",
    "\n",
    "    \n",
    "if(loan_df_ini['purpose'].values[0] == 'car'):\n",
    "    loan_df['purpose_car'] = 1\n",
    "else:\n",
    "    loan_df['purpose_car'] = 0\n",
    "    \n",
    "if(loan_df_ini['purpose'].values[0] == 'medical'):\n",
    "    loan_df['purpose_medical'] = 1\n",
    "else:\n",
    "    loan_df['purpose_medical'] = 0\n",
    "    \n",
    "if(loan_df_ini['purpose'].values[0] == 'small_business'):\n",
    "    loan_df['purpose_small_business'] = 1\n",
    "else:\n",
    "    loan_df['purpose_small_business'] = 0\n",
    "    \n",
    "if(loan_df_ini['purpose'].values[0] == 'educational'):\n",
    "    loan_df['purpose_educational'] = 1\n",
    "else:\n",
    "    loan_df['purpose_educational'] = 0\n",
    "    \n",
    "if(loan_df_ini['purpose'].values[0] == 'vacation'):\n",
    "    loan_df['purpose_vacation'] = 1\n",
    "else:\n",
    "    loan_df['purpose_vacation'] = 0\n",
    "    \n",
    "if(loan_df_ini['purpose'].values[0] == 'wedding'):\n",
    "    loan_df['purpose_wedding'] = 1\n",
    "else:\n",
    "    loan_df['purpose_wedding'] = 0\n",
    "    \n",
    "    \n",
    "if(loan_df_ini['purpose'].values[0] == 'house'):\n",
    "    loan_df['purpose_house'] = 1\n",
    "else:\n",
    "    loan_df['purpose_house'] = 0\n",
    "    \n",
    "if(loan_df_ini['purpose'].values[0] == 'renewable_energy'):\n",
    "    loan_df['purpose_renewable_energy'] = 1\n",
    "else:\n",
    "    loan_df['purpose_renewable_energy'] = 0\n",
    "    \n",
    "\n",
    "loan_df\n"
   ]
  },
  {
   "cell_type": "code",
   "execution_count": 337,
   "metadata": {
    "collapsed": true
   },
   "outputs": [],
   "source": [
    "loan_df['bankruptcies'] = loan_df_ini['pubRecBankruptcies']"
   ]
  },
  {
   "cell_type": "code",
   "execution_count": 338,
   "metadata": {
    "collapsed": false
   },
   "outputs": [
    {
     "data": {
      "text/html": [
       "<div>\n",
       "<table border=\"1\" class=\"dataframe\">\n",
       "  <thead>\n",
       "    <tr style=\"text-align: right;\">\n",
       "      <th></th>\n",
       "      <th>home_ownership</th>\n",
       "      <th>verification_status_Not Verified</th>\n",
       "      <th>verification_status_Verified</th>\n",
       "      <th>verification_status_Source Verified</th>\n",
       "      <th>has_delinquent_hist</th>\n",
       "      <th>has_record_hist</th>\n",
       "      <th>loan_amnt</th>\n",
       "      <th>per_act_open</th>\n",
       "      <th>inq_last_6mths</th>\n",
       "      <th>avg_fico</th>\n",
       "      <th>...</th>\n",
       "      <th>purpose_major_purchase</th>\n",
       "      <th>purpose_car</th>\n",
       "      <th>purpose_medical</th>\n",
       "      <th>purpose_small_business</th>\n",
       "      <th>purpose_educational</th>\n",
       "      <th>purpose_vacation</th>\n",
       "      <th>purpose_wedding</th>\n",
       "      <th>purpose_house</th>\n",
       "      <th>purpose_renewable_energy</th>\n",
       "      <th>bankruptcies</th>\n",
       "    </tr>\n",
       "  </thead>\n",
       "  <tbody>\n",
       "    <tr>\n",
       "      <th>0</th>\n",
       "      <td>0</td>\n",
       "      <td>0</td>\n",
       "      <td>1</td>\n",
       "      <td>0</td>\n",
       "      <td>0</td>\n",
       "      <td>0</td>\n",
       "      <td>28125.0</td>\n",
       "      <td>0.6</td>\n",
       "      <td>1</td>\n",
       "      <td>667.0</td>\n",
       "      <td>...</td>\n",
       "      <td>0</td>\n",
       "      <td>0</td>\n",
       "      <td>0</td>\n",
       "      <td>0</td>\n",
       "      <td>0</td>\n",
       "      <td>0</td>\n",
       "      <td>0</td>\n",
       "      <td>0</td>\n",
       "      <td>0</td>\n",
       "      <td>0</td>\n",
       "    </tr>\n",
       "  </tbody>\n",
       "</table>\n",
       "<p>1 rows × 44 columns</p>\n",
       "</div>"
      ],
      "text/plain": [
       "   home_ownership  verification_status_Not Verified  \\\n",
       "0               0                                 0   \n",
       "\n",
       "   verification_status_Verified  verification_status_Source Verified  \\\n",
       "0                             1                                    0   \n",
       "\n",
       "   has_delinquent_hist  has_record_hist  loan_amnt  per_act_open  \\\n",
       "0                    0                0    28125.0           0.6   \n",
       "\n",
       "   inq_last_6mths  avg_fico      ...       purpose_major_purchase  \\\n",
       "0               1     667.0      ...                            0   \n",
       "\n",
       "   purpose_car  purpose_medical  purpose_small_business  purpose_educational  \\\n",
       "0            0                0                       0                    0   \n",
       "\n",
       "   purpose_vacation  purpose_wedding  purpose_house  purpose_renewable_energy  \\\n",
       "0                 0                0              0                         0   \n",
       "\n",
       "   bankruptcies  \n",
       "0             0  \n",
       "\n",
       "[1 rows x 44 columns]"
      ]
     },
     "execution_count": 338,
     "metadata": {},
     "output_type": "execute_result"
    }
   ],
   "source": [
    "#final_df\n",
    "loan_df"
   ]
  },
  {
   "cell_type": "code",
   "execution_count": 339,
   "metadata": {
    "collapsed": true
   },
   "outputs": [],
   "source": [
    "loan_df_test = loan_df.copy()"
   ]
  },
  {
   "cell_type": "markdown",
   "metadata": {},
   "source": [
    "#### Normalize Data"
   ]
  },
  {
   "cell_type": "code",
   "execution_count": 340,
   "metadata": {
    "collapsed": true
   },
   "outputs": [],
   "source": [
    "#reading training set\n",
    "df_processed = pd.read_csv('data/loan_fteng_data_text.csv')"
   ]
  },
  {
   "cell_type": "code",
   "execution_count": 341,
   "metadata": {
    "collapsed": false
   },
   "outputs": [
    {
     "data": {
      "text/plain": [
       "(39301, 67)"
      ]
     },
     "execution_count": 341,
     "metadata": {},
     "output_type": "execute_result"
    }
   ],
   "source": [
    "df_processed.shape"
   ]
  },
  {
   "cell_type": "code",
   "execution_count": 342,
   "metadata": {
    "collapsed": false
   },
   "outputs": [
    {
     "data": {
      "text/plain": [
       "array([ 0.,  1.,  2.])"
      ]
     },
     "execution_count": 342,
     "metadata": {},
     "output_type": "execute_result"
    }
   ],
   "source": [
    "df_processed.bankruptcies.unique()"
   ]
  },
  {
   "cell_type": "code",
   "execution_count": 343,
   "metadata": {
    "collapsed": true
   },
   "outputs": [],
   "source": [
    "#all features\n",
    "all_features = list(df_processed.columns)"
   ]
  },
  {
   "cell_type": "code",
   "execution_count": 344,
   "metadata": {
    "collapsed": true
   },
   "outputs": [],
   "source": [
    "tfidf_features = ['bill', 'card', 'consolid', 'credit', 'current', 'debt', 'fund', 'help',\n",
    "       'interest', 'job', 'loan', 'money', 'month', 'pay', 'payment', 'plan',\n",
    "       'rate', 'thank', 'time', 'work', 'year']"
   ]
  },
  {
   "cell_type": "code",
   "execution_count": 345,
   "metadata": {
    "collapsed": true
   },
   "outputs": [],
   "source": [
    "del_columns = ['funded_amnt_inv'] + tfidf_features"
   ]
  },
  {
   "cell_type": "code",
   "execution_count": 346,
   "metadata": {
    "collapsed": true
   },
   "outputs": [],
   "source": [
    "#Using intution to pick key predictors\n",
    "predictors_intution = ['home_ownership','verification_status_Not Verified',\n",
    "       'verification_status_Source Verified', 'verification_status_Verified','has_delinquent_hist','has_record_hist']"
   ]
  },
  {
   "cell_type": "code",
   "execution_count": 347,
   "metadata": {
    "collapsed": true
   },
   "outputs": [],
   "source": [
    "# % and whole numbers that can be standardized\n",
    "predictors_standardizable = ['loan_amnt','per_act_open','inq_last_6mths','avg_fico','revol_util','revol_bal','dti','years_since_first_credit','int_rate','emp_length','desc_senti_score','zip_median_income', 'zip_pop','delinq_2yrs','bankruptcies']"
   ]
  },
  {
   "cell_type": "code",
   "execution_count": 348,
   "metadata": {
    "collapsed": false
   },
   "outputs": [],
   "source": [
    "predictors_remaining = [i for i in all_features if i not in predictors_intution and i not in predictors_standardizable and i not in del_columns]"
   ]
  },
  {
   "cell_type": "code",
   "execution_count": 349,
   "metadata": {
    "collapsed": false
   },
   "outputs": [
    {
     "data": {
      "text/plain": [
       "45"
      ]
     },
     "execution_count": 349,
     "metadata": {},
     "output_type": "execute_result"
    }
   ],
   "source": [
    "#validating if all columns are there\n",
    "test = predictors_intution + predictors_standardizable + predictors_remaining\n",
    "len(test)"
   ]
  },
  {
   "cell_type": "code",
   "execution_count": 350,
   "metadata": {
    "collapsed": false
   },
   "outputs": [
    {
     "data": {
      "text/plain": [
       "['loan_status',\n",
       " 'grade_A',\n",
       " 'grade_B',\n",
       " 'grade_C',\n",
       " 'grade_D',\n",
       " 'grade_E',\n",
       " 'grade_F',\n",
       " 'grade_G',\n",
       " 'term_ 36 months',\n",
       " 'term_ 60 months',\n",
       " 'purpose_car',\n",
       " 'purpose_credit_card',\n",
       " 'purpose_debt_consolidation',\n",
       " 'purpose_educational',\n",
       " 'purpose_home_improvement',\n",
       " 'purpose_house',\n",
       " 'purpose_major_purchase',\n",
       " 'purpose_medical',\n",
       " 'purpose_moving',\n",
       " 'purpose_other',\n",
       " 'purpose_renewable_energy',\n",
       " 'purpose_small_business',\n",
       " 'purpose_vacation',\n",
       " 'purpose_wedding']"
      ]
     },
     "execution_count": 350,
     "metadata": {},
     "output_type": "execute_result"
    }
   ],
   "source": [
    "predictors_remaining"
   ]
  },
  {
   "cell_type": "code",
   "execution_count": 351,
   "metadata": {
    "collapsed": false
   },
   "outputs": [],
   "source": [
    "full_df = df_processed.loc[:,test]"
   ]
  },
  {
   "cell_type": "code",
   "execution_count": 352,
   "metadata": {
    "collapsed": false
   },
   "outputs": [
    {
     "data": {
      "text/plain": [
       "44"
      ]
     },
     "execution_count": 352,
     "metadata": {},
     "output_type": "execute_result"
    }
   ],
   "source": [
    "predictor_columns = list(full_df.columns)\n",
    "predictor_columns.remove('loan_status')\n",
    "len(predictor_columns)"
   ]
  },
  {
   "cell_type": "code",
   "execution_count": 353,
   "metadata": {
    "collapsed": false
   },
   "outputs": [
    {
     "name": "stdout",
     "output_type": "stream",
     "text": [
      "loan_amnt\n",
      "per_act_open\n",
      "inq_last_6mths\n",
      "avg_fico\n",
      "revol_util\n",
      "revol_bal\n",
      "dti\n",
      "years_since_first_credit\n",
      "int_rate\n",
      "emp_length\n",
      "desc_senti_score\n",
      "zip_median_income\n",
      "zip_pop\n",
      "delinq_2yrs\n",
      "bankruptcies\n"
     ]
    },
    {
     "name": "stderr",
     "output_type": "stream",
     "text": [
      "/Users/ajaykliyara/anaconda_py3/anaconda/lib/python3.5/site-packages/sklearn/utils/validation.py:429: DataConversionWarning: Data with input dtype int64 was converted to float64 by StandardScaler.\n",
      "  warnings.warn(msg, _DataConversionWarning)\n"
     ]
    }
   ],
   "source": [
    "for col in predictors_standardizable:\n",
    "    print(col)\n",
    "    valstrain=full_df.loc[:,col]\n",
    "    valstest=loan_df.loc[:,col]\n",
    "    scaler=StandardScaler().fit(valstrain.reshape(-1,1))\n",
    "    outtrain=scaler.transform(valstrain.reshape(-1,1))\n",
    "    outtest=scaler.fit_transform(valstest.reshape(-1,1))\n",
    "    #out=np.empty(mask.shape[0])\n",
    "    #out.flat[mask]=outtrain\n",
    "    #out.flat[~mask]=outtest\n",
    "    full_df[col]=outtrain\n",
    "    loan_df[col]=outtest"
   ]
  },
  {
   "cell_type": "code",
   "execution_count": 354,
   "metadata": {
    "collapsed": false
   },
   "outputs": [],
   "source": [
    "X =full_df[predictor_columns]\n",
    "Y =full_df['loan_status']"
   ]
  },
  {
   "cell_type": "markdown",
   "metadata": {},
   "source": [
    "#### balancing data"
   ]
  },
  {
   "cell_type": "code",
   "execution_count": 355,
   "metadata": {
    "collapsed": false
   },
   "outputs": [
    {
     "name": "stdout",
     "output_type": "stream",
     "text": [
      "5652 33649\n"
     ]
    }
   ],
   "source": [
    "#balancing dataset\n",
    "jtrain=np.arange(0, Y.shape[0])\n",
    "n_pos=len(jtrain[Y.values==1])\n",
    "n_neg=len(jtrain[Y.values==0])\n",
    "print(n_pos, n_neg)\n"
   ]
  },
  {
   "cell_type": "code",
   "execution_count": 356,
   "metadata": {
    "collapsed": false
   },
   "outputs": [
    {
     "data": {
      "text/plain": [
       "array([20374, 14020, 28981, ...,  4796,   548,  3426])"
      ]
     },
     "execution_count": 356,
     "metadata": {},
     "output_type": "execute_result"
    }
   ],
   "source": [
    "ineg = np.random.choice(jtrain[Y.values==0], n_pos, replace=False)\n",
    "ineg"
   ]
  },
  {
   "cell_type": "code",
   "execution_count": 357,
   "metadata": {
    "collapsed": false
   },
   "outputs": [
    {
     "data": {
      "text/plain": [
       "(11304,)"
      ]
     },
     "execution_count": 357,
     "metadata": {},
     "output_type": "execute_result"
    }
   ],
   "source": [
    "alli=np.concatenate((jtrain[Y.values==1], ineg))\n",
    "alli.shape"
   ]
  },
  {
   "cell_type": "code",
   "execution_count": 358,
   "metadata": {
    "collapsed": false
   },
   "outputs": [
    {
     "data": {
      "text/plain": [
       "((11304, 44), (11304,))"
      ]
     },
     "execution_count": 358,
     "metadata": {},
     "output_type": "execute_result"
    }
   ],
   "source": [
    "X_new = X.iloc[alli,:]\n",
    "Y_new = Y.iloc[alli]\n",
    "X_new.shape, Y_new.shape"
   ]
  },
  {
   "cell_type": "code",
   "execution_count": 359,
   "metadata": {
    "collapsed": false
   },
   "outputs": [],
   "source": [
    "#best classifier\n",
    "clf = LogisticRegression(C=1.0, class_weight=None, dual=False, fit_intercept=True,\n",
    "          intercept_scaling=1, max_iter=100, multi_class='ovr', n_jobs=1,\n",
    "          penalty='l1', random_state=None, solver='liblinear', tol=0.0001,\n",
    "          verbose=0, warm_start=False)\n"
   ]
  },
  {
   "cell_type": "code",
   "execution_count": 360,
   "metadata": {
    "collapsed": false
   },
   "outputs": [
    {
     "data": {
      "text/plain": [
       "LogisticRegression(C=1.0, class_weight=None, dual=False, fit_intercept=True,\n",
       "          intercept_scaling=1, max_iter=100, multi_class='ovr', n_jobs=1,\n",
       "          penalty='l1', random_state=None, solver='liblinear', tol=0.0001,\n",
       "          verbose=0, warm_start=False)"
      ]
     },
     "execution_count": 360,
     "metadata": {},
     "output_type": "execute_result"
    }
   ],
   "source": [
    "clf.fit(X_new,Y_new)"
   ]
  },
  {
   "cell_type": "code",
   "execution_count": 361,
   "metadata": {
    "collapsed": true
   },
   "outputs": [],
   "source": [
    "y_predict = clf.predict(X)"
   ]
  },
  {
   "cell_type": "code",
   "execution_count": 362,
   "metadata": {
    "collapsed": false
   },
   "outputs": [
    {
     "data": {
      "text/plain": [
       "0.63603979542505285"
      ]
     },
     "execution_count": 362,
     "metadata": {},
     "output_type": "execute_result"
    }
   ],
   "source": [
    "np.mean(Y==y_predict)"
   ]
  },
  {
   "cell_type": "code",
   "execution_count": 363,
   "metadata": {
    "collapsed": false
   },
   "outputs": [
    {
     "data": {
      "text/plain": [
       "array([[21317, 12332],\n",
       "       [ 1972,  3680]])"
      ]
     },
     "execution_count": 363,
     "metadata": {},
     "output_type": "execute_result"
    }
   ],
   "source": [
    "cm = confusion_matrix(Y,y_predict)\n",
    "cm"
   ]
  },
  {
   "cell_type": "code",
   "execution_count": 364,
   "metadata": {
    "collapsed": false
   },
   "outputs": [
    {
     "data": {
      "text/plain": [
       "array([[ 2207.,    -0.],\n",
       "       [-3901.,  3901.]])"
      ]
     },
     "execution_count": 364,
     "metadata": {},
     "output_type": "execute_result"
    }
   ],
   "source": [
    "#profit matrix\n",
    "u = np.array([[ 2207.,    -0.],\n",
    "       [-3901.,  3901.]])\n",
    "u"
   ]
  },
  {
   "cell_type": "code",
   "execution_count": 365,
   "metadata": {
    "collapsed": true
   },
   "outputs": [],
   "source": [
    "#calculating average profit per loan\n",
    "def average_profit_pl(y, ypred, u):\n",
    "    c=confusion_matrix(y,ypred)\n",
    "    score=np.sum(c*u)/np.sum(c)\n",
    "    return score"
   ]
  },
  {
   "cell_type": "code",
   "execution_count": 366,
   "metadata": {
    "collapsed": false
   },
   "outputs": [
    {
     "data": {
      "text/plain": [
       "1288.5858987968861"
      ]
     },
     "execution_count": 366,
     "metadata": {},
     "output_type": "execute_result"
    }
   ],
   "source": [
    "#profit \n",
    "average_profit_pl(Y_new, clf.predict(X_new), u)"
   ]
  },
  {
   "cell_type": "code",
   "execution_count": 367,
   "metadata": {
    "collapsed": false
   },
   "outputs": [
    {
     "data": {
      "text/plain": [
       "0.65000000000000002"
      ]
     },
     "execution_count": 367,
     "metadata": {},
     "output_type": "execute_result"
    }
   ],
   "source": [
    "sen = round(cm[(1,1)]/(cm[(1,0)] + cm[(1,1)]),2)\n",
    "sen"
   ]
  },
  {
   "cell_type": "code",
   "execution_count": 368,
   "metadata": {
    "collapsed": false
   },
   "outputs": [],
   "source": [
    "fpr, tpr, thresholds=roc_curve(Y_new, clf.predict_proba(X_new)[:,1])"
   ]
  },
  {
   "cell_type": "code",
   "execution_count": 369,
   "metadata": {
    "collapsed": false
   },
   "outputs": [
    {
     "data": {
      "text/plain": [
       "0.69410141848340823"
      ]
     },
     "execution_count": 369,
     "metadata": {},
     "output_type": "execute_result"
    }
   ],
   "source": [
    "auc(fpr,tpr)"
   ]
  },
  {
   "cell_type": "markdown",
   "metadata": {},
   "source": [
    "#### Predicting New Loan"
   ]
  },
  {
   "cell_type": "code",
   "execution_count": 370,
   "metadata": {
    "collapsed": false
   },
   "outputs": [],
   "source": [
    "#predicting new loan\n",
    "X_test =loan_df[predictor_columns]\n",
    "#Y_test =loan_df['loan_status']\n",
    "\n",
    "test_pred = clf.predict(X_test)\n",
    "test_prob = clf.predict_proba(X_test)"
   ]
  },
  {
   "cell_type": "code",
   "execution_count": 371,
   "metadata": {
    "collapsed": false
   },
   "outputs": [
    {
     "data": {
      "text/plain": [
       "array([0])"
      ]
     },
     "execution_count": 371,
     "metadata": {},
     "output_type": "execute_result"
    }
   ],
   "source": [
    "test_pred"
   ]
  },
  {
   "cell_type": "code",
   "execution_count": 372,
   "metadata": {
    "collapsed": false
   },
   "outputs": [
    {
     "data": {
      "text/plain": [
       "array([ 0.46100431])"
      ]
     },
     "execution_count": 372,
     "metadata": {},
     "output_type": "execute_result"
    }
   ],
   "source": [
    "test_prob[:,1]"
   ]
  },
  {
   "cell_type": "markdown",
   "metadata": {},
   "source": [
    "#### Visualizating Results"
   ]
  },
  {
   "cell_type": "code",
   "execution_count": 446,
   "metadata": {
    "collapsed": false
   },
   "outputs": [
    {
     "data": {
      "text/plain": [
       "<matplotlib.figure.Figure at 0x11a850d30>"
      ]
     },
     "execution_count": 446,
     "metadata": {},
     "output_type": "execute_result"
    },
    {
     "data": {
      "text/plain": [
       "<matplotlib.figure.Figure at 0x11a850d30>"
      ]
     },
     "metadata": {},
     "output_type": "display_data"
    }
   ],
   "source": [
    "sns.set_style(\"whitegrid\")\n",
    "sns.set_context(\"poster\")\n",
    "plt.figure(figsize=(10, 1))"
   ]
  },
  {
   "cell_type": "code",
   "execution_count": 297,
   "metadata": {
    "collapsed": true
   },
   "outputs": [],
   "source": [
    "%matplotlib inline"
   ]
  },
  {
   "cell_type": "code",
   "execution_count": 373,
   "metadata": {
    "collapsed": false
   },
   "outputs": [
    {
     "data": {
      "text/plain": [
       "(39301, 67)"
      ]
     },
     "execution_count": 373,
     "metadata": {},
     "output_type": "execute_result"
    }
   ],
   "source": [
    "#using subset so that plotting is efficient\n",
    "df_processed.shape"
   ]
  },
  {
   "cell_type": "code",
   "execution_count": 457,
   "metadata": {
    "collapsed": false
   },
   "outputs": [
    {
     "data": {
      "image/png": "[encoded data removed]",
      "text/plain": [
       "<matplotlib.figure.Figure at 0x11df6d710>"
      ]
     },
     "metadata": {},
     "output_type": "display_data"
    }
   ],
   "source": [
    "sns.palplot(sns.color_palette(\"Paired\"))"
   ]
  },
  {
   "cell_type": "code",
   "execution_count": 460,
   "metadata": {
    "collapsed": true
   },
   "outputs": [],
   "source": [
    "light_pal = sns.color_palette([sns.color_palette(\"Paired\")[4],sns.color_palette(\"Paired\")[2]])\n",
    "dark_pal_red = sns.color_palette([sns.color_palette(\"Paired\")[5]])\n",
    "dark_pal_green = sns.color_palette([sns.color_palette(\"Paired\")[3]])"
   ]
  },
  {
   "cell_type": "code",
   "execution_count": 461,
   "metadata": {
    "collapsed": false
   },
   "outputs": [
    {
     "data": {
      "text/plain": [
       "'New Loan - Good'"
      ]
     },
     "execution_count": 461,
     "metadata": {},
     "output_type": "execute_result"
    }
   ],
   "source": [
    "loan_df_test.loan_status.values[0]"
   ]
  },
  {
   "cell_type": "code",
   "execution_count": null,
   "metadata": {
    "collapsed": true
   },
   "outputs": [],
   "source": []
  },
  {
   "cell_type": "code",
   "execution_count": 400,
   "metadata": {
    "collapsed": false
   },
   "outputs": [
    {
     "data": {
      "text/plain": [
       "(11304, 46)"
      ]
     },
     "execution_count": 400,
     "metadata": {},
     "output_type": "execute_result"
    }
   ],
   "source": [
    "df_processed_ss = df_processed.iloc[alli,:]\n",
    "df_processed_ss = df_processed_ss.loc[:,test]\n",
    "df_processed_ss['all'] = ''\n",
    "\n",
    "df_processed_ss.shape\n",
    "\n"
   ]
  },
  {
   "cell_type": "code",
   "execution_count": 408,
   "metadata": {
    "collapsed": false
   },
   "outputs": [],
   "source": [
    "df_processed_ss['loan_status'] = df_processed_ss['loan_status'].replace({0:'good loan',1:'bad loan'})"
   ]
  },
  {
   "cell_type": "code",
   "execution_count": 377,
   "metadata": {
    "collapsed": false
   },
   "outputs": [
    {
     "data": {
      "text/plain": [
       "(1, 44)"
      ]
     },
     "execution_count": 377,
     "metadata": {},
     "output_type": "execute_result"
    }
   ],
   "source": [
    "loan_df_test.shape"
   ]
  },
  {
   "cell_type": "code",
   "execution_count": 462,
   "metadata": {
    "collapsed": false
   },
   "outputs": [
    {
     "data": {
      "text/plain": [
       "(1, 46)"
      ]
     },
     "execution_count": 462,
     "metadata": {},
     "output_type": "execute_result"
    }
   ],
   "source": [
    "loan_df_test['loan_status'] = test_pred\n",
    "loan_df_test.shape"
   ]
  },
  {
   "cell_type": "code",
   "execution_count": 463,
   "metadata": {
    "collapsed": false
   },
   "outputs": [
    {
     "data": {
      "text/plain": [
       "0"
      ]
     },
     "execution_count": 463,
     "metadata": {},
     "output_type": "execute_result"
    }
   ],
   "source": [
    "loan_df_test.loan_status.values[0]"
   ]
  },
  {
   "cell_type": "code",
   "execution_count": 464,
   "metadata": {
    "collapsed": false
   },
   "outputs": [
    {
     "data": {
      "text/plain": [
       "[(0.21171857311445125, 0.63326415104024547, 0.1812226118410335)]"
      ]
     },
     "execution_count": 464,
     "metadata": {},
     "output_type": "execute_result"
    }
   ],
   "source": [
    "if loan_df_test.loan_status.values[0] == 0:\n",
    "    dark_pal = dark_pal_green\n",
    "else:\n",
    "    dark_pal = dark_pal_red\n",
    "\n",
    "dark_pal"
   ]
  },
  {
   "cell_type": "code",
   "execution_count": 465,
   "metadata": {
    "collapsed": false
   },
   "outputs": [
    {
     "data": {
      "text/plain": [
       "0    0\n",
       "Name: loan_status, dtype: int64"
      ]
     },
     "execution_count": 465,
     "metadata": {},
     "output_type": "execute_result"
    }
   ],
   "source": [
    "loan_df_test['loan_status']"
   ]
  },
  {
   "cell_type": "code",
   "execution_count": 466,
   "metadata": {
    "collapsed": true
   },
   "outputs": [],
   "source": [
    "loan_df_test['loan_status'] = loan_df_test['loan_status'].replace({0:'New Loan - Good',1:'New Loan - bad loan'})"
   ]
  },
  {
   "cell_type": "code",
   "execution_count": 404,
   "metadata": {
    "collapsed": true
   },
   "outputs": [],
   "source": [
    "loan_df_test['all'] = ''"
   ]
  },
  {
   "cell_type": "code",
   "execution_count": 384,
   "metadata": {
    "collapsed": false
   },
   "outputs": [
    {
     "data": {
      "text/plain": [
       "(11305, 45)"
      ]
     },
     "execution_count": 384,
     "metadata": {},
     "output_type": "execute_result"
    }
   ],
   "source": [
    "vis_df = pd.concat([df_processed_ss,loan_df_test])\n",
    "vis_df.shape"
   ]
  },
  {
   "cell_type": "code",
   "execution_count": 401,
   "metadata": {
    "collapsed": true
   },
   "outputs": [],
   "source": [
    "vis_df['all'] = ''"
   ]
  },
  {
   "cell_type": "code",
   "execution_count": 467,
   "metadata": {
    "collapsed": false
   },
   "outputs": [
    {
     "data": {
      "image/png": "[encoded data removed]",
      "text/plain": [
       "<matplotlib.figure.Figure at 0x11ac7c9b0>"
      ]
     },
     "metadata": {},
     "output_type": "display_data"
    }
   ],
   "source": [
    "#ax = sns.stripplot(x=full_df[\"loan_amnt\"])\n",
    "with light_pal:\n",
    "    ax = sns.stripplot(x=\"loan_amnt\", y=\"all\" , hue=\"loan_status\",data=df_processed_ss, jitter=0.05,size=4)\n",
    "    ax.set_title('Loan Amount')\n",
    "\n",
    "with dark_pal:\n",
    "    ax = sns.stripplot(x=\"loan_amnt\", y=\"all\" , hue=\"loan_status\",data=loan_df_test,size = 10)"
   ]
  },
  {
   "cell_type": "code",
   "execution_count": 468,
   "metadata": {
    "collapsed": false
   },
   "outputs": [
    {
     "data": {
      "image/png": "[encoded data removed]",
      "text/plain": [
       "<matplotlib.figure.Figure at 0x116f780b8>"
      ]
     },
     "metadata": {},
     "output_type": "display_data"
    }
   ],
   "source": [
    "#ax = sns.stripplot(x=full_df[\"loan_amnt\"])\n",
    "with light_pal:\n",
    "    ax = sns.stripplot(x=\"int_rate\", y=\"all\" , hue=\"loan_status\",data=df_processed_ss, jitter=0.05,size=4)\n",
    "    ax.set_title('Interest Rate')\n",
    "\n",
    "with dark_pal:\n",
    "    ax = sns.stripplot(x=\"int_rate\", y=\"all\" , hue=\"loan_status\",data=loan_df_test,size = 10)"
   ]
  }
 ],
 "metadata": {
  "anaconda-cloud": {},
  "kernelspec": {
   "display_name": "Python [Root]",
   "language": "python",
   "name": "Python [Root]"
  },
  "language_info": {
   "codemirror_mode": {
    "name": "ipython",
    "version": 3
   },
   "file_extension": ".py",
   "mimetype": "text/x-python",
   "name": "python",
   "nbconvert_exporter": "python",
   "pygments_lexer": "ipython3",
   "version": "3.5.2"
  }
 },
 "nbformat": 4,
 "nbformat_minor": 0
}
