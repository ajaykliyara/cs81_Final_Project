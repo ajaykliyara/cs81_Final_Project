{
 "cells": [
  {
   "cell_type": "markdown",
   "metadata": {},
   "source": [
    "### <center>Lending Club Loan Analysis</center>"
   ]
  },
  {
   "cell_type": "markdown",
   "metadata": {},
   "source": [
    "Lending Club is a web site where individual borrowers can apply for loans, and individual investors can provide capital for loans.  The purpose of our project was to investigate lendingclub.com historical data with machine learning algorighms.  \n"
   ]
  },
  {
   "cell_type": "markdown",
   "metadata": {},
   "source": [
    "Specifically, our project had 3 main goals"
   ]
  },
  {
   "cell_type": "markdown",
   "metadata": {},
   "source": [
    "#### Goal 1 : Loan Marketplace Model Development\n",
    "Our first goal was to develop machine learning models to predict loan default on Lending Club marketplace notes.  The lending club loan marketplace is a note trading platform which allows investors to buy and sell notes from each other.  Notes in the marketplace have gone through the loan origination process and and are fully funded by investors.<br>\n",
    "\n",
    "[R & H20 Code](code/lending_club.html)"
   ]
  },
  {
   "cell_type": "markdown",
   "metadata": {},
   "source": [
    "#### Goal 2 : Loan Origination Model Development\n",
    "Our second goal was to develop machine learning models to make loan origination default predictions.  Loans in the loan origination process are loans which are currently in the funding process and are available for investment by individual investors.<br>\n"
   ]
  },
  {
   "cell_type": "markdown",
   "metadata": {},
   "source": [
    "##### 1. H2O Loan Origination Models"
   ]
  },
  {
   "cell_type": "markdown",
   "metadata": {},
   "source": [
    "##### 2. SciKit Learn Loan Origination Models"
   ]
  },
  {
   "cell_type": "markdown",
   "metadata": {},
   "source": [
    "1. [Initial Processing](code/intial_processing.ipynb) - This file has the code for reading in data, preprocessing it, creating few features such as sentiment score and imputing zip code with median income and population.\n",
    "2. [Initial Classification with Feature Engineering](code/Initial Classification with Feature Engineering.ipynb) - This file contains bulk of the feature engineering, eliminating multi collinear features and initial classifier runs to get the feel for the data.\n",
    "3. [Classification by Optimizing Profit](code/classification_by_optimizing_profit.ipynb) - This file has the code which creates the custom scoring function and optimizes various classifiers using this function, thus helping the classifier which maxmizes profit."
   ]
  },
  {
   "cell_type": "markdown",
   "metadata": {},
   "source": [
    "#### Goal 3 : Lending Club Developer API\n",
    "Our third goal was to explore the Lending Club developer application programming interface (API).  Lending Club provides an API which allows investors with sophisticated programming skills to analyze loan data and execute investments via custom software.\n"
   ]
  },
  {
   "cell_type": "markdown",
   "metadata": {},
   "source": [
    "[Loan Default Predictor Application](code/loan_default_predictor_application.ipynb) - This file has the code for extracting data from API, running predictions on it and building an application using the data, which investor can interact with."
   ]
  },
  {
   "cell_type": "markdown",
   "metadata": {},
   "source": [
    "#### Note - In order to run the API code the following steps needs to be followed.\n",
    "\n",
    "Steps to Run this application<br>\n",
    "1. Need to create a account with lending club with approval from them to use their API.\n",
    "2. Once approved, you will be able to generate an API key.\n",
    "3. once key is generated, save it in a text file in a folder of your choice and read from it into key_df variable."
   ]
  }
 ],
 "metadata": {
  "anaconda-cloud": {},
  "kernelspec": {
   "display_name": "Python [Root]",
   "language": "python",
   "name": "Python [Root]"
  },
  "language_info": {
   "codemirror_mode": {
    "name": "ipython",
    "version": 3
   },
   "file_extension": ".py",
   "mimetype": "text/x-python",
   "name": "python",
   "nbconvert_exporter": "python",
   "pygments_lexer": "ipython3",
   "version": "3.5.2"
  }
 },
 "nbformat": 4,
 "nbformat_minor": 0
}
