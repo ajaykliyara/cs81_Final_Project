{
 "cells": [
  {
   "cell_type": "code",
   "execution_count": 156,
   "metadata": {
    "collapsed": false
   },
   "outputs": [],
   "source": [
    "import requests\n",
    "import os\n",
    "import pandas as pd\n",
    "import numpy as np\n",
    "import json\n",
    "from dateutil import relativedelta as rdelta\n",
    "from datetime import date\n",
    "from datetime import datetime\n",
    "from afinn import Afinn"
   ]
  },
  {
   "cell_type": "code",
   "execution_count": 22,
   "metadata": {
    "collapsed": false
   },
   "outputs": [],
   "source": [
    "key_df = pd.read_csv(\"/Users/ajaykliyara/Documents/lc_key.txt\",header=None)\n",
    "key = key_df.iloc[:,:].values[0][0]"
   ]
  },
  {
   "cell_type": "code",
   "execution_count": 23,
   "metadata": {
    "collapsed": true
   },
   "outputs": [],
   "source": [
    "s = requests.Session()\n",
    "s.headers.update({'Authorization': key})\n",
    "r = s.get('https://api.lendingclub.com/api/investor/v1/loans/listing')\n"
   ]
  },
  {
   "cell_type": "code",
   "execution_count": 30,
   "metadata": {
    "collapsed": false
   },
   "outputs": [],
   "source": [
    "data = json.loads(r.text)"
   ]
  },
  {
   "cell_type": "code",
   "execution_count": 46,
   "metadata": {
    "collapsed": false
   },
   "outputs": [
    {
     "data": {
      "text/plain": [
       "{'accNowDelinq': 0,\n",
       " 'accOpenPast24Mths': 1,\n",
       " 'acceptD': '2016-11-16T16:13:06.000-08:00',\n",
       " 'addrState': 'NY',\n",
       " 'addrZip': '112xx',\n",
       " 'allUtil': 81.8,\n",
       " 'annualInc': 60000.0,\n",
       " 'annualIncJoint': None,\n",
       " 'applicationType': 'INDIVIDUAL',\n",
       " 'avgCurBal': 2700,\n",
       " 'bcOpenToBuy': 4398,\n",
       " 'bcUtil': 84.7,\n",
       " 'chargeoffWithin12Mths': 0,\n",
       " 'collections12MthsExMed': 0,\n",
       " 'creditPullD': '2016-11-14T09:57:22.000-08:00',\n",
       " 'delinq2Yrs': 0,\n",
       " 'delinqAmnt': 0.0,\n",
       " 'desc': None,\n",
       " 'dti': 12.7,\n",
       " 'dtiJoint': None,\n",
       " 'earliestCrLine': '2002-04-13T17:00:00.000-07:00',\n",
       " 'empLength': 24,\n",
       " 'empTitle': 'security and command center',\n",
       " 'expD': '2016-12-31T16:13:07.000-08:00',\n",
       " 'expDefaultRate': 13.07,\n",
       " 'ficoRangeHigh': 669,\n",
       " 'ficoRangeLow': 665,\n",
       " 'fundedAmount': 9525.0,\n",
       " 'grade': 'D',\n",
       " 'homeOwnership': 'RENT',\n",
       " 'iLUtil': None,\n",
       " 'id': 93693879,\n",
       " 'ilsExpD': '2016-12-10T18:00:00.000-08:00',\n",
       " 'initialListStatus': 'F',\n",
       " 'inqFi': 0,\n",
       " 'inqLast12m': 1,\n",
       " 'inqLast6Mths': 1,\n",
       " 'installment': 1066.71,\n",
       " 'intRate': 21.49,\n",
       " 'investorCount': None,\n",
       " 'isIncV': 'VERIFIED',\n",
       " 'isIncVJoint': None,\n",
       " 'listD': '2016-12-10T18:00:00.000-08:00',\n",
       " 'loanAmount': 28125.0,\n",
       " 'maxBalBc': 6319.0,\n",
       " 'memberId': 100573266,\n",
       " 'moSinOldIlAcct': None,\n",
       " 'moSinOldRevTlOp': 175,\n",
       " 'moSinRcntRevTlOp': 1,\n",
       " 'moSinRcntTl': 1,\n",
       " 'mortAcc': 0,\n",
       " 'mthsSinceLastDelinq': None,\n",
       " 'mthsSinceLastMajorDerog': None,\n",
       " 'mthsSinceLastRecord': None,\n",
       " 'mthsSinceRcntIl': None,\n",
       " 'mthsSinceRecentBc': 1,\n",
       " 'mthsSinceRecentBcDlq': None,\n",
       " 'mthsSinceRecentInq': 1,\n",
       " 'mthsSinceRecentRevolDelinq': None,\n",
       " 'numAcctsEver120Ppd': 0,\n",
       " 'numActvBcTl': 7,\n",
       " 'numActvRevTl': 7,\n",
       " 'numBcSats': 8,\n",
       " 'numBcTl': 14,\n",
       " 'numIlTl': 0,\n",
       " 'numOpRevTl': 9,\n",
       " 'numRevAccts': 15,\n",
       " 'numRevTlBalGt0': 7,\n",
       " 'numSats': 9,\n",
       " 'numTl120dpd2m': 0,\n",
       " 'numTl30dpd': 0,\n",
       " 'numTl90gDpd24m': 0,\n",
       " 'numTlOpPast12m': 1,\n",
       " 'openAcc': 9,\n",
       " 'openAcc6m': 1,\n",
       " 'openIl12m': 0,\n",
       " 'openIl24m': 0,\n",
       " 'openIl6m': 0,\n",
       " 'openRv12m': 1,\n",
       " 'openRv24m': 1,\n",
       " 'pctTlNvrDlq': 100,\n",
       " 'percentBcGt75': 87.5,\n",
       " 'pubRec': 0,\n",
       " 'pubRecBankruptcies': 0,\n",
       " 'purpose': 'debt_consolidation',\n",
       " 'reviewStatus': 'APPROVED',\n",
       " 'reviewStatusD': '2016-12-10T16:24:31.000-08:00',\n",
       " 'revolBal': 24302.0,\n",
       " 'revolUtil': 81.8,\n",
       " 'serviceFeeRate': 1.1,\n",
       " 'subGrade': 'D5',\n",
       " 'taxLiens': 0,\n",
       " 'term': 36,\n",
       " 'totCollAmt': 0,\n",
       " 'totCurBal': 24302,\n",
       " 'totHiCredLim': 29700,\n",
       " 'totalAcc': 15,\n",
       " 'totalBalExMort': 24302,\n",
       " 'totalBalIl': 0.0,\n",
       " 'totalBcLimit': 28700,\n",
       " 'totalCuTl': 0,\n",
       " 'totalIlHighCreditLimit': 0,\n",
       " 'totalRevHiLim': 29700}"
      ]
     },
     "execution_count": 46,
     "metadata": {},
     "output_type": "execute_result"
    }
   ],
   "source": [
    "loan_data = data['loans'][0]\n",
    "loan_data"
   ]
  },
  {
   "cell_type": "code",
   "execution_count": 63,
   "metadata": {
    "collapsed": false
   },
   "outputs": [
    {
     "data": {
      "text/html": [
       "<div>\n",
       "<table border=\"1\" class=\"dataframe\">\n",
       "  <thead>\n",
       "    <tr style=\"text-align: right;\">\n",
       "      <th></th>\n",
       "      <th>accNowDelinq</th>\n",
       "      <th>accOpenPast24Mths</th>\n",
       "      <th>acceptD</th>\n",
       "      <th>addrState</th>\n",
       "      <th>addrZip</th>\n",
       "      <th>allUtil</th>\n",
       "      <th>annualInc</th>\n",
       "      <th>annualIncJoint</th>\n",
       "      <th>applicationType</th>\n",
       "      <th>avgCurBal</th>\n",
       "      <th>...</th>\n",
       "      <th>totCollAmt</th>\n",
       "      <th>totCurBal</th>\n",
       "      <th>totHiCredLim</th>\n",
       "      <th>totalAcc</th>\n",
       "      <th>totalBalExMort</th>\n",
       "      <th>totalBalIl</th>\n",
       "      <th>totalBcLimit</th>\n",
       "      <th>totalCuTl</th>\n",
       "      <th>totalIlHighCreditLimit</th>\n",
       "      <th>totalRevHiLim</th>\n",
       "    </tr>\n",
       "  </thead>\n",
       "  <tbody>\n",
       "    <tr>\n",
       "      <th>0</th>\n",
       "      <td>0</td>\n",
       "      <td>1</td>\n",
       "      <td>2016-11-16T16:13:06.000-08:00</td>\n",
       "      <td>NY</td>\n",
       "      <td>112xx</td>\n",
       "      <td>81.8</td>\n",
       "      <td>60000.0</td>\n",
       "      <td>None</td>\n",
       "      <td>INDIVIDUAL</td>\n",
       "      <td>2700</td>\n",
       "      <td>...</td>\n",
       "      <td>0</td>\n",
       "      <td>24302</td>\n",
       "      <td>29700</td>\n",
       "      <td>15</td>\n",
       "      <td>24302</td>\n",
       "      <td>0.0</td>\n",
       "      <td>28700</td>\n",
       "      <td>0</td>\n",
       "      <td>0</td>\n",
       "      <td>29700</td>\n",
       "    </tr>\n",
       "  </tbody>\n",
       "</table>\n",
       "<p>1 rows × 103 columns</p>\n",
       "</div>"
      ],
      "text/plain": [
       "   accNowDelinq  accOpenPast24Mths                        acceptD addrState  \\\n",
       "0             0                  1  2016-11-16T16:13:06.000-08:00        NY   \n",
       "\n",
       "  addrZip  allUtil  annualInc annualIncJoint applicationType  avgCurBal  \\\n",
       "0   112xx     81.8    60000.0           None      INDIVIDUAL       2700   \n",
       "\n",
       "       ...       totCollAmt  totCurBal  totHiCredLim  totalAcc totalBalExMort  \\\n",
       "0      ...                0      24302         29700        15          24302   \n",
       "\n",
       "   totalBalIl  totalBcLimit totalCuTl  totalIlHighCreditLimit totalRevHiLim  \n",
       "0         0.0         28700         0                       0         29700  \n",
       "\n",
       "[1 rows x 103 columns]"
      ]
     },
     "execution_count": 63,
     "metadata": {},
     "output_type": "execute_result"
    }
   ],
   "source": [
    "loan_df_ini = pd.DataFrame([loan_data])\n",
    "loan_df_ini"
   ]
  },
  {
   "cell_type": "code",
   "execution_count": 58,
   "metadata": {
    "collapsed": true
   },
   "outputs": [],
   "source": [
    "col_list = ['home_ownership', 'verification_status_Not Verified',\n",
    "       'verification_status_Source Verified', 'verification_status_Verified',\n",
    "       'has_delinquent_hist', 'has_record_hist', 'loan_amnt', 'per_act_open',\n",
    "       'inq_last_6mths', 'avg_fico', 'revol_util', 'revol_bal', 'dti',\n",
    "       'years_since_first_credit', 'int_rate', 'emp_length',\n",
    "       'desc_senti_score', 'zip_median_income', 'zip_pop', 'delinq_2yrs',\n",
    "       'grade_A', 'grade_B', 'grade_C', 'grade_D', 'grade_E', 'grade_F',\n",
    "       'grade_G', 'term_ 36 months', 'term_ 60 months', 'purpose_car',\n",
    "       'purpose_credit_card', 'purpose_debt_consolidation',\n",
    "       'purpose_educational', 'purpose_home_improvement', 'purpose_house',\n",
    "       'purpose_major_purchase', 'purpose_medical', 'purpose_moving',\n",
    "       'purpose_other', 'purpose_renewable_energy', 'purpose_small_business',\n",
    "       'purpose_vacation', 'purpose_wedding', 'bankruptcies']"
   ]
  },
  {
   "cell_type": "code",
   "execution_count": 68,
   "metadata": {
    "collapsed": true
   },
   "outputs": [],
   "source": [
    "#loan_df = pd.DataFrame(columns=col_list)\n",
    "loan_df = pd.DataFrame()"
   ]
  },
  {
   "cell_type": "code",
   "execution_count": 69,
   "metadata": {
    "collapsed": false
   },
   "outputs": [
    {
     "data": {
      "text/html": [
       "<div>\n",
       "<table border=\"1\" class=\"dataframe\">\n",
       "  <thead>\n",
       "    <tr style=\"text-align: right;\">\n",
       "      <th></th>\n",
       "    </tr>\n",
       "  </thead>\n",
       "  <tbody>\n",
       "  </tbody>\n",
       "</table>\n",
       "</div>"
      ],
      "text/plain": [
       "Empty DataFrame\n",
       "Columns: []\n",
       "Index: []"
      ]
     },
     "execution_count": 69,
     "metadata": {},
     "output_type": "execute_result"
    }
   ],
   "source": [
    "loan_df"
   ]
  },
  {
   "cell_type": "code",
   "execution_count": 70,
   "metadata": {
    "collapsed": false
   },
   "outputs": [
    {
     "data": {
      "text/plain": [
       "0    0\n",
       "Name: home_ownership, dtype: int64"
      ]
     },
     "execution_count": 70,
     "metadata": {},
     "output_type": "execute_result"
    }
   ],
   "source": [
    "#home ownership\n",
    "ownership_lookup = {'MORTGAGE': 2, 'NONE': 4, 'OTHER': 3, 'OWN': 1, 'RENT': 0}\n",
    "loan_df['homeOwnership'] = loan_df_ini['homeOwnership']\n",
    "loan_df['homeOwnership'].replace(ownership_lookup, inplace=True)\n",
    "loan_df=loan_df.rename(columns = {'homeOwnership':'home_ownership'})\n",
    "loan_df['home_ownership']"
   ]
  },
  {
   "cell_type": "code",
   "execution_count": 80,
   "metadata": {
    "collapsed": false
   },
   "outputs": [
    {
     "data": {
      "text/plain": [
       "['Verified', 'Not Verified', 'Source Verified']"
      ]
     },
     "execution_count": 80,
     "metadata": {},
     "output_type": "execute_result"
    }
   ],
   "source": [
    "['Verified', 'Not Verified', 'Source Verified']"
   ]
  },
  {
   "cell_type": "code",
   "execution_count": null,
   "metadata": {
    "collapsed": true
   },
   "outputs": [],
   "source": [
    "str.upper"
   ]
  },
  {
   "cell_type": "code",
   "execution_count": 190,
   "metadata": {
    "collapsed": false
   },
   "outputs": [
    {
     "data": {
      "text/html": [
       "<div>\n",
       "<table border=\"1\" class=\"dataframe\">\n",
       "  <thead>\n",
       "    <tr style=\"text-align: right;\">\n",
       "      <th></th>\n",
       "      <th>home_ownership</th>\n",
       "      <th>verification_status_Not Verified</th>\n",
       "      <th>verification_status_Source Verified</th>\n",
       "      <th>verification_status_Verified</th>\n",
       "      <th>has_delinquent_hist</th>\n",
       "      <th>has_record_hist</th>\n",
       "      <th>loan_amnt</th>\n",
       "      <th>per_act_open</th>\n",
       "      <th>inq_last_6mths</th>\n",
       "      <th>avg_fico</th>\n",
       "      <th>revol_util</th>\n",
       "      <th>revol_bal</th>\n",
       "      <th>dti</th>\n",
       "      <th>years_since_first_credit</th>\n",
       "      <th>int_rate</th>\n",
       "      <th>emp_length</th>\n",
       "      <th>desc_senti_score</th>\n",
       "      <th>zip_median_income</th>\n",
       "      <th>zip_pop</th>\n",
       "      <th>delinq_2yrs</th>\n",
       "    </tr>\n",
       "  </thead>\n",
       "  <tbody>\n",
       "    <tr>\n",
       "      <th>0</th>\n",
       "      <td>0</td>\n",
       "      <td>0</td>\n",
       "      <td>0</td>\n",
       "      <td>1</td>\n",
       "      <td>0</td>\n",
       "      <td>0</td>\n",
       "      <td>28125.0</td>\n",
       "      <td>0.6</td>\n",
       "      <td>1</td>\n",
       "      <td>667.0</td>\n",
       "      <td>81.8</td>\n",
       "      <td>24302.0</td>\n",
       "      <td>12.7</td>\n",
       "      <td>13</td>\n",
       "      <td>21.49</td>\n",
       "      <td>24</td>\n",
       "      <td>0</td>\n",
       "      <td>46258.984068</td>\n",
       "      <td>65833.432432</td>\n",
       "      <td>0</td>\n",
       "    </tr>\n",
       "  </tbody>\n",
       "</table>\n",
       "</div>"
      ],
      "text/plain": [
       "   home_ownership  verification_status_Not Verified  \\\n",
       "0               0                                 0   \n",
       "\n",
       "   verification_status_Source Verified  verification_status_Verified  \\\n",
       "0                                    0                             1   \n",
       "\n",
       "   has_delinquent_hist  has_record_hist  loan_amnt  per_act_open  \\\n",
       "0                    0                0    28125.0           0.6   \n",
       "\n",
       "   inq_last_6mths  avg_fico  revol_util  revol_bal   dti  \\\n",
       "0               1     667.0        81.8    24302.0  12.7   \n",
       "\n",
       "   years_since_first_credit  int_rate  emp_length  desc_senti_score  \\\n",
       "0                        13     21.49          24                 0   \n",
       "\n",
       "   zip_median_income       zip_pop  delinq_2yrs  \n",
       "0       46258.984068  65833.432432            0  "
      ]
     },
     "execution_count": 190,
     "metadata": {},
     "output_type": "execute_result"
    }
   ],
   "source": [
    "#verification status\n",
    "if(str.upper(loan_df_ini['isIncV'].values[0]) == 'NOT VERIFIED'):\n",
    "    loan_df['verification_status_Not Verified'] = 1\n",
    "else:\n",
    "    loan_df['verification_status_Not Verified'] = 0\n",
    "\n",
    "if(str.upper(loan_df_ini['isIncV'].values[0]) == 'VERIFIED'):\n",
    "    loan_df['verification_status_Verified'] = 1\n",
    "else:\n",
    "    loan_df['verification_status_Verified'] = 0\n",
    "\n",
    "if(str.upper(loan_df_ini['isIncV'].values[0]) == 'SOURCE VERIFIED'):\n",
    "    loan_df['verification_status_Source Verified'] = 1\n",
    "else:\n",
    "    loan_df['verification_status_Source Verified'] = 0\n",
    "\n",
    "loan_df"
   ]
  },
  {
   "cell_type": "code",
   "execution_count": 107,
   "metadata": {
    "collapsed": false
   },
   "outputs": [
    {
     "data": {
      "text/html": [
       "<div>\n",
       "<table border=\"1\" class=\"dataframe\">\n",
       "  <thead>\n",
       "    <tr style=\"text-align: right;\">\n",
       "      <th></th>\n",
       "      <th>home_ownership</th>\n",
       "      <th>verification_status_Not Verified</th>\n",
       "      <th>verification_status_Source Verified</th>\n",
       "      <th>verification_status_Verified</th>\n",
       "      <th>has_delinquent_hist</th>\n",
       "    </tr>\n",
       "  </thead>\n",
       "  <tbody>\n",
       "    <tr>\n",
       "      <th>0</th>\n",
       "      <td>0</td>\n",
       "      <td>0</td>\n",
       "      <td>0</td>\n",
       "      <td>1</td>\n",
       "      <td>0</td>\n",
       "    </tr>\n",
       "  </tbody>\n",
       "</table>\n",
       "</div>"
      ],
      "text/plain": [
       "   home_ownership  verification_status_Not Verified  \\\n",
       "0               0                                 0   \n",
       "\n",
       "   verification_status_Source Verified  verification_status_Verified  \\\n",
       "0                                    0                             1   \n",
       "\n",
       "   has_delinquent_hist  \n",
       "0                    0  "
      ]
     },
     "execution_count": 107,
     "metadata": {},
     "output_type": "execute_result"
    }
   ],
   "source": [
    "#has delinq hist\n",
    "#loan_df_ini['mthsSinceLastDelinq'].apply(lambda s : int(~(s==None) or ~np.isnan(s)))\n",
    "loan_df['has_delinquent_hist'] = loan_df_ini['mthsSinceLastDelinq'].apply(lambda s : int(s!=None))\n",
    "loan_df"
   ]
  },
  {
   "cell_type": "code",
   "execution_count": 108,
   "metadata": {
    "collapsed": false
   },
   "outputs": [
    {
     "data": {
      "text/html": [
       "<div>\n",
       "<table border=\"1\" class=\"dataframe\">\n",
       "  <thead>\n",
       "    <tr style=\"text-align: right;\">\n",
       "      <th></th>\n",
       "      <th>home_ownership</th>\n",
       "      <th>verification_status_Not Verified</th>\n",
       "      <th>verification_status_Source Verified</th>\n",
       "      <th>verification_status_Verified</th>\n",
       "      <th>has_delinquent_hist</th>\n",
       "      <th>has_record_hist</th>\n",
       "    </tr>\n",
       "  </thead>\n",
       "  <tbody>\n",
       "    <tr>\n",
       "      <th>0</th>\n",
       "      <td>0</td>\n",
       "      <td>0</td>\n",
       "      <td>0</td>\n",
       "      <td>1</td>\n",
       "      <td>0</td>\n",
       "      <td>0</td>\n",
       "    </tr>\n",
       "  </tbody>\n",
       "</table>\n",
       "</div>"
      ],
      "text/plain": [
       "   home_ownership  verification_status_Not Verified  \\\n",
       "0               0                                 0   \n",
       "\n",
       "   verification_status_Source Verified  verification_status_Verified  \\\n",
       "0                                    0                             1   \n",
       "\n",
       "   has_delinquent_hist  has_record_hist  \n",
       "0                    0                0  "
      ]
     },
     "execution_count": 108,
     "metadata": {},
     "output_type": "execute_result"
    }
   ],
   "source": [
    "#mths_since_last_record\n",
    "loan_df['has_record_hist'] = loan_df_ini['mthsSinceLastRecord'].apply(lambda s : int(s!=None))\n",
    "loan_df\n"
   ]
  },
  {
   "cell_type": "code",
   "execution_count": 110,
   "metadata": {
    "collapsed": false
   },
   "outputs": [
    {
     "data": {
      "text/html": [
       "<div>\n",
       "<table border=\"1\" class=\"dataframe\">\n",
       "  <thead>\n",
       "    <tr style=\"text-align: right;\">\n",
       "      <th></th>\n",
       "      <th>home_ownership</th>\n",
       "      <th>verification_status_Not Verified</th>\n",
       "      <th>verification_status_Source Verified</th>\n",
       "      <th>verification_status_Verified</th>\n",
       "      <th>has_delinquent_hist</th>\n",
       "      <th>has_record_hist</th>\n",
       "      <th>loan_amnt</th>\n",
       "    </tr>\n",
       "  </thead>\n",
       "  <tbody>\n",
       "    <tr>\n",
       "      <th>0</th>\n",
       "      <td>0</td>\n",
       "      <td>0</td>\n",
       "      <td>0</td>\n",
       "      <td>1</td>\n",
       "      <td>0</td>\n",
       "      <td>0</td>\n",
       "      <td>28125.0</td>\n",
       "    </tr>\n",
       "  </tbody>\n",
       "</table>\n",
       "</div>"
      ],
      "text/plain": [
       "   home_ownership  verification_status_Not Verified  \\\n",
       "0               0                                 0   \n",
       "\n",
       "   verification_status_Source Verified  verification_status_Verified  \\\n",
       "0                                    0                             1   \n",
       "\n",
       "   has_delinquent_hist  has_record_hist  loan_amnt  \n",
       "0                    0                0    28125.0  "
      ]
     },
     "execution_count": 110,
     "metadata": {},
     "output_type": "execute_result"
    }
   ],
   "source": [
    "loan_df['loan_amnt'] = loan_df_ini['loanAmount']\n",
    "loan_df"
   ]
  },
  {
   "cell_type": "code",
   "execution_count": 111,
   "metadata": {
    "collapsed": false
   },
   "outputs": [
    {
     "data": {
      "text/html": [
       "<div>\n",
       "<table border=\"1\" class=\"dataframe\">\n",
       "  <thead>\n",
       "    <tr style=\"text-align: right;\">\n",
       "      <th></th>\n",
       "      <th>home_ownership</th>\n",
       "      <th>verification_status_Not Verified</th>\n",
       "      <th>verification_status_Source Verified</th>\n",
       "      <th>verification_status_Verified</th>\n",
       "      <th>has_delinquent_hist</th>\n",
       "      <th>has_record_hist</th>\n",
       "      <th>loan_amnt</th>\n",
       "      <th>per_act_open</th>\n",
       "    </tr>\n",
       "  </thead>\n",
       "  <tbody>\n",
       "    <tr>\n",
       "      <th>0</th>\n",
       "      <td>0</td>\n",
       "      <td>0</td>\n",
       "      <td>0</td>\n",
       "      <td>1</td>\n",
       "      <td>0</td>\n",
       "      <td>0</td>\n",
       "      <td>28125.0</td>\n",
       "      <td>0.6</td>\n",
       "    </tr>\n",
       "  </tbody>\n",
       "</table>\n",
       "</div>"
      ],
      "text/plain": [
       "   home_ownership  verification_status_Not Verified  \\\n",
       "0               0                                 0   \n",
       "\n",
       "   verification_status_Source Verified  verification_status_Verified  \\\n",
       "0                                    0                             1   \n",
       "\n",
       "   has_delinquent_hist  has_record_hist  loan_amnt  per_act_open  \n",
       "0                    0                0    28125.0           0.6  "
      ]
     },
     "execution_count": 111,
     "metadata": {},
     "output_type": "execute_result"
    }
   ],
   "source": [
    "#per_act_open\n",
    "loan_df['per_act_open'] = loan_df_ini.openAcc/loan_df_ini.totalAcc\n",
    "loan_df"
   ]
  },
  {
   "cell_type": "code",
   "execution_count": 112,
   "metadata": {
    "collapsed": false
   },
   "outputs": [
    {
     "data": {
      "text/html": [
       "<div>\n",
       "<table border=\"1\" class=\"dataframe\">\n",
       "  <thead>\n",
       "    <tr style=\"text-align: right;\">\n",
       "      <th></th>\n",
       "      <th>home_ownership</th>\n",
       "      <th>verification_status_Not Verified</th>\n",
       "      <th>verification_status_Source Verified</th>\n",
       "      <th>verification_status_Verified</th>\n",
       "      <th>has_delinquent_hist</th>\n",
       "      <th>has_record_hist</th>\n",
       "      <th>loan_amnt</th>\n",
       "      <th>per_act_open</th>\n",
       "      <th>inq_last_6mths</th>\n",
       "    </tr>\n",
       "  </thead>\n",
       "  <tbody>\n",
       "    <tr>\n",
       "      <th>0</th>\n",
       "      <td>0</td>\n",
       "      <td>0</td>\n",
       "      <td>0</td>\n",
       "      <td>1</td>\n",
       "      <td>0</td>\n",
       "      <td>0</td>\n",
       "      <td>28125.0</td>\n",
       "      <td>0.6</td>\n",
       "      <td>1</td>\n",
       "    </tr>\n",
       "  </tbody>\n",
       "</table>\n",
       "</div>"
      ],
      "text/plain": [
       "   home_ownership  verification_status_Not Verified  \\\n",
       "0               0                                 0   \n",
       "\n",
       "   verification_status_Source Verified  verification_status_Verified  \\\n",
       "0                                    0                             1   \n",
       "\n",
       "   has_delinquent_hist  has_record_hist  loan_amnt  per_act_open  \\\n",
       "0                    0                0    28125.0           0.6   \n",
       "\n",
       "   inq_last_6mths  \n",
       "0               1  "
      ]
     },
     "execution_count": 112,
     "metadata": {},
     "output_type": "execute_result"
    }
   ],
   "source": [
    "#inqLast6Mths \n",
    "loan_df['inq_last_6mths'] = loan_df_ini['inqLast6Mths']\n",
    "loan_df\n"
   ]
  },
  {
   "cell_type": "code",
   "execution_count": 113,
   "metadata": {
    "collapsed": false
   },
   "outputs": [
    {
     "data": {
      "text/html": [
       "<div>\n",
       "<table border=\"1\" class=\"dataframe\">\n",
       "  <thead>\n",
       "    <tr style=\"text-align: right;\">\n",
       "      <th></th>\n",
       "      <th>home_ownership</th>\n",
       "      <th>verification_status_Not Verified</th>\n",
       "      <th>verification_status_Source Verified</th>\n",
       "      <th>verification_status_Verified</th>\n",
       "      <th>has_delinquent_hist</th>\n",
       "      <th>has_record_hist</th>\n",
       "      <th>loan_amnt</th>\n",
       "      <th>per_act_open</th>\n",
       "      <th>inq_last_6mths</th>\n",
       "      <th>avg_fico</th>\n",
       "    </tr>\n",
       "  </thead>\n",
       "  <tbody>\n",
       "    <tr>\n",
       "      <th>0</th>\n",
       "      <td>0</td>\n",
       "      <td>0</td>\n",
       "      <td>0</td>\n",
       "      <td>1</td>\n",
       "      <td>0</td>\n",
       "      <td>0</td>\n",
       "      <td>28125.0</td>\n",
       "      <td>0.6</td>\n",
       "      <td>1</td>\n",
       "      <td>667.0</td>\n",
       "    </tr>\n",
       "  </tbody>\n",
       "</table>\n",
       "</div>"
      ],
      "text/plain": [
       "   home_ownership  verification_status_Not Verified  \\\n",
       "0               0                                 0   \n",
       "\n",
       "   verification_status_Source Verified  verification_status_Verified  \\\n",
       "0                                    0                             1   \n",
       "\n",
       "   has_delinquent_hist  has_record_hist  loan_amnt  per_act_open  \\\n",
       "0                    0                0    28125.0           0.6   \n",
       "\n",
       "   inq_last_6mths  avg_fico  \n",
       "0               1     667.0  "
      ]
     },
     "execution_count": 113,
     "metadata": {},
     "output_type": "execute_result"
    }
   ],
   "source": [
    "#avg_fico\n",
    "loan_df['avg_fico'] = (loan_df_ini['ficoRangeHigh'] +  loan_df_ini['ficoRangeLow'])/2\n",
    "loan_df\n"
   ]
  },
  {
   "cell_type": "code",
   "execution_count": 114,
   "metadata": {
    "collapsed": false
   },
   "outputs": [
    {
     "data": {
      "text/html": [
       "<div>\n",
       "<table border=\"1\" class=\"dataframe\">\n",
       "  <thead>\n",
       "    <tr style=\"text-align: right;\">\n",
       "      <th></th>\n",
       "      <th>home_ownership</th>\n",
       "      <th>verification_status_Not Verified</th>\n",
       "      <th>verification_status_Source Verified</th>\n",
       "      <th>verification_status_Verified</th>\n",
       "      <th>has_delinquent_hist</th>\n",
       "      <th>has_record_hist</th>\n",
       "      <th>loan_amnt</th>\n",
       "      <th>per_act_open</th>\n",
       "      <th>inq_last_6mths</th>\n",
       "      <th>avg_fico</th>\n",
       "      <th>revol_util</th>\n",
       "    </tr>\n",
       "  </thead>\n",
       "  <tbody>\n",
       "    <tr>\n",
       "      <th>0</th>\n",
       "      <td>0</td>\n",
       "      <td>0</td>\n",
       "      <td>0</td>\n",
       "      <td>1</td>\n",
       "      <td>0</td>\n",
       "      <td>0</td>\n",
       "      <td>28125.0</td>\n",
       "      <td>0.6</td>\n",
       "      <td>1</td>\n",
       "      <td>667.0</td>\n",
       "      <td>81.8</td>\n",
       "    </tr>\n",
       "  </tbody>\n",
       "</table>\n",
       "</div>"
      ],
      "text/plain": [
       "   home_ownership  verification_status_Not Verified  \\\n",
       "0               0                                 0   \n",
       "\n",
       "   verification_status_Source Verified  verification_status_Verified  \\\n",
       "0                                    0                             1   \n",
       "\n",
       "   has_delinquent_hist  has_record_hist  loan_amnt  per_act_open  \\\n",
       "0                    0                0    28125.0           0.6   \n",
       "\n",
       "   inq_last_6mths  avg_fico  revol_util  \n",
       "0               1     667.0        81.8  "
      ]
     },
     "execution_count": 114,
     "metadata": {},
     "output_type": "execute_result"
    }
   ],
   "source": [
    "#revol_util\n",
    "loan_df['revol_util'] = loan_df_ini['revolUtil'] \n",
    "loan_df"
   ]
  },
  {
   "cell_type": "code",
   "execution_count": 115,
   "metadata": {
    "collapsed": false
   },
   "outputs": [
    {
     "data": {
      "text/html": [
       "<div>\n",
       "<table border=\"1\" class=\"dataframe\">\n",
       "  <thead>\n",
       "    <tr style=\"text-align: right;\">\n",
       "      <th></th>\n",
       "      <th>home_ownership</th>\n",
       "      <th>verification_status_Not Verified</th>\n",
       "      <th>verification_status_Source Verified</th>\n",
       "      <th>verification_status_Verified</th>\n",
       "      <th>has_delinquent_hist</th>\n",
       "      <th>has_record_hist</th>\n",
       "      <th>loan_amnt</th>\n",
       "      <th>per_act_open</th>\n",
       "      <th>inq_last_6mths</th>\n",
       "      <th>avg_fico</th>\n",
       "      <th>revol_util</th>\n",
       "      <th>revol_bal</th>\n",
       "    </tr>\n",
       "  </thead>\n",
       "  <tbody>\n",
       "    <tr>\n",
       "      <th>0</th>\n",
       "      <td>0</td>\n",
       "      <td>0</td>\n",
       "      <td>0</td>\n",
       "      <td>1</td>\n",
       "      <td>0</td>\n",
       "      <td>0</td>\n",
       "      <td>28125.0</td>\n",
       "      <td>0.6</td>\n",
       "      <td>1</td>\n",
       "      <td>667.0</td>\n",
       "      <td>81.8</td>\n",
       "      <td>24302.0</td>\n",
       "    </tr>\n",
       "  </tbody>\n",
       "</table>\n",
       "</div>"
      ],
      "text/plain": [
       "   home_ownership  verification_status_Not Verified  \\\n",
       "0               0                                 0   \n",
       "\n",
       "   verification_status_Source Verified  verification_status_Verified  \\\n",
       "0                                    0                             1   \n",
       "\n",
       "   has_delinquent_hist  has_record_hist  loan_amnt  per_act_open  \\\n",
       "0                    0                0    28125.0           0.6   \n",
       "\n",
       "   inq_last_6mths  avg_fico  revol_util  revol_bal  \n",
       "0               1     667.0        81.8    24302.0  "
      ]
     },
     "execution_count": 115,
     "metadata": {},
     "output_type": "execute_result"
    }
   ],
   "source": [
    "#revol_bal revolBal\n",
    "loan_df['revol_bal'] = loan_df_ini['revolBal'] \n",
    "loan_df"
   ]
  },
  {
   "cell_type": "code",
   "execution_count": 116,
   "metadata": {
    "collapsed": false
   },
   "outputs": [
    {
     "data": {
      "text/html": [
       "<div>\n",
       "<table border=\"1\" class=\"dataframe\">\n",
       "  <thead>\n",
       "    <tr style=\"text-align: right;\">\n",
       "      <th></th>\n",
       "      <th>home_ownership</th>\n",
       "      <th>verification_status_Not Verified</th>\n",
       "      <th>verification_status_Source Verified</th>\n",
       "      <th>verification_status_Verified</th>\n",
       "      <th>has_delinquent_hist</th>\n",
       "      <th>has_record_hist</th>\n",
       "      <th>loan_amnt</th>\n",
       "      <th>per_act_open</th>\n",
       "      <th>inq_last_6mths</th>\n",
       "      <th>avg_fico</th>\n",
       "      <th>revol_util</th>\n",
       "      <th>revol_bal</th>\n",
       "      <th>dti</th>\n",
       "    </tr>\n",
       "  </thead>\n",
       "  <tbody>\n",
       "    <tr>\n",
       "      <th>0</th>\n",
       "      <td>0</td>\n",
       "      <td>0</td>\n",
       "      <td>0</td>\n",
       "      <td>1</td>\n",
       "      <td>0</td>\n",
       "      <td>0</td>\n",
       "      <td>28125.0</td>\n",
       "      <td>0.6</td>\n",
       "      <td>1</td>\n",
       "      <td>667.0</td>\n",
       "      <td>81.8</td>\n",
       "      <td>24302.0</td>\n",
       "      <td>12.7</td>\n",
       "    </tr>\n",
       "  </tbody>\n",
       "</table>\n",
       "</div>"
      ],
      "text/plain": [
       "   home_ownership  verification_status_Not Verified  \\\n",
       "0               0                                 0   \n",
       "\n",
       "   verification_status_Source Verified  verification_status_Verified  \\\n",
       "0                                    0                             1   \n",
       "\n",
       "   has_delinquent_hist  has_record_hist  loan_amnt  per_act_open  \\\n",
       "0                    0                0    28125.0           0.6   \n",
       "\n",
       "   inq_last_6mths  avg_fico  revol_util  revol_bal   dti  \n",
       "0               1     667.0        81.8    24302.0  12.7  "
      ]
     },
     "execution_count": 116,
     "metadata": {},
     "output_type": "execute_result"
    }
   ],
   "source": [
    "#dti\n",
    "loan_df['dti'] = loan_df_ini['dti'] \n",
    "loan_df"
   ]
  },
  {
   "cell_type": "code",
   "execution_count": 148,
   "metadata": {
    "collapsed": false
   },
   "outputs": [
    {
     "data": {
      "text/plain": [
       "0   2002-04-01\n",
       "Name: earliestCrLine, dtype: datetime64[ns]"
      ]
     },
     "execution_count": 148,
     "metadata": {},
     "output_type": "execute_result"
    }
   ],
   "source": [
    "#years_since_first_credit\n",
    "loan_df_ini['earliestCrLine'].unique()\n",
    "ear_cl_df = loan_df_ini['earliestCrLine'].apply(lambda s : datetime.strptime(s[:7],'%Y-%m'))\n",
    "ear_cl_df.head()"
   ]
  },
  {
   "cell_type": "code",
   "execution_count": 149,
   "metadata": {
    "collapsed": false
   },
   "outputs": [
    {
     "data": {
      "text/plain": [
       "[13]"
      ]
     },
     "execution_count": 149,
     "metadata": {},
     "output_type": "execute_result"
    }
   ],
   "source": [
    "yr_diff = [ rdelta.relativedelta(date(2016,1,1),pd.Timestamp(i).to_pydatetime()).years for i in ear_cl_df.values] \n",
    "yr_diff"
   ]
  },
  {
   "cell_type": "code",
   "execution_count": 150,
   "metadata": {
    "collapsed": false
   },
   "outputs": [],
   "source": [
    "ear_cl_df = pd.DataFrame(yr_diff)\n",
    "ear_cl_df.columns = ['years_since_first_credit']"
   ]
  },
  {
   "cell_type": "code",
   "execution_count": 151,
   "metadata": {
    "collapsed": false
   },
   "outputs": [
    {
     "data": {
      "text/html": [
       "<div>\n",
       "<table border=\"1\" class=\"dataframe\">\n",
       "  <thead>\n",
       "    <tr style=\"text-align: right;\">\n",
       "      <th></th>\n",
       "      <th>home_ownership</th>\n",
       "      <th>verification_status_Not Verified</th>\n",
       "      <th>verification_status_Source Verified</th>\n",
       "      <th>verification_status_Verified</th>\n",
       "      <th>has_delinquent_hist</th>\n",
       "      <th>has_record_hist</th>\n",
       "      <th>loan_amnt</th>\n",
       "      <th>per_act_open</th>\n",
       "      <th>inq_last_6mths</th>\n",
       "      <th>avg_fico</th>\n",
       "      <th>revol_util</th>\n",
       "      <th>revol_bal</th>\n",
       "      <th>dti</th>\n",
       "      <th>years_since_first_credit</th>\n",
       "    </tr>\n",
       "  </thead>\n",
       "  <tbody>\n",
       "    <tr>\n",
       "      <th>0</th>\n",
       "      <td>0</td>\n",
       "      <td>0</td>\n",
       "      <td>0</td>\n",
       "      <td>1</td>\n",
       "      <td>0</td>\n",
       "      <td>0</td>\n",
       "      <td>28125.0</td>\n",
       "      <td>0.6</td>\n",
       "      <td>1</td>\n",
       "      <td>667.0</td>\n",
       "      <td>81.8</td>\n",
       "      <td>24302.0</td>\n",
       "      <td>12.7</td>\n",
       "      <td>13</td>\n",
       "    </tr>\n",
       "  </tbody>\n",
       "</table>\n",
       "</div>"
      ],
      "text/plain": [
       "   home_ownership  verification_status_Not Verified  \\\n",
       "0               0                                 0   \n",
       "\n",
       "   verification_status_Source Verified  verification_status_Verified  \\\n",
       "0                                    0                             1   \n",
       "\n",
       "   has_delinquent_hist  has_record_hist  loan_amnt  per_act_open  \\\n",
       "0                    0                0    28125.0           0.6   \n",
       "\n",
       "   inq_last_6mths  avg_fico  revol_util  revol_bal   dti  \\\n",
       "0               1     667.0        81.8    24302.0  12.7   \n",
       "\n",
       "   years_since_first_credit  \n",
       "0                        13  "
      ]
     },
     "execution_count": 151,
     "metadata": {},
     "output_type": "execute_result"
    }
   ],
   "source": [
    "loan_df['years_since_first_credit'] = ear_cl_df['years_since_first_credit']\n",
    "loan_df"
   ]
  },
  {
   "cell_type": "code",
   "execution_count": 154,
   "metadata": {
    "collapsed": false
   },
   "outputs": [
    {
     "data": {
      "text/html": [
       "<div>\n",
       "<table border=\"1\" class=\"dataframe\">\n",
       "  <thead>\n",
       "    <tr style=\"text-align: right;\">\n",
       "      <th></th>\n",
       "      <th>home_ownership</th>\n",
       "      <th>verification_status_Not Verified</th>\n",
       "      <th>verification_status_Source Verified</th>\n",
       "      <th>verification_status_Verified</th>\n",
       "      <th>has_delinquent_hist</th>\n",
       "      <th>has_record_hist</th>\n",
       "      <th>loan_amnt</th>\n",
       "      <th>per_act_open</th>\n",
       "      <th>inq_last_6mths</th>\n",
       "      <th>avg_fico</th>\n",
       "      <th>revol_util</th>\n",
       "      <th>revol_bal</th>\n",
       "      <th>dti</th>\n",
       "      <th>years_since_first_credit</th>\n",
       "      <th>int_rate</th>\n",
       "    </tr>\n",
       "  </thead>\n",
       "  <tbody>\n",
       "    <tr>\n",
       "      <th>0</th>\n",
       "      <td>0</td>\n",
       "      <td>0</td>\n",
       "      <td>0</td>\n",
       "      <td>1</td>\n",
       "      <td>0</td>\n",
       "      <td>0</td>\n",
       "      <td>28125.0</td>\n",
       "      <td>0.6</td>\n",
       "      <td>1</td>\n",
       "      <td>667.0</td>\n",
       "      <td>81.8</td>\n",
       "      <td>24302.0</td>\n",
       "      <td>12.7</td>\n",
       "      <td>13</td>\n",
       "      <td>21.49</td>\n",
       "    </tr>\n",
       "  </tbody>\n",
       "</table>\n",
       "</div>"
      ],
      "text/plain": [
       "   home_ownership  verification_status_Not Verified  \\\n",
       "0               0                                 0   \n",
       "\n",
       "   verification_status_Source Verified  verification_status_Verified  \\\n",
       "0                                    0                             1   \n",
       "\n",
       "   has_delinquent_hist  has_record_hist  loan_amnt  per_act_open  \\\n",
       "0                    0                0    28125.0           0.6   \n",
       "\n",
       "   inq_last_6mths  avg_fico  revol_util  revol_bal   dti  \\\n",
       "0               1     667.0        81.8    24302.0  12.7   \n",
       "\n",
       "   years_since_first_credit  int_rate  \n",
       "0                        13     21.49  "
      ]
     },
     "execution_count": 154,
     "metadata": {},
     "output_type": "execute_result"
    }
   ],
   "source": [
    "#int_rate\n",
    "loan_df['int_rate'] = loan_df_ini['intRate']\n",
    "loan_df"
   ]
  },
  {
   "cell_type": "code",
   "execution_count": 155,
   "metadata": {
    "collapsed": false
   },
   "outputs": [
    {
     "data": {
      "text/html": [
       "<div>\n",
       "<table border=\"1\" class=\"dataframe\">\n",
       "  <thead>\n",
       "    <tr style=\"text-align: right;\">\n",
       "      <th></th>\n",
       "      <th>home_ownership</th>\n",
       "      <th>verification_status_Not Verified</th>\n",
       "      <th>verification_status_Source Verified</th>\n",
       "      <th>verification_status_Verified</th>\n",
       "      <th>has_delinquent_hist</th>\n",
       "      <th>has_record_hist</th>\n",
       "      <th>loan_amnt</th>\n",
       "      <th>per_act_open</th>\n",
       "      <th>inq_last_6mths</th>\n",
       "      <th>avg_fico</th>\n",
       "      <th>revol_util</th>\n",
       "      <th>revol_bal</th>\n",
       "      <th>dti</th>\n",
       "      <th>years_since_first_credit</th>\n",
       "      <th>int_rate</th>\n",
       "      <th>emp_length</th>\n",
       "    </tr>\n",
       "  </thead>\n",
       "  <tbody>\n",
       "    <tr>\n",
       "      <th>0</th>\n",
       "      <td>0</td>\n",
       "      <td>0</td>\n",
       "      <td>0</td>\n",
       "      <td>1</td>\n",
       "      <td>0</td>\n",
       "      <td>0</td>\n",
       "      <td>28125.0</td>\n",
       "      <td>0.6</td>\n",
       "      <td>1</td>\n",
       "      <td>667.0</td>\n",
       "      <td>81.8</td>\n",
       "      <td>24302.0</td>\n",
       "      <td>12.7</td>\n",
       "      <td>13</td>\n",
       "      <td>21.49</td>\n",
       "      <td>24</td>\n",
       "    </tr>\n",
       "  </tbody>\n",
       "</table>\n",
       "</div>"
      ],
      "text/plain": [
       "   home_ownership  verification_status_Not Verified  \\\n",
       "0               0                                 0   \n",
       "\n",
       "   verification_status_Source Verified  verification_status_Verified  \\\n",
       "0                                    0                             1   \n",
       "\n",
       "   has_delinquent_hist  has_record_hist  loan_amnt  per_act_open  \\\n",
       "0                    0                0    28125.0           0.6   \n",
       "\n",
       "   inq_last_6mths  avg_fico  revol_util  revol_bal   dti  \\\n",
       "0               1     667.0        81.8    24302.0  12.7   \n",
       "\n",
       "   years_since_first_credit  int_rate  emp_length  \n",
       "0                        13     21.49          24  "
      ]
     },
     "execution_count": 155,
     "metadata": {},
     "output_type": "execute_result"
    }
   ],
   "source": [
    "#emp_length\n",
    "loan_df['emp_length'] = loan_df_ini['empLength']\n",
    "loan_df"
   ]
  },
  {
   "cell_type": "code",
   "execution_count": 157,
   "metadata": {
    "collapsed": true
   },
   "outputs": [],
   "source": [
    "#desc_senti_score\n",
    "afinn = Afinn()"
   ]
  },
  {
   "cell_type": "code",
   "execution_count": 166,
   "metadata": {
    "collapsed": false
   },
   "outputs": [
    {
     "data": {
      "text/plain": [
       "[0]"
      ]
     },
     "execution_count": 166,
     "metadata": {},
     "output_type": "execute_result"
    }
   ],
   "source": [
    "def sent_score(s):\n",
    "    if s == None:\n",
    "        return 0\n",
    "    else:\n",
    "        afinn.score(s)\n",
    "\n",
    "s_score = [sent_score(st) for st in loan_df_ini['desc'] ]\n",
    "s_score"
   ]
  },
  {
   "cell_type": "code",
   "execution_count": 167,
   "metadata": {
    "collapsed": false
   },
   "outputs": [
    {
     "data": {
      "text/html": [
       "<div>\n",
       "<table border=\"1\" class=\"dataframe\">\n",
       "  <thead>\n",
       "    <tr style=\"text-align: right;\">\n",
       "      <th></th>\n",
       "      <th>home_ownership</th>\n",
       "      <th>verification_status_Not Verified</th>\n",
       "      <th>verification_status_Source Verified</th>\n",
       "      <th>verification_status_Verified</th>\n",
       "      <th>has_delinquent_hist</th>\n",
       "      <th>has_record_hist</th>\n",
       "      <th>loan_amnt</th>\n",
       "      <th>per_act_open</th>\n",
       "      <th>inq_last_6mths</th>\n",
       "      <th>avg_fico</th>\n",
       "      <th>revol_util</th>\n",
       "      <th>revol_bal</th>\n",
       "      <th>dti</th>\n",
       "      <th>years_since_first_credit</th>\n",
       "      <th>int_rate</th>\n",
       "      <th>emp_length</th>\n",
       "      <th>desc_senti_score</th>\n",
       "    </tr>\n",
       "  </thead>\n",
       "  <tbody>\n",
       "    <tr>\n",
       "      <th>0</th>\n",
       "      <td>0</td>\n",
       "      <td>0</td>\n",
       "      <td>0</td>\n",
       "      <td>1</td>\n",
       "      <td>0</td>\n",
       "      <td>0</td>\n",
       "      <td>28125.0</td>\n",
       "      <td>0.6</td>\n",
       "      <td>1</td>\n",
       "      <td>667.0</td>\n",
       "      <td>81.8</td>\n",
       "      <td>24302.0</td>\n",
       "      <td>12.7</td>\n",
       "      <td>13</td>\n",
       "      <td>21.49</td>\n",
       "      <td>24</td>\n",
       "      <td>0</td>\n",
       "    </tr>\n",
       "  </tbody>\n",
       "</table>\n",
       "</div>"
      ],
      "text/plain": [
       "   home_ownership  verification_status_Not Verified  \\\n",
       "0               0                                 0   \n",
       "\n",
       "   verification_status_Source Verified  verification_status_Verified  \\\n",
       "0                                    0                             1   \n",
       "\n",
       "   has_delinquent_hist  has_record_hist  loan_amnt  per_act_open  \\\n",
       "0                    0                0    28125.0           0.6   \n",
       "\n",
       "   inq_last_6mths  avg_fico  revol_util  revol_bal   dti  \\\n",
       "0               1     667.0        81.8    24302.0  12.7   \n",
       "\n",
       "   years_since_first_credit  int_rate  emp_length  desc_senti_score  \n",
       "0                        13     21.49          24                 0  "
      ]
     },
     "execution_count": 167,
     "metadata": {},
     "output_type": "execute_result"
    }
   ],
   "source": [
    "loan_df['desc_senti_score'] = s_score\n",
    "loan_df"
   ]
  },
  {
   "cell_type": "code",
   "execution_count": 168,
   "metadata": {
    "collapsed": true
   },
   "outputs": [],
   "source": [
    "#reading zipcode data\n",
    "zip_code_agg = pd.read_csv('data/zip3_agg.csv')"
   ]
  },
  {
   "cell_type": "code",
   "execution_count": 185,
   "metadata": {
    "collapsed": true
   },
   "outputs": [],
   "source": [
    "#join with final df\n",
    "loan_df_ini['zip_3'] = [int(zip[:3]) for zip in loan_df_ini.addrZip.values]"
   ]
  },
  {
   "cell_type": "code",
   "execution_count": 186,
   "metadata": {
    "collapsed": false
   },
   "outputs": [
    {
     "data": {
      "text/html": [
       "<div>\n",
       "<table border=\"1\" class=\"dataframe\">\n",
       "  <thead>\n",
       "    <tr style=\"text-align: right;\">\n",
       "      <th></th>\n",
       "      <th>accNowDelinq</th>\n",
       "      <th>accOpenPast24Mths</th>\n",
       "      <th>acceptD</th>\n",
       "      <th>addrState</th>\n",
       "      <th>addrZip</th>\n",
       "      <th>allUtil</th>\n",
       "      <th>annualInc</th>\n",
       "      <th>annualIncJoint</th>\n",
       "      <th>applicationType</th>\n",
       "      <th>avgCurBal</th>\n",
       "      <th>...</th>\n",
       "      <th>totalAcc</th>\n",
       "      <th>totalBalExMort</th>\n",
       "      <th>totalBalIl</th>\n",
       "      <th>totalBcLimit</th>\n",
       "      <th>totalCuTl</th>\n",
       "      <th>totalIlHighCreditLimit</th>\n",
       "      <th>totalRevHiLim</th>\n",
       "      <th>zip_3</th>\n",
       "      <th>Median</th>\n",
       "      <th>Pop</th>\n",
       "    </tr>\n",
       "  </thead>\n",
       "  <tbody>\n",
       "    <tr>\n",
       "      <th>0</th>\n",
       "      <td>0</td>\n",
       "      <td>1</td>\n",
       "      <td>2016-11-16T16:13:06.000-08:00</td>\n",
       "      <td>NY</td>\n",
       "      <td>112xx</td>\n",
       "      <td>81.8</td>\n",
       "      <td>60000.0</td>\n",
       "      <td>None</td>\n",
       "      <td>INDIVIDUAL</td>\n",
       "      <td>2700</td>\n",
       "      <td>...</td>\n",
       "      <td>15</td>\n",
       "      <td>24302</td>\n",
       "      <td>0.0</td>\n",
       "      <td>28700</td>\n",
       "      <td>0</td>\n",
       "      <td>0</td>\n",
       "      <td>29700</td>\n",
       "      <td>112</td>\n",
       "      <td>46258.984068</td>\n",
       "      <td>65833.432432</td>\n",
       "    </tr>\n",
       "  </tbody>\n",
       "</table>\n",
       "<p>1 rows × 106 columns</p>\n",
       "</div>"
      ],
      "text/plain": [
       "   accNowDelinq  accOpenPast24Mths                        acceptD addrState  \\\n",
       "0             0                  1  2016-11-16T16:13:06.000-08:00        NY   \n",
       "\n",
       "  addrZip  allUtil  annualInc annualIncJoint applicationType  avgCurBal  \\\n",
       "0   112xx     81.8    60000.0           None      INDIVIDUAL       2700   \n",
       "\n",
       "       ...       totalAcc  totalBalExMort  totalBalIl  totalBcLimit totalCuTl  \\\n",
       "0      ...             15           24302         0.0         28700         0   \n",
       "\n",
       "   totalIlHighCreditLimit  totalRevHiLim zip_3        Median           Pop  \n",
       "0                       0          29700   112  46258.984068  65833.432432  \n",
       "\n",
       "[1 rows x 106 columns]"
      ]
     },
     "execution_count": 186,
     "metadata": {},
     "output_type": "execute_result"
    }
   ],
   "source": [
    "join_df = pd.merge(loan_df_ini,zip_code_agg,how='inner',on='zip_3')\n",
    "join_df"
   ]
  },
  {
   "cell_type": "code",
   "execution_count": 187,
   "metadata": {
    "collapsed": false
   },
   "outputs": [
    {
     "data": {
      "text/html": [
       "<div>\n",
       "<table border=\"1\" class=\"dataframe\">\n",
       "  <thead>\n",
       "    <tr style=\"text-align: right;\">\n",
       "      <th></th>\n",
       "      <th>accNowDelinq</th>\n",
       "      <th>accOpenPast24Mths</th>\n",
       "      <th>acceptD</th>\n",
       "      <th>addrState</th>\n",
       "      <th>addrZip</th>\n",
       "      <th>allUtil</th>\n",
       "      <th>annualInc</th>\n",
       "      <th>annualIncJoint</th>\n",
       "      <th>applicationType</th>\n",
       "      <th>avgCurBal</th>\n",
       "      <th>...</th>\n",
       "      <th>totalAcc</th>\n",
       "      <th>totalBalExMort</th>\n",
       "      <th>totalBalIl</th>\n",
       "      <th>totalBcLimit</th>\n",
       "      <th>totalCuTl</th>\n",
       "      <th>totalIlHighCreditLimit</th>\n",
       "      <th>totalRevHiLim</th>\n",
       "      <th>zip_3</th>\n",
       "      <th>zip_median_income</th>\n",
       "      <th>zip_pop</th>\n",
       "    </tr>\n",
       "  </thead>\n",
       "  <tbody>\n",
       "    <tr>\n",
       "      <th>0</th>\n",
       "      <td>0</td>\n",
       "      <td>1</td>\n",
       "      <td>2016-11-16T16:13:06.000-08:00</td>\n",
       "      <td>NY</td>\n",
       "      <td>112xx</td>\n",
       "      <td>81.8</td>\n",
       "      <td>60000.0</td>\n",
       "      <td>None</td>\n",
       "      <td>INDIVIDUAL</td>\n",
       "      <td>2700</td>\n",
       "      <td>...</td>\n",
       "      <td>15</td>\n",
       "      <td>24302</td>\n",
       "      <td>0.0</td>\n",
       "      <td>28700</td>\n",
       "      <td>0</td>\n",
       "      <td>0</td>\n",
       "      <td>29700</td>\n",
       "      <td>112</td>\n",
       "      <td>46258.984068</td>\n",
       "      <td>65833.432432</td>\n",
       "    </tr>\n",
       "  </tbody>\n",
       "</table>\n",
       "<p>1 rows × 106 columns</p>\n",
       "</div>"
      ],
      "text/plain": [
       "   accNowDelinq  accOpenPast24Mths                        acceptD addrState  \\\n",
       "0             0                  1  2016-11-16T16:13:06.000-08:00        NY   \n",
       "\n",
       "  addrZip  allUtil  annualInc annualIncJoint applicationType  avgCurBal  \\\n",
       "0   112xx     81.8    60000.0           None      INDIVIDUAL       2700   \n",
       "\n",
       "       ...       totalAcc  totalBalExMort  totalBalIl  totalBcLimit totalCuTl  \\\n",
       "0      ...             15           24302         0.0         28700         0   \n",
       "\n",
       "   totalIlHighCreditLimit  totalRevHiLim zip_3  zip_median_income  \\\n",
       "0                       0          29700   112       46258.984068   \n",
       "\n",
       "        zip_pop  \n",
       "0  65833.432432  \n",
       "\n",
       "[1 rows x 106 columns]"
      ]
     },
     "execution_count": 187,
     "metadata": {},
     "output_type": "execute_result"
    }
   ],
   "source": [
    "join_df = join_df.rename(columns={'Median':'zip_median_income','Pop':'zip_pop'})\n",
    "join_df"
   ]
  },
  {
   "cell_type": "code",
   "execution_count": 188,
   "metadata": {
    "collapsed": false
   },
   "outputs": [
    {
     "data": {
      "text/html": [
       "<div>\n",
       "<table border=\"1\" class=\"dataframe\">\n",
       "  <thead>\n",
       "    <tr style=\"text-align: right;\">\n",
       "      <th></th>\n",
       "      <th>home_ownership</th>\n",
       "      <th>verification_status_Not Verified</th>\n",
       "      <th>verification_status_Source Verified</th>\n",
       "      <th>verification_status_Verified</th>\n",
       "      <th>has_delinquent_hist</th>\n",
       "      <th>has_record_hist</th>\n",
       "      <th>loan_amnt</th>\n",
       "      <th>per_act_open</th>\n",
       "      <th>inq_last_6mths</th>\n",
       "      <th>avg_fico</th>\n",
       "      <th>revol_util</th>\n",
       "      <th>revol_bal</th>\n",
       "      <th>dti</th>\n",
       "      <th>years_since_first_credit</th>\n",
       "      <th>int_rate</th>\n",
       "      <th>emp_length</th>\n",
       "      <th>desc_senti_score</th>\n",
       "      <th>zip_median_income</th>\n",
       "      <th>zip_pop</th>\n",
       "    </tr>\n",
       "  </thead>\n",
       "  <tbody>\n",
       "    <tr>\n",
       "      <th>0</th>\n",
       "      <td>0</td>\n",
       "      <td>0</td>\n",
       "      <td>0</td>\n",
       "      <td>1</td>\n",
       "      <td>0</td>\n",
       "      <td>0</td>\n",
       "      <td>28125.0</td>\n",
       "      <td>0.6</td>\n",
       "      <td>1</td>\n",
       "      <td>667.0</td>\n",
       "      <td>81.8</td>\n",
       "      <td>24302.0</td>\n",
       "      <td>12.7</td>\n",
       "      <td>13</td>\n",
       "      <td>21.49</td>\n",
       "      <td>24</td>\n",
       "      <td>0</td>\n",
       "      <td>46258.984068</td>\n",
       "      <td>65833.432432</td>\n",
       "    </tr>\n",
       "  </tbody>\n",
       "</table>\n",
       "</div>"
      ],
      "text/plain": [
       "   home_ownership  verification_status_Not Verified  \\\n",
       "0               0                                 0   \n",
       "\n",
       "   verification_status_Source Verified  verification_status_Verified  \\\n",
       "0                                    0                             1   \n",
       "\n",
       "   has_delinquent_hist  has_record_hist  loan_amnt  per_act_open  \\\n",
       "0                    0                0    28125.0           0.6   \n",
       "\n",
       "   inq_last_6mths  avg_fico  revol_util  revol_bal   dti  \\\n",
       "0               1     667.0        81.8    24302.0  12.7   \n",
       "\n",
       "   years_since_first_credit  int_rate  emp_length  desc_senti_score  \\\n",
       "0                        13     21.49          24                 0   \n",
       "\n",
       "   zip_median_income       zip_pop  \n",
       "0       46258.984068  65833.432432  "
      ]
     },
     "execution_count": 188,
     "metadata": {},
     "output_type": "execute_result"
    }
   ],
   "source": [
    "loan_df['zip_median_income'] = join_df['zip_median_income']\n",
    "loan_df['zip_pop'] = join_df['zip_pop']\n",
    "loan_df"
   ]
  },
  {
   "cell_type": "code",
   "execution_count": 189,
   "metadata": {
    "collapsed": false
   },
   "outputs": [
    {
     "data": {
      "text/html": [
       "<div>\n",
       "<table border=\"1\" class=\"dataframe\">\n",
       "  <thead>\n",
       "    <tr style=\"text-align: right;\">\n",
       "      <th></th>\n",
       "      <th>home_ownership</th>\n",
       "      <th>verification_status_Not Verified</th>\n",
       "      <th>verification_status_Source Verified</th>\n",
       "      <th>verification_status_Verified</th>\n",
       "      <th>has_delinquent_hist</th>\n",
       "      <th>has_record_hist</th>\n",
       "      <th>loan_amnt</th>\n",
       "      <th>per_act_open</th>\n",
       "      <th>inq_last_6mths</th>\n",
       "      <th>avg_fico</th>\n",
       "      <th>revol_util</th>\n",
       "      <th>revol_bal</th>\n",
       "      <th>dti</th>\n",
       "      <th>years_since_first_credit</th>\n",
       "      <th>int_rate</th>\n",
       "      <th>emp_length</th>\n",
       "      <th>desc_senti_score</th>\n",
       "      <th>zip_median_income</th>\n",
       "      <th>zip_pop</th>\n",
       "      <th>delinq_2yrs</th>\n",
       "    </tr>\n",
       "  </thead>\n",
       "  <tbody>\n",
       "    <tr>\n",
       "      <th>0</th>\n",
       "      <td>0</td>\n",
       "      <td>0</td>\n",
       "      <td>0</td>\n",
       "      <td>1</td>\n",
       "      <td>0</td>\n",
       "      <td>0</td>\n",
       "      <td>28125.0</td>\n",
       "      <td>0.6</td>\n",
       "      <td>1</td>\n",
       "      <td>667.0</td>\n",
       "      <td>81.8</td>\n",
       "      <td>24302.0</td>\n",
       "      <td>12.7</td>\n",
       "      <td>13</td>\n",
       "      <td>21.49</td>\n",
       "      <td>24</td>\n",
       "      <td>0</td>\n",
       "      <td>46258.984068</td>\n",
       "      <td>65833.432432</td>\n",
       "      <td>0</td>\n",
       "    </tr>\n",
       "  </tbody>\n",
       "</table>\n",
       "</div>"
      ],
      "text/plain": [
       "   home_ownership  verification_status_Not Verified  \\\n",
       "0               0                                 0   \n",
       "\n",
       "   verification_status_Source Verified  verification_status_Verified  \\\n",
       "0                                    0                             1   \n",
       "\n",
       "   has_delinquent_hist  has_record_hist  loan_amnt  per_act_open  \\\n",
       "0                    0                0    28125.0           0.6   \n",
       "\n",
       "   inq_last_6mths  avg_fico  revol_util  revol_bal   dti  \\\n",
       "0               1     667.0        81.8    24302.0  12.7   \n",
       "\n",
       "   years_since_first_credit  int_rate  emp_length  desc_senti_score  \\\n",
       "0                        13     21.49          24                 0   \n",
       "\n",
       "   zip_median_income       zip_pop  delinq_2yrs  \n",
       "0       46258.984068  65833.432432            0  "
      ]
     },
     "execution_count": 189,
     "metadata": {},
     "output_type": "execute_result"
    }
   ],
   "source": [
    "#delinq2Yrs delinq_2yrs\n",
    "loan_df['delinq_2yrs'] = loan_df_ini['delinq2Yrs']\n",
    "loan_df"
   ]
  },
  {
   "cell_type": "code",
   "execution_count": 191,
   "metadata": {
    "collapsed": false
   },
   "outputs": [
    {
     "data": {
      "text/html": [
       "<div>\n",
       "<table border=\"1\" class=\"dataframe\">\n",
       "  <thead>\n",
       "    <tr style=\"text-align: right;\">\n",
       "      <th></th>\n",
       "      <th>home_ownership</th>\n",
       "      <th>verification_status_Not Verified</th>\n",
       "      <th>verification_status_Source Verified</th>\n",
       "      <th>verification_status_Verified</th>\n",
       "      <th>has_delinquent_hist</th>\n",
       "      <th>has_record_hist</th>\n",
       "      <th>loan_amnt</th>\n",
       "      <th>per_act_open</th>\n",
       "      <th>inq_last_6mths</th>\n",
       "      <th>avg_fico</th>\n",
       "      <th>...</th>\n",
       "      <th>zip_median_income</th>\n",
       "      <th>zip_pop</th>\n",
       "      <th>delinq_2yrs</th>\n",
       "      <th>grade_A</th>\n",
       "      <th>grade_B</th>\n",
       "      <th>grade_C</th>\n",
       "      <th>grade_D</th>\n",
       "      <th>grade_E</th>\n",
       "      <th>grade_F</th>\n",
       "      <th>grade_G</th>\n",
       "    </tr>\n",
       "  </thead>\n",
       "  <tbody>\n",
       "    <tr>\n",
       "      <th>0</th>\n",
       "      <td>0</td>\n",
       "      <td>0</td>\n",
       "      <td>0</td>\n",
       "      <td>1</td>\n",
       "      <td>0</td>\n",
       "      <td>0</td>\n",
       "      <td>28125.0</td>\n",
       "      <td>0.6</td>\n",
       "      <td>1</td>\n",
       "      <td>667.0</td>\n",
       "      <td>...</td>\n",
       "      <td>46258.984068</td>\n",
       "      <td>65833.432432</td>\n",
       "      <td>0</td>\n",
       "      <td>0</td>\n",
       "      <td>0</td>\n",
       "      <td>0</td>\n",
       "      <td>1</td>\n",
       "      <td>0</td>\n",
       "      <td>0</td>\n",
       "      <td>0</td>\n",
       "    </tr>\n",
       "  </tbody>\n",
       "</table>\n",
       "<p>1 rows × 27 columns</p>\n",
       "</div>"
      ],
      "text/plain": [
       "   home_ownership  verification_status_Not Verified  \\\n",
       "0               0                                 0   \n",
       "\n",
       "   verification_status_Source Verified  verification_status_Verified  \\\n",
       "0                                    0                             1   \n",
       "\n",
       "   has_delinquent_hist  has_record_hist  loan_amnt  per_act_open  \\\n",
       "0                    0                0    28125.0           0.6   \n",
       "\n",
       "   inq_last_6mths  avg_fico   ...     zip_median_income       zip_pop  \\\n",
       "0               1     667.0   ...          46258.984068  65833.432432   \n",
       "\n",
       "   delinq_2yrs  grade_A  grade_B  grade_C  grade_D  grade_E  grade_F  grade_G  \n",
       "0            0        0        0        0        1        0        0        0  \n",
       "\n",
       "[1 rows x 27 columns]"
      ]
     },
     "execution_count": 191,
     "metadata": {},
     "output_type": "execute_result"
    }
   ],
   "source": [
    "#grade\n",
    "#verification status\n",
    "if(str.upper(loan_df_ini['grade'].values[0]) == 'A'):\n",
    "    loan_df['grade_A'] = 1\n",
    "else:\n",
    "    loan_df['grade_A'] = 0\n",
    "    \n",
    "if(str.upper(loan_df_ini['grade'].values[0]) == 'B'):\n",
    "    loan_df['grade_B'] = 1\n",
    "else:\n",
    "    loan_df['grade_B'] = 0\n",
    "    \n",
    "    \n",
    "if(str.upper(loan_df_ini['grade'].values[0]) == 'C'):\n",
    "    loan_df['grade_C'] = 1\n",
    "else:\n",
    "    loan_df['grade_C'] = 0\n",
    "    \n",
    "\n",
    "if(str.upper(loan_df_ini['grade'].values[0]) == 'D'):\n",
    "    loan_df['grade_D'] = 1\n",
    "else:\n",
    "    loan_df['grade_D'] = 0\n",
    "    \n",
    "if(str.upper(loan_df_ini['grade'].values[0]) == 'E'):\n",
    "    loan_df['grade_E'] = 1\n",
    "else:\n",
    "    loan_df['grade_E'] = 0\n",
    "    \n",
    "if(str.upper(loan_df_ini['grade'].values[0]) == 'E'):\n",
    "    loan_df['grade_E'] = 1\n",
    "else:\n",
    "    loan_df['grade_E'] = 0\n",
    "    \n",
    "if(str.upper(loan_df_ini['grade'].values[0]) == 'F'):\n",
    "    loan_df['grade_F'] = 1\n",
    "else:\n",
    "    loan_df['grade_F'] = 0\n",
    "    \n",
    "if(str.upper(loan_df_ini['grade'].values[0]) == 'G'):\n",
    "    loan_df['grade_G'] = 1\n",
    "else:\n",
    "    loan_df['grade_G'] = 0\n",
    "    \n",
    "loan_df"
   ]
  },
  {
   "cell_type": "code",
   "execution_count": 193,
   "metadata": {
    "collapsed": false
   },
   "outputs": [
    {
     "data": {
      "text/html": [
       "<div>\n",
       "<table border=\"1\" class=\"dataframe\">\n",
       "  <thead>\n",
       "    <tr style=\"text-align: right;\">\n",
       "      <th></th>\n",
       "      <th>home_ownership</th>\n",
       "      <th>verification_status_Not Verified</th>\n",
       "      <th>verification_status_Source Verified</th>\n",
       "      <th>verification_status_Verified</th>\n",
       "      <th>has_delinquent_hist</th>\n",
       "      <th>has_record_hist</th>\n",
       "      <th>loan_amnt</th>\n",
       "      <th>per_act_open</th>\n",
       "      <th>inq_last_6mths</th>\n",
       "      <th>avg_fico</th>\n",
       "      <th>...</th>\n",
       "      <th>delinq_2yrs</th>\n",
       "      <th>grade_A</th>\n",
       "      <th>grade_B</th>\n",
       "      <th>grade_C</th>\n",
       "      <th>grade_D</th>\n",
       "      <th>grade_E</th>\n",
       "      <th>grade_F</th>\n",
       "      <th>grade_G</th>\n",
       "      <th>term_ 36 months</th>\n",
       "      <th>term_ 60 months</th>\n",
       "    </tr>\n",
       "  </thead>\n",
       "  <tbody>\n",
       "    <tr>\n",
       "      <th>0</th>\n",
       "      <td>0</td>\n",
       "      <td>0</td>\n",
       "      <td>0</td>\n",
       "      <td>1</td>\n",
       "      <td>0</td>\n",
       "      <td>0</td>\n",
       "      <td>28125.0</td>\n",
       "      <td>0.6</td>\n",
       "      <td>1</td>\n",
       "      <td>667.0</td>\n",
       "      <td>...</td>\n",
       "      <td>0</td>\n",
       "      <td>0</td>\n",
       "      <td>0</td>\n",
       "      <td>0</td>\n",
       "      <td>1</td>\n",
       "      <td>0</td>\n",
       "      <td>0</td>\n",
       "      <td>0</td>\n",
       "      <td>1</td>\n",
       "      <td>0</td>\n",
       "    </tr>\n",
       "  </tbody>\n",
       "</table>\n",
       "<p>1 rows × 29 columns</p>\n",
       "</div>"
      ],
      "text/plain": [
       "   home_ownership  verification_status_Not Verified  \\\n",
       "0               0                                 0   \n",
       "\n",
       "   verification_status_Source Verified  verification_status_Verified  \\\n",
       "0                                    0                             1   \n",
       "\n",
       "   has_delinquent_hist  has_record_hist  loan_amnt  per_act_open  \\\n",
       "0                    0                0    28125.0           0.6   \n",
       "\n",
       "   inq_last_6mths  avg_fico       ...         delinq_2yrs  grade_A  grade_B  \\\n",
       "0               1     667.0       ...                   0        0        0   \n",
       "\n",
       "   grade_C  grade_D  grade_E  grade_F  grade_G  term_ 36 months  \\\n",
       "0        0        1        0        0        0                1   \n",
       "\n",
       "   term_ 60 months  \n",
       "0                0  \n",
       "\n",
       "[1 rows x 29 columns]"
      ]
     },
     "execution_count": 193,
     "metadata": {},
     "output_type": "execute_result"
    }
   ],
   "source": [
    "#term term_ 36 months term_ 60 months\n",
    "if(loan_df_ini['term'].values[0] == 36):\n",
    "    loan_df['term_ 36 months'] = 1\n",
    "else:\n",
    "    loan_df['term_ 36 months'] = 0\n",
    "    \n",
    "if(loan_df_ini['term'].values[0] == 60):\n",
    "    loan_df['term_ 60 months'] = 1\n",
    "else:\n",
    "    loan_df['term_ 60 months'] = 0\n",
    "\n",
    "loan_df"
   ]
  },
  {
   "cell_type": "code",
   "execution_count": 194,
   "metadata": {
    "collapsed": false
   },
   "outputs": [
    {
     "data": {
      "text/plain": [
       "['credit_card',\n",
       " 'debt_consolidation',\n",
       " 'moving',\n",
       " 'other',\n",
       " 'home_improvement',\n",
       " 'major_purchase',\n",
       " 'car',\n",
       " 'medical',\n",
       " 'small_business',\n",
       " 'educational',\n",
       " 'vacation',\n",
       " 'wedding',\n",
       " 'house',\n",
       " 'renewable_energy']"
      ]
     },
     "execution_count": 194,
     "metadata": {},
     "output_type": "execute_result"
    }
   ],
   "source": [
    "#purpose\n",
    "['credit_card', 'debt_consolidation', 'moving', 'other', 'home_improvement', 'major_purchase', 'car', 'medical', 'small_business', 'educational', 'vacation', 'wedding', 'house', 'renewable_energy']"
   ]
  },
  {
   "cell_type": "code",
   "execution_count": 199,
   "metadata": {
    "collapsed": false
   },
   "outputs": [
    {
     "data": {
      "text/html": [
       "<div>\n",
       "<table border=\"1\" class=\"dataframe\">\n",
       "  <thead>\n",
       "    <tr style=\"text-align: right;\">\n",
       "      <th></th>\n",
       "      <th>home_ownership</th>\n",
       "      <th>verification_status_Not Verified</th>\n",
       "      <th>verification_status_Source Verified</th>\n",
       "      <th>verification_status_Verified</th>\n",
       "      <th>has_delinquent_hist</th>\n",
       "      <th>has_record_hist</th>\n",
       "      <th>loan_amnt</th>\n",
       "      <th>per_act_open</th>\n",
       "      <th>inq_last_6mths</th>\n",
       "      <th>avg_fico</th>\n",
       "      <th>...</th>\n",
       "      <th>purpose_home_improvement</th>\n",
       "      <th>purpose_major_purchase</th>\n",
       "      <th>purpose_car</th>\n",
       "      <th>purpose_medical</th>\n",
       "      <th>purpose_small_business</th>\n",
       "      <th>purpose_educational</th>\n",
       "      <th>purpose_vacation</th>\n",
       "      <th>purpose_wedding</th>\n",
       "      <th>purpose_house</th>\n",
       "      <th>purpose_renewable_energy</th>\n",
       "    </tr>\n",
       "  </thead>\n",
       "  <tbody>\n",
       "    <tr>\n",
       "      <th>0</th>\n",
       "      <td>0</td>\n",
       "      <td>0</td>\n",
       "      <td>0</td>\n",
       "      <td>1</td>\n",
       "      <td>0</td>\n",
       "      <td>0</td>\n",
       "      <td>28125.0</td>\n",
       "      <td>0.6</td>\n",
       "      <td>1</td>\n",
       "      <td>667.0</td>\n",
       "      <td>...</td>\n",
       "      <td>0</td>\n",
       "      <td>0</td>\n",
       "      <td>0</td>\n",
       "      <td>0</td>\n",
       "      <td>0</td>\n",
       "      <td>0</td>\n",
       "      <td>0</td>\n",
       "      <td>0</td>\n",
       "      <td>0</td>\n",
       "      <td>0</td>\n",
       "    </tr>\n",
       "  </tbody>\n",
       "</table>\n",
       "<p>1 rows × 43 columns</p>\n",
       "</div>"
      ],
      "text/plain": [
       "   home_ownership  verification_status_Not Verified  \\\n",
       "0               0                                 0   \n",
       "\n",
       "   verification_status_Source Verified  verification_status_Verified  \\\n",
       "0                                    0                             1   \n",
       "\n",
       "   has_delinquent_hist  has_record_hist  loan_amnt  per_act_open  \\\n",
       "0                    0                0    28125.0           0.6   \n",
       "\n",
       "   inq_last_6mths  avg_fico            ...             \\\n",
       "0               1     667.0            ...              \n",
       "\n",
       "   purpose_home_improvement  purpose_major_purchase  purpose_car  \\\n",
       "0                         0                       0            0   \n",
       "\n",
       "   purpose_medical  purpose_small_business  purpose_educational  \\\n",
       "0                0                       0                    0   \n",
       "\n",
       "   purpose_vacation  purpose_wedding  purpose_house  purpose_renewable_energy  \n",
       "0                 0                0              0                         0  \n",
       "\n",
       "[1 rows x 43 columns]"
      ]
     },
     "execution_count": 199,
     "metadata": {},
     "output_type": "execute_result"
    }
   ],
   "source": [
    "if(loan_df_ini['purpose'].values[0] == 'credit_card'):\n",
    "    loan_df['purpose_credit_card'] = 1\n",
    "else:\n",
    "    loan_df['purpose_credit_card'] = 0\n",
    "    \n",
    "if(loan_df_ini['purpose'].values[0] == 'debt_consolidation'):\n",
    "    loan_df['purpose_debt_consolidation'] = 1\n",
    "else:\n",
    "    loan_df['purpose_debt_consolidation'] = 0\n",
    "    \n",
    "if(loan_df_ini['purpose'].values[0] == 'moving'):\n",
    "    loan_df['purpose_moving'] = 1\n",
    "else:\n",
    "    loan_df['purpose_moving'] = 0\n",
    "    \n",
    "if(loan_df_ini['purpose'].values[0] == 'other'):\n",
    "    loan_df['purpose_other'] = 1\n",
    "else:\n",
    "    loan_df['purpose_other'] = 0\n",
    "    \n",
    "if(loan_df_ini['purpose'].values[0] == 'home_improvement'):\n",
    "    loan_df['purpose_home_improvement'] = 1\n",
    "else:\n",
    "    loan_df['purpose_home_improvement'] = 0\n",
    "    \n",
    "if(loan_df_ini['purpose'].values[0] == 'major_purchase'):\n",
    "    loan_df['purpose_major_purchase'] = 1\n",
    "else:\n",
    "    loan_df['purpose_major_purchase'] = 0\n",
    "\n",
    "    \n",
    "if(loan_df_ini['purpose'].values[0] == 'car'):\n",
    "    loan_df['purpose_car'] = 1\n",
    "else:\n",
    "    loan_df['purpose_car'] = 0\n",
    "    \n",
    "if(loan_df_ini['purpose'].values[0] == 'medical'):\n",
    "    loan_df['purpose_medical'] = 1\n",
    "else:\n",
    "    loan_df['purpose_medical'] = 0\n",
    "    \n",
    "if(loan_df_ini['purpose'].values[0] == 'small_business'):\n",
    "    loan_df['purpose_small_business'] = 1\n",
    "else:\n",
    "    loan_df['purpose_small_business'] = 0\n",
    "    \n",
    "if(loan_df_ini['purpose'].values[0] == 'educational'):\n",
    "    loan_df['purpose_educational'] = 1\n",
    "else:\n",
    "    loan_df['purpose_educational'] = 0\n",
    "    \n",
    "if(loan_df_ini['purpose'].values[0] == 'vacation'):\n",
    "    loan_df['purpose_vacation'] = 1\n",
    "else:\n",
    "    loan_df['purpose_vacation'] = 0\n",
    "    \n",
    "if(loan_df_ini['purpose'].values[0] == 'wedding'):\n",
    "    loan_df['purpose_wedding'] = 1\n",
    "else:\n",
    "    loan_df['purpose_wedding'] = 0\n",
    "    \n",
    "    \n",
    "if(loan_df_ini['purpose'].values[0] == 'house'):\n",
    "    loan_df['purpose_house'] = 1\n",
    "else:\n",
    "    loan_df['purpose_house'] = 0\n",
    "    \n",
    "if(loan_df_ini['purpose'].values[0] == 'renewable_energy'):\n",
    "    loan_df['purpose_renewable_energy'] = 1\n",
    "else:\n",
    "    loan_df['purpose_renewable_energy'] = 0\n",
    "    \n",
    "\n",
    "loan_df\n"
   ]
  },
  {
   "cell_type": "code",
   "execution_count": 200,
   "metadata": {
    "collapsed": false
   },
   "outputs": [
    {
     "data": {
      "text/plain": [
       "0    1\n",
       "Name: purpose_debt_consolidation, dtype: int64"
      ]
     },
     "execution_count": 200,
     "metadata": {},
     "output_type": "execute_result"
    }
   ],
   "source": [
    "loan_df['purpose_debt_consolidation']"
   ]
  },
  {
   "cell_type": "code",
   "execution_count": 201,
   "metadata": {
    "collapsed": false
   },
   "outputs": [
    {
     "data": {
      "text/html": [
       "<div>\n",
       "<table border=\"1\" class=\"dataframe\">\n",
       "  <thead>\n",
       "    <tr style=\"text-align: right;\">\n",
       "      <th></th>\n",
       "      <th>home_ownership</th>\n",
       "      <th>verification_status_Not Verified</th>\n",
       "      <th>verification_status_Source Verified</th>\n",
       "      <th>verification_status_Verified</th>\n",
       "      <th>has_delinquent_hist</th>\n",
       "      <th>has_record_hist</th>\n",
       "      <th>loan_amnt</th>\n",
       "      <th>per_act_open</th>\n",
       "      <th>inq_last_6mths</th>\n",
       "      <th>avg_fico</th>\n",
       "      <th>...</th>\n",
       "      <th>purpose_home_improvement</th>\n",
       "      <th>purpose_major_purchase</th>\n",
       "      <th>purpose_car</th>\n",
       "      <th>purpose_medical</th>\n",
       "      <th>purpose_small_business</th>\n",
       "      <th>purpose_educational</th>\n",
       "      <th>purpose_vacation</th>\n",
       "      <th>purpose_wedding</th>\n",
       "      <th>purpose_house</th>\n",
       "      <th>purpose_renewable_energy</th>\n",
       "    </tr>\n",
       "  </thead>\n",
       "  <tbody>\n",
       "    <tr>\n",
       "      <th>0</th>\n",
       "      <td>0</td>\n",
       "      <td>0</td>\n",
       "      <td>0</td>\n",
       "      <td>1</td>\n",
       "      <td>0</td>\n",
       "      <td>0</td>\n",
       "      <td>28125.0</td>\n",
       "      <td>0.6</td>\n",
       "      <td>1</td>\n",
       "      <td>667.0</td>\n",
       "      <td>...</td>\n",
       "      <td>0</td>\n",
       "      <td>0</td>\n",
       "      <td>0</td>\n",
       "      <td>0</td>\n",
       "      <td>0</td>\n",
       "      <td>0</td>\n",
       "      <td>0</td>\n",
       "      <td>0</td>\n",
       "      <td>0</td>\n",
       "      <td>0</td>\n",
       "    </tr>\n",
       "  </tbody>\n",
       "</table>\n",
       "<p>1 rows × 43 columns</p>\n",
       "</div>"
      ],
      "text/plain": [
       "   home_ownership  verification_status_Not Verified  \\\n",
       "0               0                                 0   \n",
       "\n",
       "   verification_status_Source Verified  verification_status_Verified  \\\n",
       "0                                    0                             1   \n",
       "\n",
       "   has_delinquent_hist  has_record_hist  loan_amnt  per_act_open  \\\n",
       "0                    0                0    28125.0           0.6   \n",
       "\n",
       "   inq_last_6mths  avg_fico            ...             \\\n",
       "0               1     667.0            ...              \n",
       "\n",
       "   purpose_home_improvement  purpose_major_purchase  purpose_car  \\\n",
       "0                         0                       0            0   \n",
       "\n",
       "   purpose_medical  purpose_small_business  purpose_educational  \\\n",
       "0                0                       0                    0   \n",
       "\n",
       "   purpose_vacation  purpose_wedding  purpose_house  purpose_renewable_energy  \n",
       "0                 0                0              0                         0  \n",
       "\n",
       "[1 rows x 43 columns]"
      ]
     },
     "execution_count": 201,
     "metadata": {},
     "output_type": "execute_result"
    }
   ],
   "source": [
    "#final_df\n",
    "loan_df"
   ]
  },
  {
   "cell_type": "code",
   "execution_count": 56,
   "metadata": {
    "collapsed": true
   },
   "outputs": [],
   "source": [
    "#recomputed data\n",
    "data_recomputed = {}"
   ]
  },
  {
   "cell_type": "code",
   "execution_count": null,
   "metadata": {
    "collapsed": true
   },
   "outputs": [],
   "source": []
  },
  {
   "cell_type": "markdown",
   "metadata": {},
   "source": [
    "#### Normalize Data"
   ]
  },
  {
   "cell_type": "code",
   "execution_count": 42,
   "metadata": {
    "collapsed": false
   },
   "outputs": [],
   "source": [
    "def test():\n",
    "    i = input('Enter Loan ID')\n",
    "    print(i)\n",
    "    return"
   ]
  },
  {
   "cell_type": "code",
   "execution_count": 45,
   "metadata": {
    "collapsed": false
   },
   "outputs": [
    {
     "name": "stdout",
     "output_type": "stream",
     "text": [
      "Enter Loan ID12\n",
      "12\n"
     ]
    }
   ],
   "source": [
    "test()"
   ]
  }
 ],
 "metadata": {
  "anaconda-cloud": {},
  "kernelspec": {
   "display_name": "Python [Root]",
   "language": "python",
   "name": "Python [Root]"
  },
  "language_info": {
   "codemirror_mode": {
    "name": "ipython",
    "version": 3
   },
   "file_extension": ".py",
   "mimetype": "text/x-python",
   "name": "python",
   "nbconvert_exporter": "python",
   "pygments_lexer": "ipython3",
   "version": "3.5.2"
  }
 },
 "nbformat": 4,
 "nbformat_minor": 0
}
