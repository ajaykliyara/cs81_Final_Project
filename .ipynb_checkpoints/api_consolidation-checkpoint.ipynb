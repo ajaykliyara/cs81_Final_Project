{
 "cells": [
  {
   "cell_type": "code",
   "execution_count": 1,
   "metadata": {
    "collapsed": true
   },
   "outputs": [],
   "source": [
    "import requests\n",
    "import os\n",
    "import pandas as pd\n",
    "import numpy as np\n",
    "import json\n",
    "from dateutil import relativedelta as rdelta\n",
    "from datetime import date\n",
    "from datetime import datetime\n",
    "from afinn import Afinn\n",
    "\n",
    "\n",
    "#sklearn\n",
    "from sklearn.linear_model import LogisticRegression\n",
    "from sklearn.metrics import confusion_matrix,roc_curve, auc\n",
    "from sklearn.preprocessing import StandardScaler\n",
    "\n",
    "#visualization\n",
    "import seaborn as sns\n",
    "import matplotlib.pyplot as plt"
   ]
  },
  {
   "cell_type": "code",
   "execution_count": 2,
   "metadata": {
    "collapsed": true
   },
   "outputs": [],
   "source": [
    "#authorizing\n",
    "key_df = pd.read_csv(\"/Users/ajaykliyara/Documents/lc_key.txt\",header=None)\n",
    "key = key_df.iloc[:,:].values[0][0]"
   ]
  },
  {
   "cell_type": "code",
   "execution_count": 3,
   "metadata": {
    "collapsed": true
   },
   "outputs": [],
   "source": [
    "#reading from API loan listing\n",
    "s = requests.Session()\n",
    "s.headers.update({'Authorization': key})\n",
    "r = s.get('https://api.lendingclub.com/api/investor/v1/loans/listing')\n"
   ]
  },
  {
   "cell_type": "code",
   "execution_count": 4,
   "metadata": {
    "collapsed": true
   },
   "outputs": [],
   "source": [
    "data = json.loads(r.text)"
   ]
  },
  {
   "cell_type": "code",
   "execution_count": 5,
   "metadata": {
    "collapsed": false
   },
   "outputs": [],
   "source": [
    "def process_data(loan_data):\n",
    "    #initial dataframe\n",
    "    loan_df_ini = pd.DataFrame([loan_data])\n",
    "    \n",
    "    #dataframe to store processed data\n",
    "    loan_df = pd.DataFrame()\n",
    "    #loan_df = dict()\n",
    "    \n",
    "    #home ownership\n",
    "    ownership_lookup = {'MORTGAGE': 2, 'NONE': 4, 'OTHER': 3, 'OWN': 1, 'RENT': 0}\n",
    "    loan_df['homeOwnership'] = loan_df_ini['homeOwnership']\n",
    "    loan_df['homeOwnership'].replace(ownership_lookup, inplace=True)\n",
    "    loan_df=loan_df.rename(columns = {'homeOwnership':'home_ownership'})\n",
    "    loan_df['home_ownership']\n",
    "    \n",
    "    #verification status\n",
    "    if(str.upper(loan_df_ini['isIncV'].values[0]) == 'NOT VERIFIED'):\n",
    "        loan_df['verification_status_Not Verified'] = 1\n",
    "    else:\n",
    "        loan_df['verification_status_Not Verified'] = 0\n",
    "\n",
    "    if(str.upper(loan_df_ini['isIncV'].values[0]) == 'VERIFIED'):\n",
    "        loan_df['verification_status_Verified'] = 1\n",
    "    else:\n",
    "        loan_df['verification_status_Verified'] = 0\n",
    "\n",
    "    if(str.upper(loan_df_ini['isIncV'].values[0]) == 'SOURCE VERIFIED'):\n",
    "        loan_df['verification_status_Source Verified'] = 1\n",
    "    else:\n",
    "        loan_df['verification_status_Source Verified'] = 0\n",
    "        \n",
    "        \n",
    "    #has delinq hist\n",
    "    loan_df['has_delinquent_hist'] = loan_df_ini['mthsSinceLastDelinq'].apply(lambda s : int(s!=None))\n",
    "    \n",
    "    #mths_since_last_record\n",
    "    loan_df['has_record_hist'] = loan_df_ini['mthsSinceLastRecord'].apply(lambda s : int(s!=None))\n",
    "    \n",
    "    #loan amount\n",
    "    loan_df['loan_amnt'] = loan_df_ini['loanAmount']\n",
    "    \n",
    "    #per_act_open\n",
    "    loan_df['per_act_open'] = loan_df_ini.openAcc/loan_df_ini.totalAcc\n",
    "    \n",
    "    #inqLast6Mths \n",
    "    loan_df['inq_last_6mths'] = loan_df_ini['inqLast6Mths']\n",
    "    \n",
    "    \n",
    "    #avg_fico\n",
    "    loan_df['avg_fico'] = (loan_df_ini['ficoRangeHigh'] +  loan_df_ini['ficoRangeLow'])/2\n",
    "    \n",
    "    \n",
    "    #revol_util\n",
    "    loan_df['revol_util'] = loan_df_ini['revolUtil']\n",
    "    \n",
    "    #revol_bal revolBal\n",
    "    loan_df['revol_bal'] = loan_df_ini['revolBal'] \n",
    "    \n",
    "    #dti\n",
    "    loan_df['dti'] = loan_df_ini['dti'] \n",
    "    \n",
    "    #years_since_first_credit\n",
    "    loan_df_ini['earliestCrLine'].unique()\n",
    "    ear_cl_df = loan_df_ini['earliestCrLine'].apply(lambda s : datetime.strptime(s[:7],'%Y-%m'))\n",
    "    yr_diff = [ rdelta.relativedelta(date(2016,1,1),pd.Timestamp(i).to_pydatetime()).years for i in ear_cl_df.values] \n",
    "    ear_cl_df = pd.DataFrame(yr_diff)\n",
    "    ear_cl_df.columns = ['years_since_first_credit']\n",
    "    loan_df['years_since_first_credit'] = ear_cl_df['years_since_first_credit']\n",
    "    \n",
    "    \n",
    "    #int_rate\n",
    "    loan_df['int_rate'] = loan_df_ini['intRate']\n",
    "    \n",
    "    #print(loan_df_ini['empLength'].values[0])\n",
    "    #print(type(loan_df_ini['empLength'].values[0]))\n",
    "    if loan_df_ini['empLength'].values[0] is None:\n",
    "        print(loan_df_ini['empLength'].values[0])\n",
    "        loan_df['emp_length'] = -1\n",
    "    else:\n",
    "        loan_df['emp_length'] = loan_df_ini['empLength']\n",
    "    #loan_df['emp_length'].replace(emp_dict, inplace=True)\n",
    "    \n",
    "    #desc_senti_score\n",
    "    afinn = Afinn()\n",
    "    def sent_score(s):\n",
    "        if s == None:\n",
    "            return 0\n",
    "        else:\n",
    "            afinn.score(s)\n",
    "\n",
    "    s_score = [sent_score(st) for st in loan_df_ini['desc'] ]\n",
    "    loan_df['desc_senti_score'] = s_score\n",
    "    \n",
    "    \n",
    "    #reading zipcode data\n",
    "    zip_code_agg = pd.read_csv('data/zip3_agg.csv')\n",
    "    #join with final df\n",
    "    loan_df_ini['zip_3'] = [int(zip[:3]) for zip in loan_df_ini.addrZip.values]\n",
    "    join_df = pd.merge(loan_df_ini,zip_code_agg,how='inner',on='zip_3')\n",
    "    join_df = join_df.rename(columns={'Median':'zip_median_income','Pop':'zip_pop'})\n",
    "    loan_df['zip_median_income'] = join_df['zip_median_income']\n",
    "    loan_df['zip_pop'] = join_df['zip_pop']\n",
    "    \n",
    "    \n",
    "    #delinq2Yrs delinq_2yrs\n",
    "    loan_df['delinq_2yrs'] = loan_df_ini['delinq2Yrs']\n",
    "    \n",
    "    #grade\n",
    "    if(str.upper(loan_df_ini['grade'].values[0]) == 'A'):\n",
    "        loan_df['grade_A'] = 1\n",
    "    else:\n",
    "        loan_df['grade_A'] = 0\n",
    "\n",
    "    if(str.upper(loan_df_ini['grade'].values[0]) == 'B'):\n",
    "        loan_df['grade_B'] = 1\n",
    "    else:\n",
    "        loan_df['grade_B'] = 0\n",
    "\n",
    "\n",
    "    if(str.upper(loan_df_ini['grade'].values[0]) == 'C'):\n",
    "        loan_df['grade_C'] = 1\n",
    "    else:\n",
    "        loan_df['grade_C'] = 0\n",
    "\n",
    "\n",
    "    if(str.upper(loan_df_ini['grade'].values[0]) == 'D'):\n",
    "        loan_df['grade_D'] = 1\n",
    "    else:\n",
    "        loan_df['grade_D'] = 0\n",
    "\n",
    "    if(str.upper(loan_df_ini['grade'].values[0]) == 'E'):\n",
    "        loan_df['grade_E'] = 1\n",
    "    else:\n",
    "        loan_df['grade_E'] = 0\n",
    "\n",
    "    if(str.upper(loan_df_ini['grade'].values[0]) == 'E'):\n",
    "        loan_df['grade_E'] = 1\n",
    "    else:\n",
    "        loan_df['grade_E'] = 0\n",
    "\n",
    "    if(str.upper(loan_df_ini['grade'].values[0]) == 'F'):\n",
    "        loan_df['grade_F'] = 1\n",
    "    else:\n",
    "        loan_df['grade_F'] = 0\n",
    "\n",
    "    if(str.upper(loan_df_ini['grade'].values[0]) == 'G'):\n",
    "        loan_df['grade_G'] = 1\n",
    "    else:\n",
    "        loan_df['grade_G'] = 0\n",
    "        \n",
    "        \n",
    "    #term term_ 36 months term_ 60 months\n",
    "    if(loan_df_ini['term'].values[0] == 36):\n",
    "        loan_df['term_ 36 months'] = 1\n",
    "    else:\n",
    "        loan_df['term_ 36 months'] = 0\n",
    "\n",
    "    if(loan_df_ini['term'].values[0] == 60):\n",
    "        loan_df['term_ 60 months'] = 1\n",
    "    else:\n",
    "        loan_df['term_ 60 months'] = 0\n",
    "        \n",
    "        \n",
    "    #purpose\n",
    "    if(loan_df_ini['purpose'].values[0] == 'credit_card'):\n",
    "        loan_df['purpose_credit_card'] = 1\n",
    "    else:\n",
    "        loan_df['purpose_credit_card'] = 0\n",
    "\n",
    "    if(loan_df_ini['purpose'].values[0] == 'debt_consolidation'):\n",
    "        loan_df['purpose_debt_consolidation'] = 1\n",
    "    else:\n",
    "        loan_df['purpose_debt_consolidation'] = 0\n",
    "\n",
    "    if(loan_df_ini['purpose'].values[0] == 'moving'):\n",
    "        loan_df['purpose_moving'] = 1\n",
    "    else:\n",
    "        loan_df['purpose_moving'] = 0\n",
    "\n",
    "    if(loan_df_ini['purpose'].values[0] == 'other'):\n",
    "        loan_df['purpose_other'] = 1\n",
    "    else:\n",
    "        loan_df['purpose_other'] = 0\n",
    "\n",
    "    if(loan_df_ini['purpose'].values[0] == 'home_improvement'):\n",
    "        loan_df['purpose_home_improvement'] = 1\n",
    "    else:\n",
    "        loan_df['purpose_home_improvement'] = 0\n",
    "\n",
    "    if(loan_df_ini['purpose'].values[0] == 'major_purchase'):\n",
    "        loan_df['purpose_major_purchase'] = 1\n",
    "    else:\n",
    "        loan_df['purpose_major_purchase'] = 0\n",
    "\n",
    "\n",
    "    if(loan_df_ini['purpose'].values[0] == 'car'):\n",
    "        loan_df['purpose_car'] = 1\n",
    "    else:\n",
    "        loan_df['purpose_car'] = 0\n",
    "\n",
    "    if(loan_df_ini['purpose'].values[0] == 'medical'):\n",
    "        loan_df['purpose_medical'] = 1\n",
    "    else:\n",
    "        loan_df['purpose_medical'] = 0\n",
    "\n",
    "    if(loan_df_ini['purpose'].values[0] == 'small_business'):\n",
    "        loan_df['purpose_small_business'] = 1\n",
    "    else:\n",
    "        loan_df['purpose_small_business'] = 0\n",
    "\n",
    "    if(loan_df_ini['purpose'].values[0] == 'educational'):\n",
    "        loan_df['purpose_educational'] = 1\n",
    "    else:\n",
    "        loan_df['purpose_educational'] = 0\n",
    "\n",
    "    if(loan_df_ini['purpose'].values[0] == 'vacation'):\n",
    "        loan_df['purpose_vacation'] = 1\n",
    "    else:\n",
    "        loan_df['purpose_vacation'] = 0\n",
    "\n",
    "    if(loan_df_ini['purpose'].values[0] == 'wedding'):\n",
    "        loan_df['purpose_wedding'] = 1\n",
    "    else:\n",
    "        loan_df['purpose_wedding'] = 0\n",
    "\n",
    "\n",
    "    if(loan_df_ini['purpose'].values[0] == 'house'):\n",
    "        loan_df['purpose_house'] = 1\n",
    "    else:\n",
    "        loan_df['purpose_house'] = 0\n",
    "\n",
    "    if(loan_df_ini['purpose'].values[0] == 'renewable_energy'):\n",
    "        loan_df['purpose_renewable_energy'] = 1\n",
    "    else:\n",
    "        loan_df['purpose_renewable_energy'] = 0\n",
    "        \n",
    "    #bankruptcies\n",
    "    loan_df['bankruptcies'] = loan_df_ini['pubRecBankruptcies']\n",
    "    \n",
    "    #id\n",
    "    loan_df['loan_id'] = loan_df_ini['id']\n",
    "    \n",
    "    #print(loan_df)\n",
    "    \n",
    "    return loan_df.copy()\n",
    "    \n",
    "\n"
   ]
  },
  {
   "cell_type": "code",
   "execution_count": 6,
   "metadata": {
    "collapsed": false
   },
   "outputs": [
    {
     "data": {
      "text/plain": [
       "163"
      ]
     },
     "execution_count": 6,
     "metadata": {},
     "output_type": "execute_result"
    }
   ],
   "source": [
    "#total number of listings\n",
    "len(data['loans'])"
   ]
  },
  {
   "cell_type": "code",
   "execution_count": 7,
   "metadata": {
    "collapsed": false
   },
   "outputs": [
    {
     "name": "stdout",
     "output_type": "stream",
     "text": [
      "None\n",
      "None\n",
      "None\n",
      "None\n",
      "None\n",
      "None\n",
      "None\n",
      "None\n",
      "None\n",
      "None\n",
      "None\n",
      "None\n",
      "None\n",
      "None\n",
      "None\n",
      "None\n",
      "None\n"
     ]
    }
   ],
   "source": [
    "#parsing loan listing to dataframe suitable for predicting\n",
    "loan_list = []\n",
    "for loan_data in data['loans']:\n",
    "    loan_list.append(process_data(loan_data))\n"
   ]
  },
  {
   "cell_type": "code",
   "execution_count": null,
   "metadata": {
    "collapsed": true
   },
   "outputs": [],
   "source": []
  },
  {
   "cell_type": "code",
   "execution_count": 8,
   "metadata": {
    "collapsed": false
   },
   "outputs": [
    {
     "data": {
      "text/html": [
       "<div>\n",
       "<table border=\"1\" class=\"dataframe\">\n",
       "  <thead>\n",
       "    <tr style=\"text-align: right;\">\n",
       "      <th></th>\n",
       "      <th>home_ownership</th>\n",
       "      <th>verification_status_Not Verified</th>\n",
       "      <th>verification_status_Verified</th>\n",
       "      <th>verification_status_Source Verified</th>\n",
       "      <th>has_delinquent_hist</th>\n",
       "      <th>has_record_hist</th>\n",
       "      <th>loan_amnt</th>\n",
       "      <th>per_act_open</th>\n",
       "      <th>inq_last_6mths</th>\n",
       "      <th>avg_fico</th>\n",
       "      <th>...</th>\n",
       "      <th>purpose_car</th>\n",
       "      <th>purpose_medical</th>\n",
       "      <th>purpose_small_business</th>\n",
       "      <th>purpose_educational</th>\n",
       "      <th>purpose_vacation</th>\n",
       "      <th>purpose_wedding</th>\n",
       "      <th>purpose_house</th>\n",
       "      <th>purpose_renewable_energy</th>\n",
       "      <th>bankruptcies</th>\n",
       "      <th>loan_id</th>\n",
       "    </tr>\n",
       "  </thead>\n",
       "  <tbody>\n",
       "    <tr>\n",
       "      <th>0</th>\n",
       "      <td>2</td>\n",
       "      <td>0</td>\n",
       "      <td>0</td>\n",
       "      <td>0</td>\n",
       "      <td>0</td>\n",
       "      <td>0</td>\n",
       "      <td>1000.0</td>\n",
       "      <td>0.294118</td>\n",
       "      <td>0</td>\n",
       "      <td>747.0</td>\n",
       "      <td>...</td>\n",
       "      <td>0</td>\n",
       "      <td>0</td>\n",
       "      <td>0</td>\n",
       "      <td>0</td>\n",
       "      <td>0</td>\n",
       "      <td>0</td>\n",
       "      <td>0</td>\n",
       "      <td>0</td>\n",
       "      <td>0</td>\n",
       "      <td>95275605</td>\n",
       "    </tr>\n",
       "    <tr>\n",
       "      <th>0</th>\n",
       "      <td>2</td>\n",
       "      <td>0</td>\n",
       "      <td>1</td>\n",
       "      <td>0</td>\n",
       "      <td>1</td>\n",
       "      <td>0</td>\n",
       "      <td>15000.0</td>\n",
       "      <td>0.263158</td>\n",
       "      <td>0</td>\n",
       "      <td>692.0</td>\n",
       "      <td>...</td>\n",
       "      <td>0</td>\n",
       "      <td>0</td>\n",
       "      <td>0</td>\n",
       "      <td>0</td>\n",
       "      <td>0</td>\n",
       "      <td>0</td>\n",
       "      <td>0</td>\n",
       "      <td>0</td>\n",
       "      <td>0</td>\n",
       "      <td>94036967</td>\n",
       "    </tr>\n",
       "  </tbody>\n",
       "</table>\n",
       "<p>2 rows × 45 columns</p>\n",
       "</div>"
      ],
      "text/plain": [
       "  home_ownership  verification_status_Not Verified  \\\n",
       "0              2                                 0   \n",
       "0              2                                 0   \n",
       "\n",
       "   verification_status_Verified  verification_status_Source Verified  \\\n",
       "0                             0                                    0   \n",
       "0                             1                                    0   \n",
       "\n",
       "   has_delinquent_hist  has_record_hist  loan_amnt  per_act_open  \\\n",
       "0                    0                0     1000.0      0.294118   \n",
       "0                    1                0    15000.0      0.263158   \n",
       "\n",
       "   inq_last_6mths  avg_fico    ...     purpose_car  purpose_medical  \\\n",
       "0               0     747.0    ...               0                0   \n",
       "0               0     692.0    ...               0                0   \n",
       "\n",
       "   purpose_small_business  purpose_educational  purpose_vacation  \\\n",
       "0                       0                    0                 0   \n",
       "0                       0                    0                 0   \n",
       "\n",
       "   purpose_wedding  purpose_house  purpose_renewable_energy  bankruptcies  \\\n",
       "0                0              0                         0             0   \n",
       "0                0              0                         0             0   \n",
       "\n",
       "    loan_id  \n",
       "0  95275605  \n",
       "0  94036967  \n",
       "\n",
       "[2 rows x 45 columns]"
      ]
     },
     "execution_count": 8,
     "metadata": {},
     "output_type": "execute_result"
    }
   ],
   "source": [
    "loan_df = pd.concat(loan_list)\n",
    "loan_df.head(2)"
   ]
  },
  {
   "cell_type": "code",
   "execution_count": 9,
   "metadata": {
    "collapsed": false
   },
   "outputs": [
    {
     "data": {
      "text/plain": [
       "(163, 45)"
      ]
     },
     "execution_count": 9,
     "metadata": {},
     "output_type": "execute_result"
    }
   ],
   "source": [
    "loan_df.shape"
   ]
  },
  {
   "cell_type": "code",
   "execution_count": 11,
   "metadata": {
    "collapsed": true
   },
   "outputs": [],
   "source": [
    "#creating a copy of data\n",
    "loan_df_test = loan_df.copy()"
   ]
  },
  {
   "cell_type": "code",
   "execution_count": 12,
   "metadata": {
    "collapsed": false
   },
   "outputs": [
    {
     "data": {
      "text/html": [
       "<div>\n",
       "<table border=\"1\" class=\"dataframe\">\n",
       "  <thead>\n",
       "    <tr style=\"text-align: right;\">\n",
       "      <th></th>\n",
       "      <th>home_ownership</th>\n",
       "      <th>verification_status_Not Verified</th>\n",
       "      <th>verification_status_Verified</th>\n",
       "      <th>verification_status_Source Verified</th>\n",
       "      <th>has_delinquent_hist</th>\n",
       "      <th>has_record_hist</th>\n",
       "      <th>loan_amnt</th>\n",
       "      <th>per_act_open</th>\n",
       "      <th>inq_last_6mths</th>\n",
       "      <th>avg_fico</th>\n",
       "      <th>...</th>\n",
       "      <th>purpose_car</th>\n",
       "      <th>purpose_medical</th>\n",
       "      <th>purpose_small_business</th>\n",
       "      <th>purpose_educational</th>\n",
       "      <th>purpose_vacation</th>\n",
       "      <th>purpose_wedding</th>\n",
       "      <th>purpose_house</th>\n",
       "      <th>purpose_renewable_energy</th>\n",
       "      <th>bankruptcies</th>\n",
       "      <th>loan_id</th>\n",
       "    </tr>\n",
       "  </thead>\n",
       "  <tbody>\n",
       "    <tr>\n",
       "      <th>0</th>\n",
       "      <td>2</td>\n",
       "      <td>0</td>\n",
       "      <td>0</td>\n",
       "      <td>0</td>\n",
       "      <td>0</td>\n",
       "      <td>0</td>\n",
       "      <td>1000.0</td>\n",
       "      <td>0.294118</td>\n",
       "      <td>0</td>\n",
       "      <td>747.0</td>\n",
       "      <td>...</td>\n",
       "      <td>0</td>\n",
       "      <td>0</td>\n",
       "      <td>0</td>\n",
       "      <td>0</td>\n",
       "      <td>0</td>\n",
       "      <td>0</td>\n",
       "      <td>0</td>\n",
       "      <td>0</td>\n",
       "      <td>0</td>\n",
       "      <td>95275605</td>\n",
       "    </tr>\n",
       "    <tr>\n",
       "      <th>0</th>\n",
       "      <td>2</td>\n",
       "      <td>0</td>\n",
       "      <td>1</td>\n",
       "      <td>0</td>\n",
       "      <td>1</td>\n",
       "      <td>0</td>\n",
       "      <td>15000.0</td>\n",
       "      <td>0.263158</td>\n",
       "      <td>0</td>\n",
       "      <td>692.0</td>\n",
       "      <td>...</td>\n",
       "      <td>0</td>\n",
       "      <td>0</td>\n",
       "      <td>0</td>\n",
       "      <td>0</td>\n",
       "      <td>0</td>\n",
       "      <td>0</td>\n",
       "      <td>0</td>\n",
       "      <td>0</td>\n",
       "      <td>0</td>\n",
       "      <td>94036967</td>\n",
       "    </tr>\n",
       "  </tbody>\n",
       "</table>\n",
       "<p>2 rows × 45 columns</p>\n",
       "</div>"
      ],
      "text/plain": [
       "  home_ownership  verification_status_Not Verified  \\\n",
       "0              2                                 0   \n",
       "0              2                                 0   \n",
       "\n",
       "   verification_status_Verified  verification_status_Source Verified  \\\n",
       "0                             0                                    0   \n",
       "0                             1                                    0   \n",
       "\n",
       "   has_delinquent_hist  has_record_hist  loan_amnt  per_act_open  \\\n",
       "0                    0                0     1000.0      0.294118   \n",
       "0                    1                0    15000.0      0.263158   \n",
       "\n",
       "   inq_last_6mths  avg_fico    ...     purpose_car  purpose_medical  \\\n",
       "0               0     747.0    ...               0                0   \n",
       "0               0     692.0    ...               0                0   \n",
       "\n",
       "   purpose_small_business  purpose_educational  purpose_vacation  \\\n",
       "0                       0                    0                 0   \n",
       "0                       0                    0                 0   \n",
       "\n",
       "   purpose_wedding  purpose_house  purpose_renewable_energy  bankruptcies  \\\n",
       "0                0              0                         0             0   \n",
       "0                0              0                         0             0   \n",
       "\n",
       "    loan_id  \n",
       "0  95275605  \n",
       "0  94036967  \n",
       "\n",
       "[2 rows x 45 columns]"
      ]
     },
     "execution_count": 12,
     "metadata": {},
     "output_type": "execute_result"
    }
   ],
   "source": [
    "loan_df_test.head(2)"
   ]
  },
  {
   "cell_type": "markdown",
   "metadata": {},
   "source": [
    "#### Normalize Data"
   ]
  },
  {
   "cell_type": "code",
   "execution_count": 13,
   "metadata": {
    "collapsed": false
   },
   "outputs": [
    {
     "data": {
      "text/plain": [
       "(39301, 67)"
      ]
     },
     "execution_count": 13,
     "metadata": {},
     "output_type": "execute_result"
    }
   ],
   "source": [
    "#reading training set\n",
    "df_processed = pd.read_csv('data/loan_fteng_data_text.csv')\n",
    "df_processed.shape"
   ]
  },
  {
   "cell_type": "code",
   "execution_count": 14,
   "metadata": {
    "collapsed": true
   },
   "outputs": [],
   "source": [
    "#all features\n",
    "all_features = list(df_processed.columns)\n",
    "tfidf_features = ['bill', 'card', 'consolid', 'credit', 'current', 'debt', 'fund', 'help',\n",
    "       'interest', 'job', 'loan', 'money', 'month', 'pay', 'payment', 'plan',\n",
    "       'rate', 'thank', 'time', 'work', 'year']\n",
    "del_columns = ['funded_amnt_inv'] + tfidf_features\n",
    "#Using intution to pick key predictors\n",
    "predictors_intution = ['home_ownership','verification_status_Not Verified',\n",
    "       'verification_status_Source Verified', 'verification_status_Verified','has_delinquent_hist','has_record_hist']\n",
    "# % and whole numbers that can be standardized\n",
    "predictors_standardizable = ['loan_amnt','per_act_open','inq_last_6mths','avg_fico','revol_util','revol_bal','dti','years_since_first_credit','int_rate','emp_length','desc_senti_score','zip_median_income', 'zip_pop','delinq_2yrs','bankruptcies']\n",
    "predictors_remaining = [i for i in all_features if i not in predictors_intution and i not in predictors_standardizable and i not in del_columns]"
   ]
  },
  {
   "cell_type": "code",
   "execution_count": 15,
   "metadata": {
    "collapsed": false
   },
   "outputs": [
    {
     "data": {
      "text/plain": [
       "45"
      ]
     },
     "execution_count": 15,
     "metadata": {},
     "output_type": "execute_result"
    }
   ],
   "source": [
    "#validating if all columns are there\n",
    "test = predictors_intution + predictors_standardizable + predictors_remaining\n",
    "len(test)"
   ]
  },
  {
   "cell_type": "code",
   "execution_count": 16,
   "metadata": {
    "collapsed": false
   },
   "outputs": [
    {
     "data": {
      "text/plain": [
       "['loan_status',\n",
       " 'grade_A',\n",
       " 'grade_B',\n",
       " 'grade_C',\n",
       " 'grade_D',\n",
       " 'grade_E',\n",
       " 'grade_F',\n",
       " 'grade_G',\n",
       " 'term_ 36 months',\n",
       " 'term_ 60 months',\n",
       " 'purpose_car',\n",
       " 'purpose_credit_card',\n",
       " 'purpose_debt_consolidation',\n",
       " 'purpose_educational',\n",
       " 'purpose_home_improvement',\n",
       " 'purpose_house',\n",
       " 'purpose_major_purchase',\n",
       " 'purpose_medical',\n",
       " 'purpose_moving',\n",
       " 'purpose_other',\n",
       " 'purpose_renewable_energy',\n",
       " 'purpose_small_business',\n",
       " 'purpose_vacation',\n",
       " 'purpose_wedding']"
      ]
     },
     "execution_count": 16,
     "metadata": {},
     "output_type": "execute_result"
    }
   ],
   "source": [
    "predictors_remaining"
   ]
  },
  {
   "cell_type": "code",
   "execution_count": 17,
   "metadata": {
    "collapsed": false
   },
   "outputs": [
    {
     "data": {
      "text/plain": [
       "44"
      ]
     },
     "execution_count": 17,
     "metadata": {},
     "output_type": "execute_result"
    }
   ],
   "source": [
    "full_df = df_processed.loc[:,test]\n",
    "predictor_columns = list(full_df.columns)\n",
    "predictor_columns.remove('loan_status')\n",
    "len(predictor_columns)"
   ]
  },
  {
   "cell_type": "code",
   "execution_count": 18,
   "metadata": {
    "collapsed": false
   },
   "outputs": [
    {
     "name": "stdout",
     "output_type": "stream",
     "text": [
      "loan_amnt\n",
      "per_act_open\n",
      "inq_last_6mths\n",
      "avg_fico\n",
      "revol_util\n",
      "revol_bal\n",
      "dti\n",
      "years_since_first_credit\n",
      "int_rate\n",
      "emp_length\n",
      "desc_senti_score\n",
      "zip_median_income\n",
      "zip_pop\n",
      "delinq_2yrs\n",
      "bankruptcies\n"
     ]
    },
    {
     "name": "stderr",
     "output_type": "stream",
     "text": [
      "/Users/ajaykliyara/anaconda_py3/anaconda/lib/python3.5/site-packages/sklearn/utils/validation.py:429: DataConversionWarning: Data with input dtype int64 was converted to float64 by StandardScaler.\n",
      "  warnings.warn(msg, _DataConversionWarning)\n"
     ]
    }
   ],
   "source": [
    "#standardizing data\n",
    "for col in predictors_standardizable:\n",
    "    print(col)\n",
    "    valstrain=full_df.loc[:,col]\n",
    "    valstest=loan_df.loc[:,col]\n",
    "    scaler=StandardScaler().fit(valstrain.reshape(-1,1))\n",
    "    outtrain=scaler.transform(valstrain.reshape(-1,1))\n",
    "    outtest=scaler.fit_transform(valstest.reshape(-1,1))\n",
    "    #out=np.empty(mask.shape[0])\n",
    "    #out.flat[mask]=outtrain\n",
    "    #out.flat[~mask]=outtest\n",
    "    full_df[col]=outtrain\n",
    "    loan_df[col]=outtest"
   ]
  },
  {
   "cell_type": "code",
   "execution_count": 19,
   "metadata": {
    "collapsed": true
   },
   "outputs": [],
   "source": [
    "#predictor vs response\n",
    "X =full_df[predictor_columns]\n",
    "Y =full_df['loan_status']"
   ]
  },
  {
   "cell_type": "markdown",
   "metadata": {},
   "source": [
    "#### balancing data"
   ]
  },
  {
   "cell_type": "code",
   "execution_count": 20,
   "metadata": {
    "collapsed": false
   },
   "outputs": [
    {
     "name": "stdout",
     "output_type": "stream",
     "text": [
      "5652 33649\n"
     ]
    }
   ],
   "source": [
    "#balancing dataset\n",
    "jtrain=np.arange(0, Y.shape[0])\n",
    "n_pos=len(jtrain[Y.values==1])\n",
    "n_neg=len(jtrain[Y.values==0])\n",
    "print(n_pos, n_neg)\n"
   ]
  },
  {
   "cell_type": "code",
   "execution_count": 21,
   "metadata": {
    "collapsed": false
   },
   "outputs": [
    {
     "data": {
      "text/plain": [
       "array([ 7987, 37145, 13363, ..., 23502,  8155, 33400])"
      ]
     },
     "execution_count": 21,
     "metadata": {},
     "output_type": "execute_result"
    }
   ],
   "source": [
    "ineg = np.random.choice(jtrain[Y.values==0], n_pos, replace=False)\n",
    "ineg"
   ]
  },
  {
   "cell_type": "code",
   "execution_count": 22,
   "metadata": {
    "collapsed": false
   },
   "outputs": [
    {
     "data": {
      "text/plain": [
       "(11304,)"
      ]
     },
     "execution_count": 22,
     "metadata": {},
     "output_type": "execute_result"
    }
   ],
   "source": [
    "alli=np.concatenate((jtrain[Y.values==1], ineg))\n",
    "alli.shape"
   ]
  },
  {
   "cell_type": "code",
   "execution_count": 23,
   "metadata": {
    "collapsed": false
   },
   "outputs": [
    {
     "data": {
      "text/plain": [
       "((11304, 44), (11304,))"
      ]
     },
     "execution_count": 23,
     "metadata": {},
     "output_type": "execute_result"
    }
   ],
   "source": [
    "X_new = X.iloc[alli,:]\n",
    "Y_new = Y.iloc[alli]\n",
    "X_new.shape, Y_new.shape"
   ]
  },
  {
   "cell_type": "code",
   "execution_count": 24,
   "metadata": {
    "collapsed": true
   },
   "outputs": [],
   "source": [
    "#best classifier\n",
    "clf = LogisticRegression(C=10.0, class_weight=None, dual=False, fit_intercept=True,\n",
    "          intercept_scaling=1, max_iter=100, multi_class='ovr', n_jobs=1,\n",
    "          penalty='l1', random_state=None, solver='liblinear', tol=0.0001,\n",
    "          verbose=0, warm_start=False)"
   ]
  },
  {
   "cell_type": "code",
   "execution_count": 25,
   "metadata": {
    "collapsed": false
   },
   "outputs": [
    {
     "data": {
      "text/plain": [
       "LogisticRegression(C=10.0, class_weight=None, dual=False, fit_intercept=True,\n",
       "          intercept_scaling=1, max_iter=100, multi_class='ovr', n_jobs=1,\n",
       "          penalty='l1', random_state=None, solver='liblinear', tol=0.0001,\n",
       "          verbose=0, warm_start=False)"
      ]
     },
     "execution_count": 25,
     "metadata": {},
     "output_type": "execute_result"
    }
   ],
   "source": [
    "#fitting data\n",
    "clf.fit(X_new,Y_new)"
   ]
  },
  {
   "cell_type": "code",
   "execution_count": 26,
   "metadata": {
    "collapsed": false
   },
   "outputs": [
    {
     "data": {
      "text/plain": [
       "0.64260438782731777"
      ]
     },
     "execution_count": 26,
     "metadata": {},
     "output_type": "execute_result"
    }
   ],
   "source": [
    "#accuracy\n",
    "y_predict = clf.predict(X_new)\n",
    "np.mean(Y_new==y_predict)"
   ]
  },
  {
   "cell_type": "code",
   "execution_count": 27,
   "metadata": {
    "collapsed": false
   },
   "outputs": [
    {
     "data": {
      "text/plain": [
       "array([[3618, 2034],\n",
       "       [2006, 3646]])"
      ]
     },
     "execution_count": 27,
     "metadata": {},
     "output_type": "execute_result"
    }
   ],
   "source": [
    "cm = confusion_matrix(Y_new,y_predict)\n",
    "cm"
   ]
  },
  {
   "cell_type": "code",
   "execution_count": 28,
   "metadata": {
    "collapsed": false
   },
   "outputs": [
    {
     "data": {
      "text/plain": [
       "array([[ 1333.,    -0.],\n",
       "       [-6108.,    -0.]])"
      ]
     },
     "execution_count": 28,
     "metadata": {},
     "output_type": "execute_result"
    }
   ],
   "source": [
    "#profit matrix\n",
    "u = np.array([[ 1333.,    -0.],\n",
    "       [-6108.,    -0.]])\n",
    "u"
   ]
  },
  {
   "cell_type": "code",
   "execution_count": 29,
   "metadata": {
    "collapsed": false
   },
   "outputs": [
    {
     "data": {
      "text/plain": [
       "-657.27653927813162"
      ]
     },
     "execution_count": 29,
     "metadata": {},
     "output_type": "execute_result"
    }
   ],
   "source": [
    "#calculating average profit per loan\n",
    "def average_profit_pl(y, ypred, u):\n",
    "    c=confusion_matrix(y,ypred)\n",
    "    score=np.sum(c*u)/np.sum(c)\n",
    "    return score\n",
    "\n",
    "#profit \n",
    "average_profit_pl(Y_new, clf.predict(X_new), u)"
   ]
  },
  {
   "cell_type": "code",
   "execution_count": 30,
   "metadata": {
    "collapsed": false
   },
   "outputs": [
    {
     "data": {
      "text/plain": [
       "0.65000000000000002"
      ]
     },
     "execution_count": 30,
     "metadata": {},
     "output_type": "execute_result"
    }
   ],
   "source": [
    "sen = round(cm[(1,1)]/(cm[(1,0)] + cm[(1,1)]),2)\n",
    "sen"
   ]
  },
  {
   "cell_type": "code",
   "execution_count": 31,
   "metadata": {
    "collapsed": false
   },
   "outputs": [
    {
     "data": {
      "text/plain": [
       "0.69398694084702306"
      ]
     },
     "execution_count": 31,
     "metadata": {},
     "output_type": "execute_result"
    }
   ],
   "source": [
    "fpr, tpr, thresholds=roc_curve(Y_new, clf.predict_proba(X_new)[:,1])\n",
    "auc(fpr,tpr)"
   ]
  },
  {
   "cell_type": "markdown",
   "metadata": {},
   "source": [
    "#### Predicting New Loan"
   ]
  },
  {
   "cell_type": "code",
   "execution_count": 32,
   "metadata": {
    "collapsed": false
   },
   "outputs": [
    {
     "data": {
      "text/plain": [
       "Index(['home_ownership', 'verification_status_Not Verified',\n",
       "       'verification_status_Verified', 'verification_status_Source Verified',\n",
       "       'has_delinquent_hist', 'has_record_hist', 'loan_amnt', 'per_act_open',\n",
       "       'inq_last_6mths', 'avg_fico', 'revol_util', 'revol_bal', 'dti',\n",
       "       'years_since_first_credit', 'int_rate', 'emp_length',\n",
       "       'desc_senti_score', 'zip_median_income', 'zip_pop', 'delinq_2yrs',\n",
       "       'grade_A', 'grade_B', 'grade_C', 'grade_D', 'grade_E', 'grade_F',\n",
       "       'grade_G', 'term_ 36 months', 'term_ 60 months', 'purpose_credit_card',\n",
       "       'purpose_debt_consolidation', 'purpose_moving', 'purpose_other',\n",
       "       'purpose_home_improvement', 'purpose_major_purchase', 'purpose_car',\n",
       "       'purpose_medical', 'purpose_small_business', 'purpose_educational',\n",
       "       'purpose_vacation', 'purpose_wedding', 'purpose_house',\n",
       "       'purpose_renewable_energy', 'bankruptcies', 'loan_id'],\n",
       "      dtype='object')"
      ]
     },
     "execution_count": 32,
     "metadata": {},
     "output_type": "execute_result"
    }
   ],
   "source": [
    "loan_df.columns"
   ]
  },
  {
   "cell_type": "code",
   "execution_count": 36,
   "metadata": {
    "collapsed": false
   },
   "outputs": [],
   "source": [
    "#predicting new loan\n",
    "X_test =loan_df[predictor_columns]\n",
    "#Y_test =loan_df['loan_status']\n",
    "\n",
    "#removing any\n",
    "X_test = X_test.loc[~(X_test.home_ownership == 'ANY'),:]\n",
    "loan_df = loan_df.loc[~(loan_df.home_ownership == 'ANY'),:]\n",
    "loan_df_test = loan_df_test.loc[~(loan_df_test.home_ownership == 'ANY'),:]"
   ]
  },
  {
   "cell_type": "code",
   "execution_count": 37,
   "metadata": {
    "collapsed": false
   },
   "outputs": [
    {
     "data": {
      "text/plain": [
       "array([0, 1])"
      ]
     },
     "execution_count": 37,
     "metadata": {},
     "output_type": "execute_result"
    }
   ],
   "source": [
    "clf.classes_"
   ]
  },
  {
   "cell_type": "code",
   "execution_count": 38,
   "metadata": {
    "collapsed": false
   },
   "outputs": [],
   "source": [
    "test_pred = clf.predict(X_test)\n",
    "test_prob = clf.predict_proba(X_test)[:,1]"
   ]
  },
  {
   "cell_type": "code",
   "execution_count": 39,
   "metadata": {
    "collapsed": false
   },
   "outputs": [],
   "source": [
    "loan_df['pred'] = test_pred\n",
    "loan_df['prob'] = test_prob"
   ]
  },
  {
   "cell_type": "code",
   "execution_count": 40,
   "metadata": {
    "collapsed": true
   },
   "outputs": [],
   "source": [
    "loan_df_test['pred'] = test_pred\n",
    "loan_df_test['prob'] = test_prob"
   ]
  },
  {
   "cell_type": "code",
   "execution_count": 41,
   "metadata": {
    "collapsed": false
   },
   "outputs": [
    {
     "data": {
      "text/plain": [
       "0.2608695652173913"
      ]
     },
     "execution_count": 41,
     "metadata": {},
     "output_type": "execute_result"
    }
   ],
   "source": [
    "np.mean(test_pred)"
   ]
  },
  {
   "cell_type": "code",
   "execution_count": 42,
   "metadata": {
    "collapsed": false
   },
   "outputs": [
    {
     "data": {
      "text/plain": [
       "0    95275605\n",
       "0    94036967\n",
       "0    94128608\n",
       "0    93453822\n",
       "0    94132494\n",
       "Name: loan_id, dtype: int64"
      ]
     },
     "execution_count": 42,
     "metadata": {},
     "output_type": "execute_result"
    }
   ],
   "source": [
    "loan_df.loan_id[:5]"
   ]
  },
  {
   "cell_type": "code",
   "execution_count": 43,
   "metadata": {
    "collapsed": false
   },
   "outputs": [
    {
     "data": {
      "text/plain": [
       "0    30.99\n",
       "0    30.89\n",
       "0    30.84\n",
       "0    30.79\n",
       "0    30.74\n",
       "Name: int_rate, dtype: float64"
      ]
     },
     "execution_count": 43,
     "metadata": {},
     "output_type": "execute_result"
    }
   ],
   "source": [
    "loan_df_test.sort_values(by='int_rate',ascending=False,inplace=True)\n",
    "loan_df_test['int_rate'].head()"
   ]
  },
  {
   "cell_type": "code",
   "execution_count": 52,
   "metadata": {
    "collapsed": false
   },
   "outputs": [],
   "source": [
    "def predict_loan():\n",
    "    loan_id = input('Enter Loan ID obtained from LendingClub?\\n\\n')\n",
    "\n",
    "    \n",
    "    df = loan_df.loc[loan_df.loan_id == int(loan_id),:]\n",
    "    \n",
    "    if df.shape[0] == 0:\n",
    "        print('Loan ID {} Invalid'.format(loan_id))\n",
    "        return\n",
    "    else:\n",
    "        risk = input('\\n Enter : \\n 1 for Loans with high risk \\n 2 for Loans with low risk \\n\\n')\n",
    "        print('\\n')\n",
    "        \n",
    "        if risk == '1':\n",
    "            if 1-df.prob.values[0] >= 0.5:\n",
    "                print('Go ahead and fund the loan. Remember carries high risk, probability of failure {}'.format(df.prob.values[0]))\n",
    "            else:\n",
    "                print('Do not fund the loan. Probaility of failure {} \\n \\n'.format(df.prob.values[0]))\n",
    "                high_risk_df = loan_df_test.loc[loan_df_test.prob < 0.5 ,['loan_id','loan_amnt','int_rate','prob']]\n",
    "                if high_risk_df.shape[0] == 0:\n",
    "                    print('\\n Currently there are no High risk loans available to recommend \\n')\n",
    "                else:\n",
    "                    print('\\n Here are the recommendation of available loans for selected Risk Level : High \\n')\n",
    "                    print(high_risk_df.sort_values(by='int_rate',ascending=False,inplace=True))\n",
    "                \n",
    "        elif risk == '2':\n",
    "            if 1-df.prob.values[0] >= 0.7:\n",
    "                print('Go ahead and fund the loan. Low Risk, probability of failure {}'.format(df.prob.values[0]))\n",
    "            else:\n",
    "                print('Do not fund the loan. Probaility of failure {}'.format(df.prob.values[0]))\n",
    "                low_risk_df = loan_df_test.loc[loan_df_test.prob < 0.3 ,['loan_id','loan_amnt','int_rate','prob']]\n",
    "                if low_risk_df.shape[0] == 0:\n",
    "                    print('\\n Currently there are no Low risk loans available to recommend \\n')\n",
    "                else:\n",
    "                    print('\\n Here are the recommendation of available loans for selected Risk Level : Low \\n')\n",
    "                    print(low_risk_df.sort_values(by='int_rate',ascending=False,inplace=False))\n",
    "        else:\n",
    "            print('\\n Invalid Entry. Restart \\n')\n",
    "            predict_loan()"
   ]
  },
  {
   "cell_type": "markdown",
   "metadata": {},
   "source": [
    "<img src='images/loan_.png'>"
   ]
  },
  {
   "cell_type": "code",
   "execution_count": 55,
   "metadata": {
    "collapsed": false
   },
   "outputs": [
    {
     "name": "stdout",
     "output_type": "stream",
     "text": [
      "Enter Loan ID obtained from LendingClub?\n",
      "\n",
      "94128608\n",
      "\n",
      " Enter : \n",
      " 1 for Loans with high risk \n",
      " 2 for Loans with low risk \n",
      "\n",
      "2\n",
      "\n",
      "\n",
      "Do not fund the loan. Probaility of failure 0.3802768202024579\n",
      "\n",
      " Here are the recommendation of available loans for selected Risk Level : Low \n",
      "\n",
      "    loan_id  loan_amnt  int_rate      prob\n",
      "0  94020066    12800.0     12.74  0.282091\n",
      "0  95057217    35000.0     12.74  0.265916\n",
      "0  94113979    30825.0     11.49  0.274687\n",
      "0  94468565    10000.0     11.44  0.246254\n",
      "0  94036967    15000.0     11.39  0.236314\n",
      "0  93919718     6000.0     10.49  0.270379\n",
      "0  95217146     4000.0      8.24  0.235350\n",
      "0  94093942     2000.0      8.24  0.246253\n",
      "0  94467548     6600.0      8.24  0.261518\n",
      "0  94302395    25000.0      8.24  0.293289\n",
      "0  94132494     1000.0      8.24  0.287027\n",
      "0  94173103     8000.0      8.24  0.273593\n",
      "0  95322418     9600.0      7.99  0.186599\n",
      "0  95262211     6000.0      7.99  0.229670\n",
      "0  95217770     7600.0      7.99  0.214814\n",
      "0  95137075     2000.0      7.49  0.238155\n",
      "0  94069958    10000.0      7.49  0.148285\n",
      "0  95187790    24000.0      7.49  0.258950\n",
      "0  93654341    10000.0      7.49  0.223229\n",
      "0  95275851     5000.0      7.49  0.293322\n",
      "0  95169577     4000.0      7.24  0.255182\n",
      "0  94394055    30000.0      7.24  0.159540\n",
      "0  95037486    12000.0      6.99  0.228885\n",
      "0  95149418     7500.0      5.32  0.171984\n",
      "0  95267365    15000.0      5.32  0.133601\n"
     ]
    }
   ],
   "source": [
    "predict_loan()"
   ]
  },
  {
   "cell_type": "markdown",
   "metadata": {},
   "source": [
    "<img src='images/recom_loan__.png'>"
   ]
  },
  {
   "cell_type": "code",
   "execution_count": null,
   "metadata": {
    "collapsed": true
   },
   "outputs": [],
   "source": [
    "#replace loan df with the one before standardization.\n",
    "#sort dataframe in decreasign order of interest"
   ]
  },
  {
   "cell_type": "code",
   "execution_count": 213,
   "metadata": {
    "collapsed": false
   },
   "outputs": [],
   "source": [
    "#loan_df.loc[loan_df.prob < 0.5 ,['loan_id','loan_amnt','int_rate','prob']]\n"
   ]
  },
  {
   "cell_type": "code",
   "execution_count": null,
   "metadata": {
    "collapsed": true
   },
   "outputs": [],
   "source": []
  }
 ],
 "metadata": {
  "kernelspec": {
   "display_name": "Python [Root]",
   "language": "python",
   "name": "Python [Root]"
  },
  "language_info": {
   "codemirror_mode": {
    "name": "ipython",
    "version": 3
   },
   "file_extension": ".py",
   "mimetype": "text/x-python",
   "name": "python",
   "nbconvert_exporter": "python",
   "pygments_lexer": "ipython3",
   "version": "3.5.2"
  }
 },
 "nbformat": 4,
 "nbformat_minor": 0
}
